{
 "cells": [
  {
   "cell_type": "code",
   "execution_count": 1,
   "metadata": {
    "execution": {
     "iopub.execute_input": "2023-11-07T11:23:15.415462Z",
     "iopub.status.busy": "2023-11-07T11:23:15.415047Z",
     "iopub.status.idle": "2023-11-07T11:23:16.519772Z",
     "shell.execute_reply": "2023-11-07T11:23:16.518462Z",
     "shell.execute_reply.started": "2023-11-07T11:23:15.415428Z"
    },
    "trusted": true
   },
   "outputs": [],
   "source": [
    "# import required libraries for dataframe and visualization\n",
    "\n",
    "import numpy as np\n",
    "import pandas as pd\n",
    "import matplotlib.pyplot as plt\n",
    "import seaborn as sns\n",
    "import datetime as dt\n",
    "\n",
    "\n",
    "# import required libraries for clustering\n",
    "import sklearn\n",
    "from sklearn.preprocessing import StandardScaler\n",
    "from sklearn.cluster import KMeans\n",
    "from sklearn.metrics import silhouette_score\n",
    "from scipy.cluster.hierarchy import linkage\n",
    "from scipy.cluster.hierarchy import dendrogram\n",
    "from scipy.cluster.hierarchy import cut_tree\n",
    "\n",
    "import warnings\n",
    "warnings.filterwarnings(\"ignore\")\n",
    "%matplotlib inline"
   ]
  },
  {
   "cell_type": "code",
   "execution_count": 2,
   "metadata": {
    "execution": {
     "iopub.execute_input": "2023-11-07T11:23:20.054888Z",
     "iopub.status.busy": "2023-11-07T11:23:20.053872Z",
     "iopub.status.idle": "2023-11-07T11:23:21.855231Z",
     "shell.execute_reply": "2023-11-07T11:23:21.854159Z",
     "shell.execute_reply.started": "2023-11-07T11:23:20.054853Z"
    },
    "trusted": true
   },
   "outputs": [
    {
     "data": {
      "text/html": [
       "<div>\n",
       "<style scoped>\n",
       "    .dataframe tbody tr th:only-of-type {\n",
       "        vertical-align: middle;\n",
       "    }\n",
       "\n",
       "    .dataframe tbody tr th {\n",
       "        vertical-align: top;\n",
       "    }\n",
       "\n",
       "    .dataframe thead th {\n",
       "        text-align: right;\n",
       "    }\n",
       "</style>\n",
       "<table border=\"1\" class=\"dataframe\">\n",
       "  <thead>\n",
       "    <tr style=\"text-align: right;\">\n",
       "      <th></th>\n",
       "      <th>Invoice</th>\n",
       "      <th>StockCode</th>\n",
       "      <th>Description</th>\n",
       "      <th>Quantity</th>\n",
       "      <th>InvoiceDate</th>\n",
       "      <th>Price</th>\n",
       "      <th>Customer ID</th>\n",
       "      <th>Country</th>\n",
       "    </tr>\n",
       "  </thead>\n",
       "  <tbody>\n",
       "    <tr>\n",
       "      <th>0</th>\n",
       "      <td>489434</td>\n",
       "      <td>85048</td>\n",
       "      <td>15CM CHRISTMAS GLASS BALL 20 LIGHTS</td>\n",
       "      <td>12</td>\n",
       "      <td>2009-12-01 07:45:00</td>\n",
       "      <td>6.95</td>\n",
       "      <td>13085.0</td>\n",
       "      <td>United Kingdom</td>\n",
       "    </tr>\n",
       "    <tr>\n",
       "      <th>1</th>\n",
       "      <td>489434</td>\n",
       "      <td>79323P</td>\n",
       "      <td>PINK CHERRY LIGHTS</td>\n",
       "      <td>12</td>\n",
       "      <td>2009-12-01 07:45:00</td>\n",
       "      <td>6.75</td>\n",
       "      <td>13085.0</td>\n",
       "      <td>United Kingdom</td>\n",
       "    </tr>\n",
       "    <tr>\n",
       "      <th>2</th>\n",
       "      <td>489434</td>\n",
       "      <td>79323W</td>\n",
       "      <td>WHITE CHERRY LIGHTS</td>\n",
       "      <td>12</td>\n",
       "      <td>2009-12-01 07:45:00</td>\n",
       "      <td>6.75</td>\n",
       "      <td>13085.0</td>\n",
       "      <td>United Kingdom</td>\n",
       "    </tr>\n",
       "    <tr>\n",
       "      <th>3</th>\n",
       "      <td>489434</td>\n",
       "      <td>22041</td>\n",
       "      <td>RECORD FRAME 7\" SINGLE SIZE</td>\n",
       "      <td>48</td>\n",
       "      <td>2009-12-01 07:45:00</td>\n",
       "      <td>2.10</td>\n",
       "      <td>13085.0</td>\n",
       "      <td>United Kingdom</td>\n",
       "    </tr>\n",
       "    <tr>\n",
       "      <th>4</th>\n",
       "      <td>489434</td>\n",
       "      <td>21232</td>\n",
       "      <td>STRAWBERRY CERAMIC TRINKET BOX</td>\n",
       "      <td>24</td>\n",
       "      <td>2009-12-01 07:45:00</td>\n",
       "      <td>1.25</td>\n",
       "      <td>13085.0</td>\n",
       "      <td>United Kingdom</td>\n",
       "    </tr>\n",
       "    <tr>\n",
       "      <th>...</th>\n",
       "      <td>...</td>\n",
       "      <td>...</td>\n",
       "      <td>...</td>\n",
       "      <td>...</td>\n",
       "      <td>...</td>\n",
       "      <td>...</td>\n",
       "      <td>...</td>\n",
       "      <td>...</td>\n",
       "    </tr>\n",
       "    <tr>\n",
       "      <th>1067366</th>\n",
       "      <td>581587</td>\n",
       "      <td>22899</td>\n",
       "      <td>CHILDREN'S APRON DOLLY GIRL</td>\n",
       "      <td>6</td>\n",
       "      <td>2011-12-09 12:50:00</td>\n",
       "      <td>2.10</td>\n",
       "      <td>12680.0</td>\n",
       "      <td>France</td>\n",
       "    </tr>\n",
       "    <tr>\n",
       "      <th>1067367</th>\n",
       "      <td>581587</td>\n",
       "      <td>23254</td>\n",
       "      <td>CHILDRENS CUTLERY DOLLY GIRL</td>\n",
       "      <td>4</td>\n",
       "      <td>2011-12-09 12:50:00</td>\n",
       "      <td>4.15</td>\n",
       "      <td>12680.0</td>\n",
       "      <td>France</td>\n",
       "    </tr>\n",
       "    <tr>\n",
       "      <th>1067368</th>\n",
       "      <td>581587</td>\n",
       "      <td>23255</td>\n",
       "      <td>CHILDRENS CUTLERY CIRCUS PARADE</td>\n",
       "      <td>4</td>\n",
       "      <td>2011-12-09 12:50:00</td>\n",
       "      <td>4.15</td>\n",
       "      <td>12680.0</td>\n",
       "      <td>France</td>\n",
       "    </tr>\n",
       "    <tr>\n",
       "      <th>1067369</th>\n",
       "      <td>581587</td>\n",
       "      <td>22138</td>\n",
       "      <td>BAKING SET 9 PIECE RETROSPOT</td>\n",
       "      <td>3</td>\n",
       "      <td>2011-12-09 12:50:00</td>\n",
       "      <td>4.95</td>\n",
       "      <td>12680.0</td>\n",
       "      <td>France</td>\n",
       "    </tr>\n",
       "    <tr>\n",
       "      <th>1067370</th>\n",
       "      <td>581587</td>\n",
       "      <td>POST</td>\n",
       "      <td>POSTAGE</td>\n",
       "      <td>1</td>\n",
       "      <td>2011-12-09 12:50:00</td>\n",
       "      <td>18.00</td>\n",
       "      <td>12680.0</td>\n",
       "      <td>France</td>\n",
       "    </tr>\n",
       "  </tbody>\n",
       "</table>\n",
       "<p>1067371 rows × 8 columns</p>\n",
       "</div>"
      ],
      "text/plain": [
       "        Invoice StockCode                          Description  Quantity  \\\n",
       "0        489434     85048  15CM CHRISTMAS GLASS BALL 20 LIGHTS        12   \n",
       "1        489434    79323P                   PINK CHERRY LIGHTS        12   \n",
       "2        489434    79323W                  WHITE CHERRY LIGHTS        12   \n",
       "3        489434     22041         RECORD FRAME 7\" SINGLE SIZE         48   \n",
       "4        489434     21232       STRAWBERRY CERAMIC TRINKET BOX        24   \n",
       "...         ...       ...                                  ...       ...   \n",
       "1067366  581587     22899         CHILDREN'S APRON DOLLY GIRL          6   \n",
       "1067367  581587     23254        CHILDRENS CUTLERY DOLLY GIRL          4   \n",
       "1067368  581587     23255      CHILDRENS CUTLERY CIRCUS PARADE         4   \n",
       "1067369  581587     22138        BAKING SET 9 PIECE RETROSPOT          3   \n",
       "1067370  581587      POST                              POSTAGE         1   \n",
       "\n",
       "                 InvoiceDate  Price  Customer ID         Country  \n",
       "0        2009-12-01 07:45:00   6.95      13085.0  United Kingdom  \n",
       "1        2009-12-01 07:45:00   6.75      13085.0  United Kingdom  \n",
       "2        2009-12-01 07:45:00   6.75      13085.0  United Kingdom  \n",
       "3        2009-12-01 07:45:00   2.10      13085.0  United Kingdom  \n",
       "4        2009-12-01 07:45:00   1.25      13085.0  United Kingdom  \n",
       "...                      ...    ...          ...             ...  \n",
       "1067366  2011-12-09 12:50:00   2.10      12680.0          France  \n",
       "1067367  2011-12-09 12:50:00   4.15      12680.0          France  \n",
       "1067368  2011-12-09 12:50:00   4.15      12680.0          France  \n",
       "1067369  2011-12-09 12:50:00   4.95      12680.0          France  \n",
       "1067370  2011-12-09 12:50:00  18.00      12680.0          France  \n",
       "\n",
       "[1067371 rows x 8 columns]"
      ]
     },
     "execution_count": 2,
     "metadata": {},
     "output_type": "execute_result"
    }
   ],
   "source": [
    "retail = pd.read_csv('/kaggle/input/online-retail-data/retail.csv')\n",
    "retail"
   ]
  },
  {
   "cell_type": "code",
   "execution_count": 3,
   "metadata": {
    "execution": {
     "iopub.execute_input": "2023-11-07T11:23:21.857383Z",
     "iopub.status.busy": "2023-11-07T11:23:21.857037Z",
     "iopub.status.idle": "2023-11-07T11:23:22.133094Z",
     "shell.execute_reply": "2023-11-07T11:23:22.131957Z",
     "shell.execute_reply.started": "2023-11-07T11:23:21.857352Z"
    },
    "trusted": true
   },
   "outputs": [
    {
     "name": "stdout",
     "output_type": "stream",
     "text": [
      "The size of Dataframe is:  (1067371, 8)\n",
      "----------------------------------------------------------------------------------------------------\n",
      "The Column Name, Record Count and Data Types are as follows: \n",
      "<class 'pandas.core.frame.DataFrame'>\n",
      "RangeIndex: 1067371 entries, 0 to 1067370\n",
      "Data columns (total 8 columns):\n",
      " #   Column       Non-Null Count    Dtype  \n",
      "---  ------       --------------    -----  \n",
      " 0   Invoice      1067371 non-null  object \n",
      " 1   StockCode    1067371 non-null  object \n",
      " 2   Description  1062989 non-null  object \n",
      " 3   Quantity     1067371 non-null  int64  \n",
      " 4   InvoiceDate  1067371 non-null  object \n",
      " 5   Price        1067371 non-null  float64\n",
      " 6   Customer ID  824364 non-null   float64\n",
      " 7   Country      1067371 non-null  object \n",
      "dtypes: float64(2), int64(1), object(5)\n",
      "memory usage: 65.1+ MB\n",
      "----------------------------------------------------------------------------------------------------\n"
     ]
    }
   ],
   "source": [
    "print('The size of Dataframe is: ', retail.shape)\n",
    "print('-'*100)\n",
    "print('The Column Name, Record Count and Data Types are as follows: ')\n",
    "retail.info()\n",
    "print('-'*100)"
   ]
  },
  {
   "cell_type": "code",
   "execution_count": 4,
   "metadata": {
    "execution": {
     "iopub.execute_input": "2023-11-07T11:23:22.997433Z",
     "iopub.status.busy": "2023-11-07T11:23:22.997011Z",
     "iopub.status.idle": "2023-11-07T11:23:23.007105Z",
     "shell.execute_reply": "2023-11-07T11:23:23.005839Z",
     "shell.execute_reply.started": "2023-11-07T11:23:22.997399Z"
    },
    "trusted": true
   },
   "outputs": [
    {
     "name": "stdout",
     "output_type": "stream",
     "text": [
      "We have 3 numerical features : ['Quantity', 'Price', 'Customer ID']\n",
      "\n",
      "We have 5 categorical features : ['Invoice', 'StockCode', 'Description', 'InvoiceDate', 'Country']\n"
     ]
    }
   ],
   "source": [
    "# Defining numerical & categorical columns\n",
    "numeric_features = [feature for feature in retail.columns if retail[feature].dtype != 'O']\n",
    "categorical_features = [feature for feature in retail.columns if retail[feature].dtype == 'O']\n",
    "\n",
    "# print columns\n",
    "print('We have {} numerical features : {}'.format(len(numeric_features), numeric_features))\n",
    "print('\\nWe have {} categorical features : {}'.format(len(categorical_features), categorical_features))"
   ]
  },
  {
   "cell_type": "markdown",
   "metadata": {},
   "source": [
    "### Data Description\n",
    "\n",
    "- **Invoice:** Invoice number. A unique number for each transaction. If it starts with C which means cancelled operations.\n",
    "\n",
    "- **StockCode:** Product code. A unique number for each product.\n",
    "\n",
    "- **Description:** Product name.\n",
    "\n",
    "- **Quantity:** It refers to how many of the products in the invoices have been sold.\n",
    "\n",
    "- **InvoiceDate:** Invoice date.\n",
    "\n",
    "- **Price:** Product price (pound)\n",
    "\n",
    "- **Customer ID:** Unique customer number.\n",
    "\n",
    "- **Country:** The name of the country where the customer lives."
   ]
  },
  {
   "cell_type": "code",
   "execution_count": 5,
   "metadata": {
    "execution": {
     "iopub.execute_input": "2023-11-07T11:23:25.332801Z",
     "iopub.status.busy": "2023-11-07T11:23:25.332378Z",
     "iopub.status.idle": "2023-11-07T11:23:26.068157Z",
     "shell.execute_reply": "2023-11-07T11:23:26.067030Z",
     "shell.execute_reply.started": "2023-11-07T11:23:25.332761Z"
    },
    "trusted": true
   },
   "outputs": [
    {
     "name": "stdout",
     "output_type": "stream",
     "text": [
      "Missing Value Presence in different columns of DataFrame are as follows : \n",
      "----------------------------------------------------------------------------------------------------\n"
     ]
    },
    {
     "data": {
      "text/html": [
       "<div>\n",
       "<style scoped>\n",
       "    .dataframe tbody tr th:only-of-type {\n",
       "        vertical-align: middle;\n",
       "    }\n",
       "\n",
       "    .dataframe tbody tr th {\n",
       "        vertical-align: top;\n",
       "    }\n",
       "\n",
       "    .dataframe thead th {\n",
       "        text-align: right;\n",
       "    }\n",
       "</style>\n",
       "<table border=\"1\" class=\"dataframe\">\n",
       "  <thead>\n",
       "    <tr style=\"text-align: right;\">\n",
       "      <th></th>\n",
       "      <th>Total</th>\n",
       "      <th>Percent</th>\n",
       "    </tr>\n",
       "  </thead>\n",
       "  <tbody>\n",
       "    <tr>\n",
       "      <th>Customer ID</th>\n",
       "      <td>243007</td>\n",
       "      <td>22.766873</td>\n",
       "    </tr>\n",
       "    <tr>\n",
       "      <th>Description</th>\n",
       "      <td>4382</td>\n",
       "      <td>0.410541</td>\n",
       "    </tr>\n",
       "    <tr>\n",
       "      <th>Invoice</th>\n",
       "      <td>0</td>\n",
       "      <td>0.000000</td>\n",
       "    </tr>\n",
       "    <tr>\n",
       "      <th>StockCode</th>\n",
       "      <td>0</td>\n",
       "      <td>0.000000</td>\n",
       "    </tr>\n",
       "    <tr>\n",
       "      <th>Quantity</th>\n",
       "      <td>0</td>\n",
       "      <td>0.000000</td>\n",
       "    </tr>\n",
       "    <tr>\n",
       "      <th>InvoiceDate</th>\n",
       "      <td>0</td>\n",
       "      <td>0.000000</td>\n",
       "    </tr>\n",
       "    <tr>\n",
       "      <th>Price</th>\n",
       "      <td>0</td>\n",
       "      <td>0.000000</td>\n",
       "    </tr>\n",
       "    <tr>\n",
       "      <th>Country</th>\n",
       "      <td>0</td>\n",
       "      <td>0.000000</td>\n",
       "    </tr>\n",
       "  </tbody>\n",
       "</table>\n",
       "</div>"
      ],
      "text/plain": [
       "              Total    Percent\n",
       "Customer ID  243007  22.766873\n",
       "Description    4382   0.410541\n",
       "Invoice           0   0.000000\n",
       "StockCode         0   0.000000\n",
       "Quantity          0   0.000000\n",
       "InvoiceDate       0   0.000000\n",
       "Price             0   0.000000\n",
       "Country           0   0.000000"
      ]
     },
     "execution_count": 5,
     "metadata": {},
     "output_type": "execute_result"
    }
   ],
   "source": [
    "print('Missing Value Presence in different columns of DataFrame are as follows : ')\n",
    "print('-'*100)\n",
    "total=retail.isnull().sum().sort_values(ascending=False)\n",
    "percent=(retail.isnull().sum()/retail.isnull().count()*100).sort_values(ascending=False)\n",
    "pd.concat([total, percent], axis=1, keys=['Total', 'Percent'])"
   ]
  },
  {
   "cell_type": "code",
   "execution_count": 6,
   "metadata": {
    "execution": {
     "iopub.execute_input": "2023-11-07T11:23:26.072130Z",
     "iopub.status.busy": "2023-11-07T11:23:26.071043Z",
     "iopub.status.idle": "2023-11-07T11:23:26.225184Z",
     "shell.execute_reply": "2023-11-07T11:23:26.224217Z",
     "shell.execute_reply.started": "2023-11-07T11:23:26.072086Z"
    },
    "trusted": true
   },
   "outputs": [
    {
     "name": "stdout",
     "output_type": "stream",
     "text": [
      "Summary Statistics of numerical features for DataFrame are as follows:\n",
      "----------------------------------------------------------------------------------------------------\n"
     ]
    },
    {
     "data": {
      "text/html": [
       "<div>\n",
       "<style scoped>\n",
       "    .dataframe tbody tr th:only-of-type {\n",
       "        vertical-align: middle;\n",
       "    }\n",
       "\n",
       "    .dataframe tbody tr th {\n",
       "        vertical-align: top;\n",
       "    }\n",
       "\n",
       "    .dataframe thead th {\n",
       "        text-align: right;\n",
       "    }\n",
       "</style>\n",
       "<table border=\"1\" class=\"dataframe\">\n",
       "  <thead>\n",
       "    <tr style=\"text-align: right;\">\n",
       "      <th></th>\n",
       "      <th>Quantity</th>\n",
       "      <th>Price</th>\n",
       "      <th>Customer ID</th>\n",
       "    </tr>\n",
       "  </thead>\n",
       "  <tbody>\n",
       "    <tr>\n",
       "      <th>count</th>\n",
       "      <td>1.067371e+06</td>\n",
       "      <td>1.067371e+06</td>\n",
       "      <td>824364.000000</td>\n",
       "    </tr>\n",
       "    <tr>\n",
       "      <th>mean</th>\n",
       "      <td>9.938898e+00</td>\n",
       "      <td>4.649388e+00</td>\n",
       "      <td>15324.638504</td>\n",
       "    </tr>\n",
       "    <tr>\n",
       "      <th>std</th>\n",
       "      <td>1.727058e+02</td>\n",
       "      <td>1.235531e+02</td>\n",
       "      <td>1697.464450</td>\n",
       "    </tr>\n",
       "    <tr>\n",
       "      <th>min</th>\n",
       "      <td>-8.099500e+04</td>\n",
       "      <td>-5.359436e+04</td>\n",
       "      <td>12346.000000</td>\n",
       "    </tr>\n",
       "    <tr>\n",
       "      <th>25%</th>\n",
       "      <td>1.000000e+00</td>\n",
       "      <td>1.250000e+00</td>\n",
       "      <td>13975.000000</td>\n",
       "    </tr>\n",
       "    <tr>\n",
       "      <th>50%</th>\n",
       "      <td>3.000000e+00</td>\n",
       "      <td>2.100000e+00</td>\n",
       "      <td>15255.000000</td>\n",
       "    </tr>\n",
       "    <tr>\n",
       "      <th>75%</th>\n",
       "      <td>1.000000e+01</td>\n",
       "      <td>4.150000e+00</td>\n",
       "      <td>16797.000000</td>\n",
       "    </tr>\n",
       "    <tr>\n",
       "      <th>max</th>\n",
       "      <td>8.099500e+04</td>\n",
       "      <td>3.897000e+04</td>\n",
       "      <td>18287.000000</td>\n",
       "    </tr>\n",
       "  </tbody>\n",
       "</table>\n",
       "</div>"
      ],
      "text/plain": [
       "           Quantity         Price    Customer ID\n",
       "count  1.067371e+06  1.067371e+06  824364.000000\n",
       "mean   9.938898e+00  4.649388e+00   15324.638504\n",
       "std    1.727058e+02  1.235531e+02    1697.464450\n",
       "min   -8.099500e+04 -5.359436e+04   12346.000000\n",
       "25%    1.000000e+00  1.250000e+00   13975.000000\n",
       "50%    3.000000e+00  2.100000e+00   15255.000000\n",
       "75%    1.000000e+01  4.150000e+00   16797.000000\n",
       "max    8.099500e+04  3.897000e+04   18287.000000"
      ]
     },
     "execution_count": 6,
     "metadata": {},
     "output_type": "execute_result"
    }
   ],
   "source": [
    "print('Summary Statistics of numerical features for DataFrame are as follows:')\n",
    "print('-'*100)\n",
    "retail.describe()"
   ]
  },
  {
   "cell_type": "code",
   "execution_count": 7,
   "metadata": {
    "execution": {
     "iopub.execute_input": "2023-11-07T11:23:27.094787Z",
     "iopub.status.busy": "2023-11-07T11:23:27.094366Z",
     "iopub.status.idle": "2023-11-07T11:23:27.839910Z",
     "shell.execute_reply": "2023-11-07T11:23:27.838821Z",
     "shell.execute_reply.started": "2023-11-07T11:23:27.094746Z"
    },
    "trusted": true
   },
   "outputs": [
    {
     "name": "stdout",
     "output_type": "stream",
     "text": [
      "Summary Statistics of categorical features for DataFrame are as follows:\n",
      "----------------------------------------------------------------------------------------------------\n"
     ]
    },
    {
     "data": {
      "text/html": [
       "<div>\n",
       "<style scoped>\n",
       "    .dataframe tbody tr th:only-of-type {\n",
       "        vertical-align: middle;\n",
       "    }\n",
       "\n",
       "    .dataframe tbody tr th {\n",
       "        vertical-align: top;\n",
       "    }\n",
       "\n",
       "    .dataframe thead th {\n",
       "        text-align: right;\n",
       "    }\n",
       "</style>\n",
       "<table border=\"1\" class=\"dataframe\">\n",
       "  <thead>\n",
       "    <tr style=\"text-align: right;\">\n",
       "      <th></th>\n",
       "      <th>Invoice</th>\n",
       "      <th>StockCode</th>\n",
       "      <th>Description</th>\n",
       "      <th>InvoiceDate</th>\n",
       "      <th>Country</th>\n",
       "    </tr>\n",
       "  </thead>\n",
       "  <tbody>\n",
       "    <tr>\n",
       "      <th>count</th>\n",
       "      <td>1067371</td>\n",
       "      <td>1067371</td>\n",
       "      <td>1062989</td>\n",
       "      <td>1067371</td>\n",
       "      <td>1067371</td>\n",
       "    </tr>\n",
       "    <tr>\n",
       "      <th>unique</th>\n",
       "      <td>53628</td>\n",
       "      <td>5305</td>\n",
       "      <td>5698</td>\n",
       "      <td>47635</td>\n",
       "      <td>43</td>\n",
       "    </tr>\n",
       "    <tr>\n",
       "      <th>top</th>\n",
       "      <td>537434</td>\n",
       "      <td>85123A</td>\n",
       "      <td>WHITE HANGING HEART T-LIGHT HOLDER</td>\n",
       "      <td>2010-12-06 16:57:00</td>\n",
       "      <td>United Kingdom</td>\n",
       "    </tr>\n",
       "    <tr>\n",
       "      <th>freq</th>\n",
       "      <td>1350</td>\n",
       "      <td>5829</td>\n",
       "      <td>5918</td>\n",
       "      <td>1350</td>\n",
       "      <td>981330</td>\n",
       "    </tr>\n",
       "  </tbody>\n",
       "</table>\n",
       "</div>"
      ],
      "text/plain": [
       "        Invoice StockCode                         Description  \\\n",
       "count   1067371   1067371                             1062989   \n",
       "unique    53628      5305                                5698   \n",
       "top      537434    85123A  WHITE HANGING HEART T-LIGHT HOLDER   \n",
       "freq       1350      5829                                5918   \n",
       "\n",
       "                InvoiceDate         Country  \n",
       "count               1067371         1067371  \n",
       "unique                47635              43  \n",
       "top     2010-12-06 16:57:00  United Kingdom  \n",
       "freq                   1350          981330  "
      ]
     },
     "execution_count": 7,
     "metadata": {},
     "output_type": "execute_result"
    }
   ],
   "source": [
    "print('Summary Statistics of categorical features for DataFrame are as follows:')\n",
    "print('-'*100)\n",
    "retail.describe(include= 'object')"
   ]
  },
  {
   "cell_type": "code",
   "execution_count": 8,
   "metadata": {
    "execution": {
     "iopub.execute_input": "2023-11-07T11:23:27.842631Z",
     "iopub.status.busy": "2023-11-07T11:23:27.842152Z",
     "iopub.status.idle": "2023-11-07T11:23:28.405101Z",
     "shell.execute_reply": "2023-11-07T11:23:28.403954Z",
     "shell.execute_reply.started": "2023-11-07T11:23:27.842586Z"
    },
    "trusted": true
   },
   "outputs": [
    {
     "name": "stdout",
     "output_type": "stream",
     "text": [
      "-----------------------------------------------------------------------------------------------------------------------------\n",
      "Checking records for mis-spell, typo-error etc.\n",
      "-----------------------------------------------------------------------------------------------------------------------------\n",
      "'Invoice' variable have 53628 unique category : \n",
      "['489434' '489435' '489436' ... '581585' '581586' '581587']\n",
      "\n",
      "-----------------------------------------------------------------------------------------------------------------------------\n",
      "'StockCode' variable have 5305 unique category : \n",
      "['85048' '79323P' '79323W' ... '23609' '23617' '23843']\n",
      "\n",
      "-----------------------------------------------------------------------------------------------------------------------------\n",
      "'Description' variable have 5698 unique category : \n",
      "['15CM CHRISTMAS GLASS BALL 20 LIGHTS' 'PINK CHERRY LIGHTS'\n",
      " ' WHITE CHERRY LIGHTS' ... 'mixed up'\n",
      " 'CREAM HANGING HEART T-LIGHT HOLDER' 'PAPER CRAFT , LITTLE BIRDIE']\n",
      "\n",
      "-----------------------------------------------------------------------------------------------------------------------------\n",
      "'Country' variable have 43 unique category : \n",
      "['United Kingdom' 'France' 'USA' 'Belgium' 'Australia' 'EIRE' 'Germany'\n",
      " 'Portugal' 'Japan' 'Denmark' 'Nigeria' 'Netherlands' 'Poland' 'Spain'\n",
      " 'Channel Islands' 'Italy' 'Cyprus' 'Greece' 'Norway' 'Austria' 'Sweden'\n",
      " 'United Arab Emirates' 'Finland' 'Switzerland' 'Unspecified' 'Malta'\n",
      " 'Bahrain' 'RSA' 'Bermuda' 'Hong Kong' 'Singapore' 'Thailand' 'Israel'\n",
      " 'Lithuania' 'West Indies' 'Lebanon' 'Korea' 'Brazil' 'Canada' 'Iceland'\n",
      " 'Saudi Arabia' 'Czech Republic' 'European Community']\n",
      "\n",
      "-----------------------------------------------------------------------------------------------------------------------------\n"
     ]
    }
   ],
   "source": [
    "print('-'*125)\n",
    "print('Checking records for mis-spell, typo-error etc.')\n",
    "print('-'*125)\n",
    "\n",
    "print(\"'Invoice' variable have {} unique category : \\n{}\\n\".format(retail['Invoice'].nunique(), retail['Invoice'].unique()))\n",
    "print('-'*125)\n",
    "\n",
    "print(\"'StockCode' variable have {} unique category : \\n{}\\n\".format(retail['StockCode'].nunique(), retail['StockCode'].unique()))\n",
    "print('-'*125)\n",
    "\n",
    "print(\"'Description' variable have {} unique category : \\n{}\\n\".format(retail['Description'].nunique(), retail['Description'].unique()))\n",
    "print('-'*125)\n",
    "\n",
    "print(\"'Country' variable have {} unique category : \\n{}\\n\".format(retail['Country'].nunique(), retail['Country'].unique()))\n",
    "print('-'*125)"
   ]
  },
  {
   "cell_type": "markdown",
   "metadata": {},
   "source": [
    "### Missing Value Treatment"
   ]
  },
  {
   "cell_type": "code",
   "execution_count": 9,
   "metadata": {
    "execution": {
     "iopub.execute_input": "2023-11-07T11:23:33.545781Z",
     "iopub.status.busy": "2023-11-07T11:23:33.545362Z",
     "iopub.status.idle": "2023-11-07T11:23:34.308698Z",
     "shell.execute_reply": "2023-11-07T11:23:34.307589Z",
     "shell.execute_reply.started": "2023-11-07T11:23:33.545750Z"
    },
    "trusted": true
   },
   "outputs": [
    {
     "name": "stdout",
     "output_type": "stream",
     "text": [
      "Missing Value Presence in different columns of DataFrame are as follows : \n",
      "----------------------------------------------------------------------------------------------------\n"
     ]
    },
    {
     "data": {
      "text/html": [
       "<div>\n",
       "<style scoped>\n",
       "    .dataframe tbody tr th:only-of-type {\n",
       "        vertical-align: middle;\n",
       "    }\n",
       "\n",
       "    .dataframe tbody tr th {\n",
       "        vertical-align: top;\n",
       "    }\n",
       "\n",
       "    .dataframe thead th {\n",
       "        text-align: right;\n",
       "    }\n",
       "</style>\n",
       "<table border=\"1\" class=\"dataframe\">\n",
       "  <thead>\n",
       "    <tr style=\"text-align: right;\">\n",
       "      <th></th>\n",
       "      <th>Total</th>\n",
       "      <th>Percent</th>\n",
       "    </tr>\n",
       "  </thead>\n",
       "  <tbody>\n",
       "    <tr>\n",
       "      <th>Customer ID</th>\n",
       "      <td>243007</td>\n",
       "      <td>22.766873</td>\n",
       "    </tr>\n",
       "    <tr>\n",
       "      <th>Description</th>\n",
       "      <td>4382</td>\n",
       "      <td>0.410541</td>\n",
       "    </tr>\n",
       "    <tr>\n",
       "      <th>Invoice</th>\n",
       "      <td>0</td>\n",
       "      <td>0.000000</td>\n",
       "    </tr>\n",
       "    <tr>\n",
       "      <th>StockCode</th>\n",
       "      <td>0</td>\n",
       "      <td>0.000000</td>\n",
       "    </tr>\n",
       "    <tr>\n",
       "      <th>Quantity</th>\n",
       "      <td>0</td>\n",
       "      <td>0.000000</td>\n",
       "    </tr>\n",
       "    <tr>\n",
       "      <th>InvoiceDate</th>\n",
       "      <td>0</td>\n",
       "      <td>0.000000</td>\n",
       "    </tr>\n",
       "    <tr>\n",
       "      <th>Price</th>\n",
       "      <td>0</td>\n",
       "      <td>0.000000</td>\n",
       "    </tr>\n",
       "    <tr>\n",
       "      <th>Country</th>\n",
       "      <td>0</td>\n",
       "      <td>0.000000</td>\n",
       "    </tr>\n",
       "  </tbody>\n",
       "</table>\n",
       "</div>"
      ],
      "text/plain": [
       "              Total    Percent\n",
       "Customer ID  243007  22.766873\n",
       "Description    4382   0.410541\n",
       "Invoice           0   0.000000\n",
       "StockCode         0   0.000000\n",
       "Quantity          0   0.000000\n",
       "InvoiceDate       0   0.000000\n",
       "Price             0   0.000000\n",
       "Country           0   0.000000"
      ]
     },
     "execution_count": 9,
     "metadata": {},
     "output_type": "execute_result"
    }
   ],
   "source": [
    "print('Missing Value Presence in different columns of DataFrame are as follows : ')\n",
    "print('-'*100)\n",
    "total=retail.isnull().sum().sort_values(ascending=False)\n",
    "percent=(retail.isnull().sum()/retail.isnull().count()*100).sort_values(ascending=False)\n",
    "pd.concat([total, percent], axis=1, keys=['Total', 'Percent'])"
   ]
  },
  {
   "cell_type": "markdown",
   "metadata": {},
   "source": [
    "- **22.76%** of Customer ID is missing. Drop the columns as primary information Customer ID is missing."
   ]
  },
  {
   "cell_type": "markdown",
   "metadata": {},
   "source": [
    "#### Dropping empty Customer ID"
   ]
  },
  {
   "cell_type": "code",
   "execution_count": 10,
   "metadata": {
    "execution": {
     "iopub.execute_input": "2023-11-07T11:23:36.828505Z",
     "iopub.status.busy": "2023-11-07T11:23:36.827484Z",
     "iopub.status.idle": "2023-11-07T11:23:37.153042Z",
     "shell.execute_reply": "2023-11-07T11:23:37.151839Z",
     "shell.execute_reply.started": "2023-11-07T11:23:36.828465Z"
    },
    "trusted": true
   },
   "outputs": [
    {
     "data": {
      "text/plain": [
       "(824364, 8)"
      ]
     },
     "execution_count": 10,
     "metadata": {},
     "output_type": "execute_result"
    }
   ],
   "source": [
    "retail = retail.dropna()\n",
    "retail.shape"
   ]
  },
  {
   "cell_type": "markdown",
   "metadata": {},
   "source": [
    "### Datatype Conversion\n",
    "\n",
    "Changing DataType of Customer ID as per Business requirement"
   ]
  },
  {
   "cell_type": "code",
   "execution_count": 11,
   "metadata": {
    "execution": {
     "iopub.execute_input": "2023-11-07T11:23:37.983218Z",
     "iopub.status.busy": "2023-11-07T11:23:37.982787Z",
     "iopub.status.idle": "2023-11-07T11:23:38.432373Z",
     "shell.execute_reply": "2023-11-07T11:23:38.431381Z",
     "shell.execute_reply.started": "2023-11-07T11:23:37.983183Z"
    },
    "trusted": true
   },
   "outputs": [],
   "source": [
    "retail['Customer ID'] = retail['Customer ID'].astype(str)"
   ]
  },
  {
   "cell_type": "code",
   "execution_count": 12,
   "metadata": {
    "execution": {
     "iopub.execute_input": "2023-11-07T11:23:38.434825Z",
     "iopub.status.busy": "2023-11-07T11:23:38.433953Z",
     "iopub.status.idle": "2023-11-07T11:23:38.443721Z",
     "shell.execute_reply": "2023-11-07T11:23:38.442404Z",
     "shell.execute_reply.started": "2023-11-07T11:23:38.434786Z"
    },
    "trusted": true
   },
   "outputs": [
    {
     "data": {
      "text/plain": [
       "Invoice         object\n",
       "StockCode       object\n",
       "Description     object\n",
       "Quantity         int64\n",
       "InvoiceDate     object\n",
       "Price          float64\n",
       "Customer ID     object\n",
       "Country         object\n",
       "dtype: object"
      ]
     },
     "execution_count": 12,
     "metadata": {},
     "output_type": "execute_result"
    }
   ],
   "source": [
    "retail.dtypes"
   ]
  },
  {
   "cell_type": "markdown",
   "metadata": {},
   "source": [
    "### Removing invalid entries from columns\n",
    "\n",
    "Price and Quantity must be positive values i.e. greater than 0)"
   ]
  },
  {
   "cell_type": "code",
   "execution_count": 13,
   "metadata": {
    "execution": {
     "iopub.execute_input": "2023-11-07T11:23:39.182172Z",
     "iopub.status.busy": "2023-11-07T11:23:39.181775Z",
     "iopub.status.idle": "2023-11-07T11:23:39.199443Z",
     "shell.execute_reply": "2023-11-07T11:23:39.197956Z",
     "shell.execute_reply.started": "2023-11-07T11:23:39.182143Z"
    },
    "trusted": true
   },
   "outputs": [
    {
     "data": {
      "text/plain": [
       "Price\n",
       "False    824293\n",
       "True         71\n",
       "Name: count, dtype: int64"
      ]
     },
     "execution_count": 13,
     "metadata": {},
     "output_type": "execute_result"
    }
   ],
   "source": [
    "(retail['Price']<=0).value_counts()"
   ]
  },
  {
   "cell_type": "markdown",
   "metadata": {},
   "source": [
    "- There exists **invalid values** for Price column. **71 row entries** are less than or equal to 0**"
   ]
  },
  {
   "cell_type": "code",
   "execution_count": 14,
   "metadata": {
    "execution": {
     "iopub.execute_input": "2023-11-07T11:23:40.136108Z",
     "iopub.status.busy": "2023-11-07T11:23:40.135671Z",
     "iopub.status.idle": "2023-11-07T11:23:40.143275Z",
     "shell.execute_reply": "2023-11-07T11:23:40.142184Z",
     "shell.execute_reply.started": "2023-11-07T11:23:40.136074Z"
    },
    "trusted": true
   },
   "outputs": [
    {
     "data": {
      "text/plain": [
       "(824364, 8)"
      ]
     },
     "execution_count": 14,
     "metadata": {},
     "output_type": "execute_result"
    }
   ],
   "source": [
    "retail.shape"
   ]
  },
  {
   "cell_type": "code",
   "execution_count": 15,
   "metadata": {
    "execution": {
     "iopub.execute_input": "2023-11-07T11:23:40.564509Z",
     "iopub.status.busy": "2023-11-07T11:23:40.563578Z",
     "iopub.status.idle": "2023-11-07T11:23:40.693276Z",
     "shell.execute_reply": "2023-11-07T11:23:40.692233Z",
     "shell.execute_reply.started": "2023-11-07T11:23:40.564465Z"
    },
    "trusted": true
   },
   "outputs": [],
   "source": [
    "retail = retail[retail['Price']>0]"
   ]
  },
  {
   "cell_type": "code",
   "execution_count": 16,
   "metadata": {
    "execution": {
     "iopub.execute_input": "2023-11-07T11:23:41.012475Z",
     "iopub.status.busy": "2023-11-07T11:23:41.011612Z",
     "iopub.status.idle": "2023-11-07T11:23:41.019369Z",
     "shell.execute_reply": "2023-11-07T11:23:41.018220Z",
     "shell.execute_reply.started": "2023-11-07T11:23:41.012435Z"
    },
    "trusted": true
   },
   "outputs": [
    {
     "data": {
      "text/plain": [
       "(824293, 8)"
      ]
     },
     "execution_count": 16,
     "metadata": {},
     "output_type": "execute_result"
    }
   ],
   "source": [
    "retail.shape"
   ]
  },
  {
   "cell_type": "code",
   "execution_count": 17,
   "metadata": {
    "execution": {
     "iopub.execute_input": "2023-11-07T11:23:41.467068Z",
     "iopub.status.busy": "2023-11-07T11:23:41.466657Z",
     "iopub.status.idle": "2023-11-07T11:23:41.483089Z",
     "shell.execute_reply": "2023-11-07T11:23:41.482048Z",
     "shell.execute_reply.started": "2023-11-07T11:23:41.467038Z"
    },
    "trusted": true
   },
   "outputs": [
    {
     "data": {
      "text/plain": [
       "Quantity\n",
       "False    805549\n",
       "True      18744\n",
       "Name: count, dtype: int64"
      ]
     },
     "execution_count": 17,
     "metadata": {},
     "output_type": "execute_result"
    }
   ],
   "source": [
    "(retail['Quantity']<=0).value_counts()"
   ]
  },
  {
   "cell_type": "markdown",
   "metadata": {},
   "source": [
    "There exists **invalid values** for Quantity column. **18744 row entries** are negative (less than 0). We need to drop these rows**"
   ]
  },
  {
   "cell_type": "code",
   "execution_count": 18,
   "metadata": {
    "execution": {
     "iopub.execute_input": "2023-11-07T11:23:42.567993Z",
     "iopub.status.busy": "2023-11-07T11:23:42.567563Z",
     "iopub.status.idle": "2023-11-07T11:23:42.576496Z",
     "shell.execute_reply": "2023-11-07T11:23:42.575455Z",
     "shell.execute_reply.started": "2023-11-07T11:23:42.567960Z"
    },
    "trusted": true
   },
   "outputs": [
    {
     "data": {
      "text/plain": [
       "(824293, 8)"
      ]
     },
     "execution_count": 18,
     "metadata": {},
     "output_type": "execute_result"
    }
   ],
   "source": [
    "retail.shape"
   ]
  },
  {
   "cell_type": "code",
   "execution_count": 19,
   "metadata": {
    "execution": {
     "iopub.execute_input": "2023-11-07T11:23:42.998309Z",
     "iopub.status.busy": "2023-11-07T11:23:42.997631Z",
     "iopub.status.idle": "2023-11-07T11:23:43.116514Z",
     "shell.execute_reply": "2023-11-07T11:23:43.115383Z",
     "shell.execute_reply.started": "2023-11-07T11:23:42.998267Z"
    },
    "trusted": true
   },
   "outputs": [],
   "source": [
    "retail = retail[retail['Quantity']>=0]"
   ]
  },
  {
   "cell_type": "code",
   "execution_count": 20,
   "metadata": {
    "execution": {
     "iopub.execute_input": "2023-11-07T11:23:43.489026Z",
     "iopub.status.busy": "2023-11-07T11:23:43.488598Z",
     "iopub.status.idle": "2023-11-07T11:23:43.495931Z",
     "shell.execute_reply": "2023-11-07T11:23:43.494781Z",
     "shell.execute_reply.started": "2023-11-07T11:23:43.488990Z"
    },
    "trusted": true
   },
   "outputs": [
    {
     "data": {
      "text/plain": [
       "(805549, 8)"
      ]
     },
     "execution_count": 20,
     "metadata": {},
     "output_type": "execute_result"
    }
   ],
   "source": [
    "retail.shape"
   ]
  },
  {
   "cell_type": "code",
   "execution_count": 21,
   "metadata": {
    "execution": {
     "iopub.execute_input": "2023-11-07T11:23:43.930260Z",
     "iopub.status.busy": "2023-11-07T11:23:43.929774Z",
     "iopub.status.idle": "2023-11-07T11:23:43.949403Z",
     "shell.execute_reply": "2023-11-07T11:23:43.948207Z",
     "shell.execute_reply.started": "2023-11-07T11:23:43.930217Z"
    },
    "trusted": true
   },
   "outputs": [
    {
     "data": {
      "text/html": [
       "<div>\n",
       "<style scoped>\n",
       "    .dataframe tbody tr th:only-of-type {\n",
       "        vertical-align: middle;\n",
       "    }\n",
       "\n",
       "    .dataframe tbody tr th {\n",
       "        vertical-align: top;\n",
       "    }\n",
       "\n",
       "    .dataframe thead th {\n",
       "        text-align: right;\n",
       "    }\n",
       "</style>\n",
       "<table border=\"1\" class=\"dataframe\">\n",
       "  <thead>\n",
       "    <tr style=\"text-align: right;\">\n",
       "      <th></th>\n",
       "      <th>Invoice</th>\n",
       "      <th>StockCode</th>\n",
       "      <th>Description</th>\n",
       "      <th>Quantity</th>\n",
       "      <th>InvoiceDate</th>\n",
       "      <th>Price</th>\n",
       "      <th>Customer ID</th>\n",
       "      <th>Country</th>\n",
       "    </tr>\n",
       "  </thead>\n",
       "  <tbody>\n",
       "    <tr>\n",
       "      <th>0</th>\n",
       "      <td>489434</td>\n",
       "      <td>85048</td>\n",
       "      <td>15CM CHRISTMAS GLASS BALL 20 LIGHTS</td>\n",
       "      <td>12</td>\n",
       "      <td>2009-12-01 07:45:00</td>\n",
       "      <td>6.95</td>\n",
       "      <td>13085.0</td>\n",
       "      <td>United Kingdom</td>\n",
       "    </tr>\n",
       "    <tr>\n",
       "      <th>1</th>\n",
       "      <td>489434</td>\n",
       "      <td>79323P</td>\n",
       "      <td>PINK CHERRY LIGHTS</td>\n",
       "      <td>12</td>\n",
       "      <td>2009-12-01 07:45:00</td>\n",
       "      <td>6.75</td>\n",
       "      <td>13085.0</td>\n",
       "      <td>United Kingdom</td>\n",
       "    </tr>\n",
       "    <tr>\n",
       "      <th>2</th>\n",
       "      <td>489434</td>\n",
       "      <td>79323W</td>\n",
       "      <td>WHITE CHERRY LIGHTS</td>\n",
       "      <td>12</td>\n",
       "      <td>2009-12-01 07:45:00</td>\n",
       "      <td>6.75</td>\n",
       "      <td>13085.0</td>\n",
       "      <td>United Kingdom</td>\n",
       "    </tr>\n",
       "    <tr>\n",
       "      <th>3</th>\n",
       "      <td>489434</td>\n",
       "      <td>22041</td>\n",
       "      <td>RECORD FRAME 7\" SINGLE SIZE</td>\n",
       "      <td>48</td>\n",
       "      <td>2009-12-01 07:45:00</td>\n",
       "      <td>2.10</td>\n",
       "      <td>13085.0</td>\n",
       "      <td>United Kingdom</td>\n",
       "    </tr>\n",
       "    <tr>\n",
       "      <th>4</th>\n",
       "      <td>489434</td>\n",
       "      <td>21232</td>\n",
       "      <td>STRAWBERRY CERAMIC TRINKET BOX</td>\n",
       "      <td>24</td>\n",
       "      <td>2009-12-01 07:45:00</td>\n",
       "      <td>1.25</td>\n",
       "      <td>13085.0</td>\n",
       "      <td>United Kingdom</td>\n",
       "    </tr>\n",
       "    <tr>\n",
       "      <th>...</th>\n",
       "      <td>...</td>\n",
       "      <td>...</td>\n",
       "      <td>...</td>\n",
       "      <td>...</td>\n",
       "      <td>...</td>\n",
       "      <td>...</td>\n",
       "      <td>...</td>\n",
       "      <td>...</td>\n",
       "    </tr>\n",
       "    <tr>\n",
       "      <th>1067366</th>\n",
       "      <td>581587</td>\n",
       "      <td>22899</td>\n",
       "      <td>CHILDREN'S APRON DOLLY GIRL</td>\n",
       "      <td>6</td>\n",
       "      <td>2011-12-09 12:50:00</td>\n",
       "      <td>2.10</td>\n",
       "      <td>12680.0</td>\n",
       "      <td>France</td>\n",
       "    </tr>\n",
       "    <tr>\n",
       "      <th>1067367</th>\n",
       "      <td>581587</td>\n",
       "      <td>23254</td>\n",
       "      <td>CHILDRENS CUTLERY DOLLY GIRL</td>\n",
       "      <td>4</td>\n",
       "      <td>2011-12-09 12:50:00</td>\n",
       "      <td>4.15</td>\n",
       "      <td>12680.0</td>\n",
       "      <td>France</td>\n",
       "    </tr>\n",
       "    <tr>\n",
       "      <th>1067368</th>\n",
       "      <td>581587</td>\n",
       "      <td>23255</td>\n",
       "      <td>CHILDRENS CUTLERY CIRCUS PARADE</td>\n",
       "      <td>4</td>\n",
       "      <td>2011-12-09 12:50:00</td>\n",
       "      <td>4.15</td>\n",
       "      <td>12680.0</td>\n",
       "      <td>France</td>\n",
       "    </tr>\n",
       "    <tr>\n",
       "      <th>1067369</th>\n",
       "      <td>581587</td>\n",
       "      <td>22138</td>\n",
       "      <td>BAKING SET 9 PIECE RETROSPOT</td>\n",
       "      <td>3</td>\n",
       "      <td>2011-12-09 12:50:00</td>\n",
       "      <td>4.95</td>\n",
       "      <td>12680.0</td>\n",
       "      <td>France</td>\n",
       "    </tr>\n",
       "    <tr>\n",
       "      <th>1067370</th>\n",
       "      <td>581587</td>\n",
       "      <td>POST</td>\n",
       "      <td>POSTAGE</td>\n",
       "      <td>1</td>\n",
       "      <td>2011-12-09 12:50:00</td>\n",
       "      <td>18.00</td>\n",
       "      <td>12680.0</td>\n",
       "      <td>France</td>\n",
       "    </tr>\n",
       "  </tbody>\n",
       "</table>\n",
       "<p>805549 rows × 8 columns</p>\n",
       "</div>"
      ],
      "text/plain": [
       "        Invoice StockCode                          Description  Quantity  \\\n",
       "0        489434     85048  15CM CHRISTMAS GLASS BALL 20 LIGHTS        12   \n",
       "1        489434    79323P                   PINK CHERRY LIGHTS        12   \n",
       "2        489434    79323W                  WHITE CHERRY LIGHTS        12   \n",
       "3        489434     22041         RECORD FRAME 7\" SINGLE SIZE         48   \n",
       "4        489434     21232       STRAWBERRY CERAMIC TRINKET BOX        24   \n",
       "...         ...       ...                                  ...       ...   \n",
       "1067366  581587     22899         CHILDREN'S APRON DOLLY GIRL          6   \n",
       "1067367  581587     23254        CHILDRENS CUTLERY DOLLY GIRL          4   \n",
       "1067368  581587     23255      CHILDRENS CUTLERY CIRCUS PARADE         4   \n",
       "1067369  581587     22138        BAKING SET 9 PIECE RETROSPOT          3   \n",
       "1067370  581587      POST                              POSTAGE         1   \n",
       "\n",
       "                 InvoiceDate  Price Customer ID         Country  \n",
       "0        2009-12-01 07:45:00   6.95     13085.0  United Kingdom  \n",
       "1        2009-12-01 07:45:00   6.75     13085.0  United Kingdom  \n",
       "2        2009-12-01 07:45:00   6.75     13085.0  United Kingdom  \n",
       "3        2009-12-01 07:45:00   2.10     13085.0  United Kingdom  \n",
       "4        2009-12-01 07:45:00   1.25     13085.0  United Kingdom  \n",
       "...                      ...    ...         ...             ...  \n",
       "1067366  2011-12-09 12:50:00   2.10     12680.0          France  \n",
       "1067367  2011-12-09 12:50:00   4.15     12680.0          France  \n",
       "1067368  2011-12-09 12:50:00   4.15     12680.0          France  \n",
       "1067369  2011-12-09 12:50:00   4.95     12680.0          France  \n",
       "1067370  2011-12-09 12:50:00  18.00     12680.0          France  \n",
       "\n",
       "[805549 rows x 8 columns]"
      ]
     },
     "execution_count": 21,
     "metadata": {},
     "output_type": "execute_result"
    }
   ],
   "source": [
    "retail"
   ]
  },
  {
   "cell_type": "markdown",
   "metadata": {},
   "source": [
    "## 6) RFM Metrics &  Scores Calculation\n",
    "---"
   ]
  },
  {
   "cell_type": "markdown",
   "metadata": {},
   "source": [
    "### RFM Attribute Creation(Feature Engineering)\n",
    "\n",
    "- R (Recency): Number of days since last purchase\n",
    "- F (Frequency): Number of tracsactions\n",
    "- M (Monetary): Total amount of transactions (revenue contributed)"
   ]
  },
  {
   "cell_type": "markdown",
   "metadata": {},
   "source": [
    "#### New Attribute Creation: Monetary"
   ]
  },
  {
   "cell_type": "code",
   "execution_count": 22,
   "metadata": {
    "execution": {
     "iopub.execute_input": "2023-11-07T11:23:46.036900Z",
     "iopub.status.busy": "2023-11-07T11:23:46.035650Z",
     "iopub.status.idle": "2023-11-07T11:23:46.056202Z",
     "shell.execute_reply": "2023-11-07T11:23:46.055159Z",
     "shell.execute_reply.started": "2023-11-07T11:23:46.036852Z"
    },
    "trusted": true
   },
   "outputs": [
    {
     "data": {
      "text/html": [
       "<div>\n",
       "<style scoped>\n",
       "    .dataframe tbody tr th:only-of-type {\n",
       "        vertical-align: middle;\n",
       "    }\n",
       "\n",
       "    .dataframe tbody tr th {\n",
       "        vertical-align: top;\n",
       "    }\n",
       "\n",
       "    .dataframe thead th {\n",
       "        text-align: right;\n",
       "    }\n",
       "</style>\n",
       "<table border=\"1\" class=\"dataframe\">\n",
       "  <thead>\n",
       "    <tr style=\"text-align: right;\">\n",
       "      <th></th>\n",
       "      <th>Invoice</th>\n",
       "      <th>StockCode</th>\n",
       "      <th>Description</th>\n",
       "      <th>Quantity</th>\n",
       "      <th>InvoiceDate</th>\n",
       "      <th>Price</th>\n",
       "      <th>Customer ID</th>\n",
       "      <th>Country</th>\n",
       "      <th>Amount</th>\n",
       "    </tr>\n",
       "  </thead>\n",
       "  <tbody>\n",
       "    <tr>\n",
       "      <th>0</th>\n",
       "      <td>489434</td>\n",
       "      <td>85048</td>\n",
       "      <td>15CM CHRISTMAS GLASS BALL 20 LIGHTS</td>\n",
       "      <td>12</td>\n",
       "      <td>2009-12-01 07:45:00</td>\n",
       "      <td>6.95</td>\n",
       "      <td>13085.0</td>\n",
       "      <td>United Kingdom</td>\n",
       "      <td>83.4</td>\n",
       "    </tr>\n",
       "    <tr>\n",
       "      <th>1</th>\n",
       "      <td>489434</td>\n",
       "      <td>79323P</td>\n",
       "      <td>PINK CHERRY LIGHTS</td>\n",
       "      <td>12</td>\n",
       "      <td>2009-12-01 07:45:00</td>\n",
       "      <td>6.75</td>\n",
       "      <td>13085.0</td>\n",
       "      <td>United Kingdom</td>\n",
       "      <td>81.0</td>\n",
       "    </tr>\n",
       "    <tr>\n",
       "      <th>2</th>\n",
       "      <td>489434</td>\n",
       "      <td>79323W</td>\n",
       "      <td>WHITE CHERRY LIGHTS</td>\n",
       "      <td>12</td>\n",
       "      <td>2009-12-01 07:45:00</td>\n",
       "      <td>6.75</td>\n",
       "      <td>13085.0</td>\n",
       "      <td>United Kingdom</td>\n",
       "      <td>81.0</td>\n",
       "    </tr>\n",
       "    <tr>\n",
       "      <th>3</th>\n",
       "      <td>489434</td>\n",
       "      <td>22041</td>\n",
       "      <td>RECORD FRAME 7\" SINGLE SIZE</td>\n",
       "      <td>48</td>\n",
       "      <td>2009-12-01 07:45:00</td>\n",
       "      <td>2.10</td>\n",
       "      <td>13085.0</td>\n",
       "      <td>United Kingdom</td>\n",
       "      <td>100.8</td>\n",
       "    </tr>\n",
       "    <tr>\n",
       "      <th>4</th>\n",
       "      <td>489434</td>\n",
       "      <td>21232</td>\n",
       "      <td>STRAWBERRY CERAMIC TRINKET BOX</td>\n",
       "      <td>24</td>\n",
       "      <td>2009-12-01 07:45:00</td>\n",
       "      <td>1.25</td>\n",
       "      <td>13085.0</td>\n",
       "      <td>United Kingdom</td>\n",
       "      <td>30.0</td>\n",
       "    </tr>\n",
       "  </tbody>\n",
       "</table>\n",
       "</div>"
      ],
      "text/plain": [
       "  Invoice StockCode                          Description  Quantity  \\\n",
       "0  489434     85048  15CM CHRISTMAS GLASS BALL 20 LIGHTS        12   \n",
       "1  489434    79323P                   PINK CHERRY LIGHTS        12   \n",
       "2  489434    79323W                  WHITE CHERRY LIGHTS        12   \n",
       "3  489434     22041         RECORD FRAME 7\" SINGLE SIZE         48   \n",
       "4  489434     21232       STRAWBERRY CERAMIC TRINKET BOX        24   \n",
       "\n",
       "           InvoiceDate  Price Customer ID         Country  Amount  \n",
       "0  2009-12-01 07:45:00   6.95     13085.0  United Kingdom    83.4  \n",
       "1  2009-12-01 07:45:00   6.75     13085.0  United Kingdom    81.0  \n",
       "2  2009-12-01 07:45:00   6.75     13085.0  United Kingdom    81.0  \n",
       "3  2009-12-01 07:45:00   2.10     13085.0  United Kingdom   100.8  \n",
       "4  2009-12-01 07:45:00   1.25     13085.0  United Kingdom    30.0  "
      ]
     },
     "execution_count": 22,
     "metadata": {},
     "output_type": "execute_result"
    }
   ],
   "source": [
    "# New Attribute : Monetary\n",
    "\n",
    "retail['Amount'] = retail['Quantity']*retail['Price']\n",
    "retail.head()"
   ]
  },
  {
   "cell_type": "code",
   "execution_count": 23,
   "metadata": {
    "execution": {
     "iopub.execute_input": "2023-11-07T11:23:46.435121Z",
     "iopub.status.busy": "2023-11-07T11:23:46.434721Z",
     "iopub.status.idle": "2023-11-07T11:23:46.528003Z",
     "shell.execute_reply": "2023-11-07T11:23:46.526783Z",
     "shell.execute_reply.started": "2023-11-07T11:23:46.435091Z"
    },
    "trusted": true
   },
   "outputs": [
    {
     "data": {
      "text/html": [
       "<div>\n",
       "<style scoped>\n",
       "    .dataframe tbody tr th:only-of-type {\n",
       "        vertical-align: middle;\n",
       "    }\n",
       "\n",
       "    .dataframe tbody tr th {\n",
       "        vertical-align: top;\n",
       "    }\n",
       "\n",
       "    .dataframe thead th {\n",
       "        text-align: right;\n",
       "    }\n",
       "</style>\n",
       "<table border=\"1\" class=\"dataframe\">\n",
       "  <thead>\n",
       "    <tr style=\"text-align: right;\">\n",
       "      <th></th>\n",
       "      <th>Customer ID</th>\n",
       "      <th>Monetary</th>\n",
       "    </tr>\n",
       "  </thead>\n",
       "  <tbody>\n",
       "    <tr>\n",
       "      <th>0</th>\n",
       "      <td>12346.0</td>\n",
       "      <td>77556.46</td>\n",
       "    </tr>\n",
       "    <tr>\n",
       "      <th>1</th>\n",
       "      <td>12347.0</td>\n",
       "      <td>5633.32</td>\n",
       "    </tr>\n",
       "    <tr>\n",
       "      <th>2</th>\n",
       "      <td>12348.0</td>\n",
       "      <td>2019.40</td>\n",
       "    </tr>\n",
       "    <tr>\n",
       "      <th>3</th>\n",
       "      <td>12349.0</td>\n",
       "      <td>4428.69</td>\n",
       "    </tr>\n",
       "    <tr>\n",
       "      <th>4</th>\n",
       "      <td>12350.0</td>\n",
       "      <td>334.40</td>\n",
       "    </tr>\n",
       "  </tbody>\n",
       "</table>\n",
       "</div>"
      ],
      "text/plain": [
       "  Customer ID  Monetary\n",
       "0     12346.0  77556.46\n",
       "1     12347.0   5633.32\n",
       "2     12348.0   2019.40\n",
       "3     12349.0   4428.69\n",
       "4     12350.0    334.40"
      ]
     },
     "execution_count": 23,
     "metadata": {},
     "output_type": "execute_result"
    }
   ],
   "source": [
    "rfm_m = retail.groupby('Customer ID')['Amount'].sum()\n",
    "rfm_m = rfm_m.reset_index()\n",
    "rfm_m.columns = ['Customer ID', 'Monetary']\n",
    "rfm_m.head()"
   ]
  },
  {
   "cell_type": "markdown",
   "metadata": {},
   "source": [
    "#### New Attribute Creation: Frequency"
   ]
  },
  {
   "cell_type": "code",
   "execution_count": 24,
   "metadata": {
    "execution": {
     "iopub.execute_input": "2023-11-07T11:23:47.236367Z",
     "iopub.status.busy": "2023-11-07T11:23:47.235984Z",
     "iopub.status.idle": "2023-11-07T11:23:47.357258Z",
     "shell.execute_reply": "2023-11-07T11:23:47.355892Z",
     "shell.execute_reply.started": "2023-11-07T11:23:47.236341Z"
    },
    "trusted": true
   },
   "outputs": [
    {
     "data": {
      "text/html": [
       "<div>\n",
       "<style scoped>\n",
       "    .dataframe tbody tr th:only-of-type {\n",
       "        vertical-align: middle;\n",
       "    }\n",
       "\n",
       "    .dataframe tbody tr th {\n",
       "        vertical-align: top;\n",
       "    }\n",
       "\n",
       "    .dataframe thead th {\n",
       "        text-align: right;\n",
       "    }\n",
       "</style>\n",
       "<table border=\"1\" class=\"dataframe\">\n",
       "  <thead>\n",
       "    <tr style=\"text-align: right;\">\n",
       "      <th></th>\n",
       "      <th>Customer ID</th>\n",
       "      <th>Invoice</th>\n",
       "    </tr>\n",
       "  </thead>\n",
       "  <tbody>\n",
       "    <tr>\n",
       "      <th>0</th>\n",
       "      <td>12346.0</td>\n",
       "      <td>34</td>\n",
       "    </tr>\n",
       "    <tr>\n",
       "      <th>1</th>\n",
       "      <td>12347.0</td>\n",
       "      <td>253</td>\n",
       "    </tr>\n",
       "    <tr>\n",
       "      <th>2</th>\n",
       "      <td>12348.0</td>\n",
       "      <td>51</td>\n",
       "    </tr>\n",
       "    <tr>\n",
       "      <th>3</th>\n",
       "      <td>12349.0</td>\n",
       "      <td>175</td>\n",
       "    </tr>\n",
       "    <tr>\n",
       "      <th>4</th>\n",
       "      <td>12350.0</td>\n",
       "      <td>17</td>\n",
       "    </tr>\n",
       "  </tbody>\n",
       "</table>\n",
       "</div>"
      ],
      "text/plain": [
       "  Customer ID  Invoice\n",
       "0     12346.0       34\n",
       "1     12347.0      253\n",
       "2     12348.0       51\n",
       "3     12349.0      175\n",
       "4     12350.0       17"
      ]
     },
     "execution_count": 24,
     "metadata": {},
     "output_type": "execute_result"
    }
   ],
   "source": [
    "# New Attribute : Frequency\n",
    "\n",
    "rfm_f = retail.groupby('Customer ID')['Invoice'].count()\n",
    "rfm_f = rfm_f.reset_index()\n",
    "rfm_f.head()"
   ]
  },
  {
   "cell_type": "code",
   "execution_count": 25,
   "metadata": {
    "execution": {
     "iopub.execute_input": "2023-11-07T11:23:47.648236Z",
     "iopub.status.busy": "2023-11-07T11:23:47.647833Z",
     "iopub.status.idle": "2023-11-07T11:23:47.658661Z",
     "shell.execute_reply": "2023-11-07T11:23:47.657362Z",
     "shell.execute_reply.started": "2023-11-07T11:23:47.648204Z"
    },
    "trusted": true
   },
   "outputs": [
    {
     "data": {
      "text/html": [
       "<div>\n",
       "<style scoped>\n",
       "    .dataframe tbody tr th:only-of-type {\n",
       "        vertical-align: middle;\n",
       "    }\n",
       "\n",
       "    .dataframe tbody tr th {\n",
       "        vertical-align: top;\n",
       "    }\n",
       "\n",
       "    .dataframe thead th {\n",
       "        text-align: right;\n",
       "    }\n",
       "</style>\n",
       "<table border=\"1\" class=\"dataframe\">\n",
       "  <thead>\n",
       "    <tr style=\"text-align: right;\">\n",
       "      <th></th>\n",
       "      <th>Customer ID</th>\n",
       "      <th>Frequency</th>\n",
       "    </tr>\n",
       "  </thead>\n",
       "  <tbody>\n",
       "    <tr>\n",
       "      <th>0</th>\n",
       "      <td>12346.0</td>\n",
       "      <td>34</td>\n",
       "    </tr>\n",
       "    <tr>\n",
       "      <th>1</th>\n",
       "      <td>12347.0</td>\n",
       "      <td>253</td>\n",
       "    </tr>\n",
       "    <tr>\n",
       "      <th>2</th>\n",
       "      <td>12348.0</td>\n",
       "      <td>51</td>\n",
       "    </tr>\n",
       "    <tr>\n",
       "      <th>3</th>\n",
       "      <td>12349.0</td>\n",
       "      <td>175</td>\n",
       "    </tr>\n",
       "    <tr>\n",
       "      <th>4</th>\n",
       "      <td>12350.0</td>\n",
       "      <td>17</td>\n",
       "    </tr>\n",
       "  </tbody>\n",
       "</table>\n",
       "</div>"
      ],
      "text/plain": [
       "  Customer ID  Frequency\n",
       "0     12346.0         34\n",
       "1     12347.0        253\n",
       "2     12348.0         51\n",
       "3     12349.0        175\n",
       "4     12350.0         17"
      ]
     },
     "execution_count": 25,
     "metadata": {},
     "output_type": "execute_result"
    }
   ],
   "source": [
    "rfm_f.columns = ['Customer ID', 'Frequency']\n",
    "rfm_f.head()"
   ]
  },
  {
   "cell_type": "code",
   "execution_count": 26,
   "metadata": {
    "execution": {
     "iopub.execute_input": "2023-11-07T11:23:48.004497Z",
     "iopub.status.busy": "2023-11-07T11:23:48.004066Z",
     "iopub.status.idle": "2023-11-07T11:23:48.027080Z",
     "shell.execute_reply": "2023-11-07T11:23:48.025850Z",
     "shell.execute_reply.started": "2023-11-07T11:23:48.004462Z"
    },
    "trusted": true
   },
   "outputs": [
    {
     "data": {
      "text/html": [
       "<div>\n",
       "<style scoped>\n",
       "    .dataframe tbody tr th:only-of-type {\n",
       "        vertical-align: middle;\n",
       "    }\n",
       "\n",
       "    .dataframe tbody tr th {\n",
       "        vertical-align: top;\n",
       "    }\n",
       "\n",
       "    .dataframe thead th {\n",
       "        text-align: right;\n",
       "    }\n",
       "</style>\n",
       "<table border=\"1\" class=\"dataframe\">\n",
       "  <thead>\n",
       "    <tr style=\"text-align: right;\">\n",
       "      <th></th>\n",
       "      <th>Customer ID</th>\n",
       "      <th>Monetary</th>\n",
       "      <th>Frequency</th>\n",
       "    </tr>\n",
       "  </thead>\n",
       "  <tbody>\n",
       "    <tr>\n",
       "      <th>0</th>\n",
       "      <td>12346.0</td>\n",
       "      <td>77556.46</td>\n",
       "      <td>34</td>\n",
       "    </tr>\n",
       "    <tr>\n",
       "      <th>1</th>\n",
       "      <td>12347.0</td>\n",
       "      <td>5633.32</td>\n",
       "      <td>253</td>\n",
       "    </tr>\n",
       "    <tr>\n",
       "      <th>2</th>\n",
       "      <td>12348.0</td>\n",
       "      <td>2019.40</td>\n",
       "      <td>51</td>\n",
       "    </tr>\n",
       "    <tr>\n",
       "      <th>3</th>\n",
       "      <td>12349.0</td>\n",
       "      <td>4428.69</td>\n",
       "      <td>175</td>\n",
       "    </tr>\n",
       "    <tr>\n",
       "      <th>4</th>\n",
       "      <td>12350.0</td>\n",
       "      <td>334.40</td>\n",
       "      <td>17</td>\n",
       "    </tr>\n",
       "  </tbody>\n",
       "</table>\n",
       "</div>"
      ],
      "text/plain": [
       "  Customer ID  Monetary  Frequency\n",
       "0     12346.0  77556.46         34\n",
       "1     12347.0   5633.32        253\n",
       "2     12348.0   2019.40         51\n",
       "3     12349.0   4428.69        175\n",
       "4     12350.0    334.40         17"
      ]
     },
     "execution_count": 26,
     "metadata": {},
     "output_type": "execute_result"
    }
   ],
   "source": [
    "# Merging the newly created dataframes together\n",
    "\n",
    "rfm = pd.merge(rfm_m, rfm_f, on='Customer ID', how='inner')\n",
    "rfm.head()"
   ]
  },
  {
   "cell_type": "markdown",
   "metadata": {},
   "source": [
    "#### New Attribute Creation: Recency"
   ]
  },
  {
   "cell_type": "code",
   "execution_count": 27,
   "metadata": {
    "execution": {
     "iopub.execute_input": "2023-11-07T11:23:52.004060Z",
     "iopub.status.busy": "2023-11-07T11:23:52.003576Z",
     "iopub.status.idle": "2023-11-07T11:23:52.014048Z",
     "shell.execute_reply": "2023-11-07T11:23:52.012847Z",
     "shell.execute_reply.started": "2023-11-07T11:23:52.004012Z"
    },
    "trusted": true
   },
   "outputs": [
    {
     "data": {
      "text/plain": [
       "Invoice         object\n",
       "StockCode       object\n",
       "Description     object\n",
       "Quantity         int64\n",
       "InvoiceDate     object\n",
       "Price          float64\n",
       "Customer ID     object\n",
       "Country         object\n",
       "Amount         float64\n",
       "dtype: object"
      ]
     },
     "execution_count": 27,
     "metadata": {},
     "output_type": "execute_result"
    }
   ],
   "source": [
    "retail.dtypes"
   ]
  },
  {
   "cell_type": "markdown",
   "metadata": {},
   "source": [
    "- InvoiceDate is not in datetime datatype. Here, need for DataType Conversion"
   ]
  },
  {
   "cell_type": "code",
   "execution_count": 28,
   "metadata": {
    "execution": {
     "iopub.execute_input": "2023-11-07T11:23:52.017026Z",
     "iopub.status.busy": "2023-11-07T11:23:52.016280Z",
     "iopub.status.idle": "2023-11-07T11:23:52.153135Z",
     "shell.execute_reply": "2023-11-07T11:23:52.152060Z",
     "shell.execute_reply.started": "2023-11-07T11:23:52.016983Z"
    },
    "trusted": true
   },
   "outputs": [],
   "source": [
    "retail['InvoiceDate'] = pd.to_datetime(retail['InvoiceDate'])"
   ]
  },
  {
   "cell_type": "code",
   "execution_count": 29,
   "metadata": {
    "execution": {
     "iopub.execute_input": "2023-11-07T11:23:52.155515Z",
     "iopub.status.busy": "2023-11-07T11:23:52.154406Z",
     "iopub.status.idle": "2023-11-07T11:23:52.165194Z",
     "shell.execute_reply": "2023-11-07T11:23:52.163769Z",
     "shell.execute_reply.started": "2023-11-07T11:23:52.155469Z"
    },
    "trusted": true
   },
   "outputs": [
    {
     "data": {
      "text/plain": [
       "Invoice                object\n",
       "StockCode              object\n",
       "Description            object\n",
       "Quantity                int64\n",
       "InvoiceDate    datetime64[ns]\n",
       "Price                 float64\n",
       "Customer ID            object\n",
       "Country                object\n",
       "Amount                float64\n",
       "dtype: object"
      ]
     },
     "execution_count": 29,
     "metadata": {},
     "output_type": "execute_result"
    }
   ],
   "source": [
    "retail.dtypes"
   ]
  },
  {
   "cell_type": "code",
   "execution_count": 30,
   "metadata": {
    "execution": {
     "iopub.execute_input": "2023-11-07T11:23:52.168786Z",
     "iopub.status.busy": "2023-11-07T11:23:52.168298Z",
     "iopub.status.idle": "2023-11-07T11:23:55.352615Z",
     "shell.execute_reply": "2023-11-07T11:23:55.351529Z",
     "shell.execute_reply.started": "2023-11-07T11:23:52.168728Z"
    },
    "trusted": true
   },
   "outputs": [
    {
     "name": "stdout",
     "output_type": "stream",
     "text": [
      "2009-12-01 07:45:00 2011-12-09 12:50:00\n"
     ]
    }
   ],
   "source": [
    "# Getting Data range\n",
    "\n",
    "min_date = min(retail['InvoiceDate'])\n",
    "max_date = max(retail['InvoiceDate'])\n",
    "\n",
    "print(min_date,max_date)"
   ]
  },
  {
   "cell_type": "code",
   "execution_count": 31,
   "metadata": {
    "execution": {
     "iopub.execute_input": "2023-11-07T11:23:55.354485Z",
     "iopub.status.busy": "2023-11-07T11:23:55.354151Z",
     "iopub.status.idle": "2023-11-07T11:23:55.380563Z",
     "shell.execute_reply": "2023-11-07T11:23:55.379434Z",
     "shell.execute_reply.started": "2023-11-07T11:23:55.354458Z"
    },
    "trusted": true
   },
   "outputs": [
    {
     "data": {
      "text/html": [
       "<div>\n",
       "<style scoped>\n",
       "    .dataframe tbody tr th:only-of-type {\n",
       "        vertical-align: middle;\n",
       "    }\n",
       "\n",
       "    .dataframe tbody tr th {\n",
       "        vertical-align: top;\n",
       "    }\n",
       "\n",
       "    .dataframe thead th {\n",
       "        text-align: right;\n",
       "    }\n",
       "</style>\n",
       "<table border=\"1\" class=\"dataframe\">\n",
       "  <thead>\n",
       "    <tr style=\"text-align: right;\">\n",
       "      <th></th>\n",
       "      <th>Invoice</th>\n",
       "      <th>StockCode</th>\n",
       "      <th>Description</th>\n",
       "      <th>Quantity</th>\n",
       "      <th>InvoiceDate</th>\n",
       "      <th>Price</th>\n",
       "      <th>Customer ID</th>\n",
       "      <th>Country</th>\n",
       "      <th>Amount</th>\n",
       "      <th>Diff_Days</th>\n",
       "    </tr>\n",
       "  </thead>\n",
       "  <tbody>\n",
       "    <tr>\n",
       "      <th>0</th>\n",
       "      <td>489434</td>\n",
       "      <td>85048</td>\n",
       "      <td>15CM CHRISTMAS GLASS BALL 20 LIGHTS</td>\n",
       "      <td>12</td>\n",
       "      <td>2009-12-01 07:45:00</td>\n",
       "      <td>6.95</td>\n",
       "      <td>13085.0</td>\n",
       "      <td>United Kingdom</td>\n",
       "      <td>83.4</td>\n",
       "      <td>738 days 05:05:00</td>\n",
       "    </tr>\n",
       "    <tr>\n",
       "      <th>1</th>\n",
       "      <td>489434</td>\n",
       "      <td>79323P</td>\n",
       "      <td>PINK CHERRY LIGHTS</td>\n",
       "      <td>12</td>\n",
       "      <td>2009-12-01 07:45:00</td>\n",
       "      <td>6.75</td>\n",
       "      <td>13085.0</td>\n",
       "      <td>United Kingdom</td>\n",
       "      <td>81.0</td>\n",
       "      <td>738 days 05:05:00</td>\n",
       "    </tr>\n",
       "    <tr>\n",
       "      <th>2</th>\n",
       "      <td>489434</td>\n",
       "      <td>79323W</td>\n",
       "      <td>WHITE CHERRY LIGHTS</td>\n",
       "      <td>12</td>\n",
       "      <td>2009-12-01 07:45:00</td>\n",
       "      <td>6.75</td>\n",
       "      <td>13085.0</td>\n",
       "      <td>United Kingdom</td>\n",
       "      <td>81.0</td>\n",
       "      <td>738 days 05:05:00</td>\n",
       "    </tr>\n",
       "    <tr>\n",
       "      <th>3</th>\n",
       "      <td>489434</td>\n",
       "      <td>22041</td>\n",
       "      <td>RECORD FRAME 7\" SINGLE SIZE</td>\n",
       "      <td>48</td>\n",
       "      <td>2009-12-01 07:45:00</td>\n",
       "      <td>2.10</td>\n",
       "      <td>13085.0</td>\n",
       "      <td>United Kingdom</td>\n",
       "      <td>100.8</td>\n",
       "      <td>738 days 05:05:00</td>\n",
       "    </tr>\n",
       "    <tr>\n",
       "      <th>4</th>\n",
       "      <td>489434</td>\n",
       "      <td>21232</td>\n",
       "      <td>STRAWBERRY CERAMIC TRINKET BOX</td>\n",
       "      <td>24</td>\n",
       "      <td>2009-12-01 07:45:00</td>\n",
       "      <td>1.25</td>\n",
       "      <td>13085.0</td>\n",
       "      <td>United Kingdom</td>\n",
       "      <td>30.0</td>\n",
       "      <td>738 days 05:05:00</td>\n",
       "    </tr>\n",
       "  </tbody>\n",
       "</table>\n",
       "</div>"
      ],
      "text/plain": [
       "  Invoice StockCode                          Description  Quantity  \\\n",
       "0  489434     85048  15CM CHRISTMAS GLASS BALL 20 LIGHTS        12   \n",
       "1  489434    79323P                   PINK CHERRY LIGHTS        12   \n",
       "2  489434    79323W                  WHITE CHERRY LIGHTS        12   \n",
       "3  489434     22041         RECORD FRAME 7\" SINGLE SIZE         48   \n",
       "4  489434     21232       STRAWBERRY CERAMIC TRINKET BOX        24   \n",
       "\n",
       "          InvoiceDate  Price Customer ID         Country  Amount  \\\n",
       "0 2009-12-01 07:45:00   6.95     13085.0  United Kingdom    83.4   \n",
       "1 2009-12-01 07:45:00   6.75     13085.0  United Kingdom    81.0   \n",
       "2 2009-12-01 07:45:00   6.75     13085.0  United Kingdom    81.0   \n",
       "3 2009-12-01 07:45:00   2.10     13085.0  United Kingdom   100.8   \n",
       "4 2009-12-01 07:45:00   1.25     13085.0  United Kingdom    30.0   \n",
       "\n",
       "          Diff_Days  \n",
       "0 738 days 05:05:00  \n",
       "1 738 days 05:05:00  \n",
       "2 738 days 05:05:00  \n",
       "3 738 days 05:05:00  \n",
       "4 738 days 05:05:00  "
      ]
     },
     "execution_count": 31,
     "metadata": {},
     "output_type": "execute_result"
    }
   ],
   "source": [
    "# Compute the difference between max date and transaction date\n",
    "\n",
    "retail['Diff_Days'] = max_date - retail['InvoiceDate']\n",
    "retail.head()"
   ]
  },
  {
   "cell_type": "code",
   "execution_count": 32,
   "metadata": {
    "execution": {
     "iopub.execute_input": "2023-11-07T11:23:55.382597Z",
     "iopub.status.busy": "2023-11-07T11:23:55.381802Z",
     "iopub.status.idle": "2023-11-07T11:23:55.473352Z",
     "shell.execute_reply": "2023-11-07T11:23:55.472387Z",
     "shell.execute_reply.started": "2023-11-07T11:23:55.382567Z"
    },
    "trusted": true
   },
   "outputs": [
    {
     "data": {
      "text/html": [
       "<div>\n",
       "<style scoped>\n",
       "    .dataframe tbody tr th:only-of-type {\n",
       "        vertical-align: middle;\n",
       "    }\n",
       "\n",
       "    .dataframe tbody tr th {\n",
       "        vertical-align: top;\n",
       "    }\n",
       "\n",
       "    .dataframe thead th {\n",
       "        text-align: right;\n",
       "    }\n",
       "</style>\n",
       "<table border=\"1\" class=\"dataframe\">\n",
       "  <thead>\n",
       "    <tr style=\"text-align: right;\">\n",
       "      <th></th>\n",
       "      <th>Customer ID</th>\n",
       "      <th>Diff_Days</th>\n",
       "    </tr>\n",
       "  </thead>\n",
       "  <tbody>\n",
       "    <tr>\n",
       "      <th>0</th>\n",
       "      <td>12346.0</td>\n",
       "      <td>325 days 02:49:00</td>\n",
       "    </tr>\n",
       "    <tr>\n",
       "      <th>1</th>\n",
       "      <td>12347.0</td>\n",
       "      <td>1 days 20:58:00</td>\n",
       "    </tr>\n",
       "    <tr>\n",
       "      <th>2</th>\n",
       "      <td>12348.0</td>\n",
       "      <td>74 days 23:37:00</td>\n",
       "    </tr>\n",
       "    <tr>\n",
       "      <th>3</th>\n",
       "      <td>12349.0</td>\n",
       "      <td>18 days 02:59:00</td>\n",
       "    </tr>\n",
       "    <tr>\n",
       "      <th>4</th>\n",
       "      <td>12350.0</td>\n",
       "      <td>309 days 20:49:00</td>\n",
       "    </tr>\n",
       "  </tbody>\n",
       "</table>\n",
       "</div>"
      ],
      "text/plain": [
       "  Customer ID         Diff_Days\n",
       "0     12346.0 325 days 02:49:00\n",
       "1     12347.0   1 days 20:58:00\n",
       "2     12348.0  74 days 23:37:00\n",
       "3     12349.0  18 days 02:59:00\n",
       "4     12350.0 309 days 20:49:00"
      ]
     },
     "execution_count": 32,
     "metadata": {},
     "output_type": "execute_result"
    }
   ],
   "source": [
    "# Compute last transaction date to get the recency of customers\n",
    "\n",
    "rfm_r = retail.groupby('Customer ID')['Diff_Days'].min()\n",
    "rfm_r = rfm_r.reset_index()\n",
    "rfm_r.head()"
   ]
  },
  {
   "cell_type": "code",
   "execution_count": 33,
   "metadata": {
    "execution": {
     "iopub.execute_input": "2023-11-07T11:23:55.475061Z",
     "iopub.status.busy": "2023-11-07T11:23:55.474545Z",
     "iopub.status.idle": "2023-11-07T11:23:55.485830Z",
     "shell.execute_reply": "2023-11-07T11:23:55.484475Z",
     "shell.execute_reply.started": "2023-11-07T11:23:55.475032Z"
    },
    "trusted": true
   },
   "outputs": [
    {
     "data": {
      "text/html": [
       "<div>\n",
       "<style scoped>\n",
       "    .dataframe tbody tr th:only-of-type {\n",
       "        vertical-align: middle;\n",
       "    }\n",
       "\n",
       "    .dataframe tbody tr th {\n",
       "        vertical-align: top;\n",
       "    }\n",
       "\n",
       "    .dataframe thead th {\n",
       "        text-align: right;\n",
       "    }\n",
       "</style>\n",
       "<table border=\"1\" class=\"dataframe\">\n",
       "  <thead>\n",
       "    <tr style=\"text-align: right;\">\n",
       "      <th></th>\n",
       "      <th>Customer ID</th>\n",
       "      <th>Diff_Days</th>\n",
       "    </tr>\n",
       "  </thead>\n",
       "  <tbody>\n",
       "    <tr>\n",
       "      <th>0</th>\n",
       "      <td>12346.0</td>\n",
       "      <td>325</td>\n",
       "    </tr>\n",
       "    <tr>\n",
       "      <th>1</th>\n",
       "      <td>12347.0</td>\n",
       "      <td>1</td>\n",
       "    </tr>\n",
       "    <tr>\n",
       "      <th>2</th>\n",
       "      <td>12348.0</td>\n",
       "      <td>74</td>\n",
       "    </tr>\n",
       "    <tr>\n",
       "      <th>3</th>\n",
       "      <td>12349.0</td>\n",
       "      <td>18</td>\n",
       "    </tr>\n",
       "    <tr>\n",
       "      <th>4</th>\n",
       "      <td>12350.0</td>\n",
       "      <td>309</td>\n",
       "    </tr>\n",
       "  </tbody>\n",
       "</table>\n",
       "</div>"
      ],
      "text/plain": [
       "  Customer ID  Diff_Days\n",
       "0     12346.0        325\n",
       "1     12347.0          1\n",
       "2     12348.0         74\n",
       "3     12349.0         18\n",
       "4     12350.0        309"
      ]
     },
     "execution_count": 33,
     "metadata": {},
     "output_type": "execute_result"
    }
   ],
   "source": [
    "# Extract number of days only\n",
    "\n",
    "rfm_r['Diff_Days'] = rfm_r['Diff_Days'].dt.days\n",
    "rfm_r.head()"
   ]
  },
  {
   "cell_type": "code",
   "execution_count": 34,
   "metadata": {
    "execution": {
     "iopub.execute_input": "2023-11-07T11:23:55.487692Z",
     "iopub.status.busy": "2023-11-07T11:23:55.487300Z",
     "iopub.status.idle": "2023-11-07T11:23:55.511431Z",
     "shell.execute_reply": "2023-11-07T11:23:55.509977Z",
     "shell.execute_reply.started": "2023-11-07T11:23:55.487629Z"
    },
    "trusted": true
   },
   "outputs": [
    {
     "data": {
      "text/html": [
       "<div>\n",
       "<style scoped>\n",
       "    .dataframe tbody tr th:only-of-type {\n",
       "        vertical-align: middle;\n",
       "    }\n",
       "\n",
       "    .dataframe tbody tr th {\n",
       "        vertical-align: top;\n",
       "    }\n",
       "\n",
       "    .dataframe thead th {\n",
       "        text-align: right;\n",
       "    }\n",
       "</style>\n",
       "<table border=\"1\" class=\"dataframe\">\n",
       "  <thead>\n",
       "    <tr style=\"text-align: right;\">\n",
       "      <th></th>\n",
       "      <th>Customer ID</th>\n",
       "      <th>Monetary</th>\n",
       "      <th>Frequency</th>\n",
       "      <th>Recency</th>\n",
       "    </tr>\n",
       "  </thead>\n",
       "  <tbody>\n",
       "    <tr>\n",
       "      <th>0</th>\n",
       "      <td>12346.0</td>\n",
       "      <td>77556.46</td>\n",
       "      <td>34</td>\n",
       "      <td>325</td>\n",
       "    </tr>\n",
       "    <tr>\n",
       "      <th>1</th>\n",
       "      <td>12347.0</td>\n",
       "      <td>5633.32</td>\n",
       "      <td>253</td>\n",
       "      <td>1</td>\n",
       "    </tr>\n",
       "    <tr>\n",
       "      <th>2</th>\n",
       "      <td>12348.0</td>\n",
       "      <td>2019.40</td>\n",
       "      <td>51</td>\n",
       "      <td>74</td>\n",
       "    </tr>\n",
       "    <tr>\n",
       "      <th>3</th>\n",
       "      <td>12349.0</td>\n",
       "      <td>4428.69</td>\n",
       "      <td>175</td>\n",
       "      <td>18</td>\n",
       "    </tr>\n",
       "    <tr>\n",
       "      <th>4</th>\n",
       "      <td>12350.0</td>\n",
       "      <td>334.40</td>\n",
       "      <td>17</td>\n",
       "      <td>309</td>\n",
       "    </tr>\n",
       "  </tbody>\n",
       "</table>\n",
       "</div>"
      ],
      "text/plain": [
       "  Customer ID  Monetary  Frequency  Recency\n",
       "0     12346.0  77556.46         34      325\n",
       "1     12347.0   5633.32        253        1\n",
       "2     12348.0   2019.40         51       74\n",
       "3     12349.0   4428.69        175       18\n",
       "4     12350.0    334.40         17      309"
      ]
     },
     "execution_count": 34,
     "metadata": {},
     "output_type": "execute_result"
    }
   ],
   "source": [
    "# Merge all the newly created attribute to get the final RFM dataframe\n",
    "\n",
    "rfm = pd.merge(rfm,rfm_r, on='Customer ID', how='inner')\n",
    "rfm.columns = ['Customer ID', 'Monetary', 'Frequency', 'Recency']\n",
    "rfm.head()"
   ]
  },
  {
   "cell_type": "code",
   "execution_count": 35,
   "metadata": {
    "execution": {
     "iopub.execute_input": "2023-11-07T11:23:55.513328Z",
     "iopub.status.busy": "2023-11-07T11:23:55.512627Z",
     "iopub.status.idle": "2023-11-07T11:23:55.537857Z",
     "shell.execute_reply": "2023-11-07T11:23:55.536792Z",
     "shell.execute_reply.started": "2023-11-07T11:23:55.513296Z"
    },
    "trusted": true
   },
   "outputs": [
    {
     "data": {
      "text/html": [
       "<div>\n",
       "<style scoped>\n",
       "    .dataframe tbody tr th:only-of-type {\n",
       "        vertical-align: middle;\n",
       "    }\n",
       "\n",
       "    .dataframe tbody tr th {\n",
       "        vertical-align: top;\n",
       "    }\n",
       "\n",
       "    .dataframe thead th {\n",
       "        text-align: right;\n",
       "    }\n",
       "</style>\n",
       "<table border=\"1\" class=\"dataframe\">\n",
       "  <thead>\n",
       "    <tr style=\"text-align: right;\">\n",
       "      <th></th>\n",
       "      <th>count</th>\n",
       "      <th>mean</th>\n",
       "      <th>std</th>\n",
       "      <th>min</th>\n",
       "      <th>25%</th>\n",
       "      <th>50%</th>\n",
       "      <th>75%</th>\n",
       "      <th>max</th>\n",
       "    </tr>\n",
       "  </thead>\n",
       "  <tbody>\n",
       "    <tr>\n",
       "      <th>Monetary</th>\n",
       "      <td>5878.0</td>\n",
       "      <td>3018.616737</td>\n",
       "      <td>14737.731040</td>\n",
       "      <td>2.95</td>\n",
       "      <td>348.7625</td>\n",
       "      <td>898.915</td>\n",
       "      <td>2307.09</td>\n",
       "      <td>608821.65</td>\n",
       "    </tr>\n",
       "    <tr>\n",
       "      <th>Frequency</th>\n",
       "      <td>5878.0</td>\n",
       "      <td>137.044743</td>\n",
       "      <td>353.818629</td>\n",
       "      <td>1.00</td>\n",
       "      <td>21.0000</td>\n",
       "      <td>53.000</td>\n",
       "      <td>142.00</td>\n",
       "      <td>12890.00</td>\n",
       "    </tr>\n",
       "    <tr>\n",
       "      <th>Recency</th>\n",
       "      <td>5878.0</td>\n",
       "      <td>200.331916</td>\n",
       "      <td>209.338707</td>\n",
       "      <td>0.00</td>\n",
       "      <td>25.0000</td>\n",
       "      <td>95.000</td>\n",
       "      <td>379.00</td>\n",
       "      <td>738.00</td>\n",
       "    </tr>\n",
       "  </tbody>\n",
       "</table>\n",
       "</div>"
      ],
      "text/plain": [
       "            count         mean           std   min       25%      50%  \\\n",
       "Monetary   5878.0  3018.616737  14737.731040  2.95  348.7625  898.915   \n",
       "Frequency  5878.0   137.044743    353.818629  1.00   21.0000   53.000   \n",
       "Recency    5878.0   200.331916    209.338707  0.00   25.0000   95.000   \n",
       "\n",
       "               75%        max  \n",
       "Monetary   2307.09  608821.65  \n",
       "Frequency   142.00   12890.00  \n",
       "Recency     379.00     738.00  "
      ]
     },
     "execution_count": 35,
     "metadata": {},
     "output_type": "execute_result"
    }
   ],
   "source": [
    "rfm.describe().T"
   ]
  },
  {
   "cell_type": "code",
   "execution_count": 36,
   "metadata": {
    "execution": {
     "iopub.execute_input": "2023-11-07T11:23:55.541284Z",
     "iopub.status.busy": "2023-11-07T11:23:55.540944Z",
     "iopub.status.idle": "2023-11-07T11:23:55.547210Z",
     "shell.execute_reply": "2023-11-07T11:23:55.546230Z",
     "shell.execute_reply.started": "2023-11-07T11:23:55.541252Z"
    },
    "trusted": true
   },
   "outputs": [
    {
     "data": {
      "text/plain": [
       "(5878, 4)"
      ]
     },
     "execution_count": 36,
     "metadata": {},
     "output_type": "execute_result"
    }
   ],
   "source": [
    "rfm.shape"
   ]
  },
  {
   "cell_type": "markdown",
   "metadata": {},
   "source": [
    "**`Note:`** There are 5878 unique count of customers."
   ]
  },
  {
   "cell_type": "markdown",
   "metadata": {},
   "source": [
    "### Calculating RFM Scores using RFM Metrics"
   ]
  },
  {
   "cell_type": "code",
   "execution_count": 37,
   "metadata": {
    "execution": {
     "iopub.execute_input": "2023-11-07T11:23:55.548958Z",
     "iopub.status.busy": "2023-11-07T11:23:55.548622Z",
     "iopub.status.idle": "2023-11-07T11:23:55.558850Z",
     "shell.execute_reply": "2023-11-07T11:23:55.557905Z",
     "shell.execute_reply.started": "2023-11-07T11:23:55.548928Z"
    },
    "trusted": true
   },
   "outputs": [],
   "source": [
    "rfm_scores = rfm.copy()"
   ]
  },
  {
   "cell_type": "code",
   "execution_count": 38,
   "metadata": {
    "execution": {
     "iopub.execute_input": "2023-11-07T11:23:55.561218Z",
     "iopub.status.busy": "2023-11-07T11:23:55.560209Z",
     "iopub.status.idle": "2023-11-07T11:23:55.575955Z",
     "shell.execute_reply": "2023-11-07T11:23:55.574844Z",
     "shell.execute_reply.started": "2023-11-07T11:23:55.561186Z"
    },
    "trusted": true
   },
   "outputs": [
    {
     "data": {
      "text/html": [
       "<div>\n",
       "<style scoped>\n",
       "    .dataframe tbody tr th:only-of-type {\n",
       "        vertical-align: middle;\n",
       "    }\n",
       "\n",
       "    .dataframe tbody tr th {\n",
       "        vertical-align: top;\n",
       "    }\n",
       "\n",
       "    .dataframe thead th {\n",
       "        text-align: right;\n",
       "    }\n",
       "</style>\n",
       "<table border=\"1\" class=\"dataframe\">\n",
       "  <thead>\n",
       "    <tr style=\"text-align: right;\">\n",
       "      <th></th>\n",
       "      <th>Customer ID</th>\n",
       "      <th>Monetary</th>\n",
       "      <th>Frequency</th>\n",
       "      <th>Recency</th>\n",
       "    </tr>\n",
       "  </thead>\n",
       "  <tbody>\n",
       "    <tr>\n",
       "      <th>0</th>\n",
       "      <td>12346.0</td>\n",
       "      <td>77556.46</td>\n",
       "      <td>34</td>\n",
       "      <td>325</td>\n",
       "    </tr>\n",
       "    <tr>\n",
       "      <th>1</th>\n",
       "      <td>12347.0</td>\n",
       "      <td>5633.32</td>\n",
       "      <td>253</td>\n",
       "      <td>1</td>\n",
       "    </tr>\n",
       "    <tr>\n",
       "      <th>2</th>\n",
       "      <td>12348.0</td>\n",
       "      <td>2019.40</td>\n",
       "      <td>51</td>\n",
       "      <td>74</td>\n",
       "    </tr>\n",
       "    <tr>\n",
       "      <th>3</th>\n",
       "      <td>12349.0</td>\n",
       "      <td>4428.69</td>\n",
       "      <td>175</td>\n",
       "      <td>18</td>\n",
       "    </tr>\n",
       "    <tr>\n",
       "      <th>4</th>\n",
       "      <td>12350.0</td>\n",
       "      <td>334.40</td>\n",
       "      <td>17</td>\n",
       "      <td>309</td>\n",
       "    </tr>\n",
       "  </tbody>\n",
       "</table>\n",
       "</div>"
      ],
      "text/plain": [
       "  Customer ID  Monetary  Frequency  Recency\n",
       "0     12346.0  77556.46         34      325\n",
       "1     12347.0   5633.32        253        1\n",
       "2     12348.0   2019.40         51       74\n",
       "3     12349.0   4428.69        175       18\n",
       "4     12350.0    334.40         17      309"
      ]
     },
     "execution_count": 38,
     "metadata": {},
     "output_type": "execute_result"
    }
   ],
   "source": [
    "rfm_scores.head()"
   ]
  },
  {
   "cell_type": "markdown",
   "metadata": {},
   "source": [
    "For each RFM dimension, score can be calculated in several ways: \n",
    "\n",
    "- 1.Percentiles e.g. quantiles\n",
    "\n",
    "- 2.Pareto 80/20 cut\n",
    "\n",
    "- 3.Custom based on business knowledge\n",
    "\n",
    "We are going to implement **percentile-based grouping** for each RFM dimension. Later combined label is created using these each RFM dimension.\n",
    "\n",
    "\n",
    "### Process of calculating percentiles:\n",
    "\n",
    "- Sort customers based on that metric\n",
    "- Break customers into a pre-defined number of groups of equal size\n",
    "- Assign a label to each group\n",
    "\n",
    "### Individual RFM dimension label\n",
    "\n",
    "For each RFM dimension, assign labels to the categories based on the behavior we want to capture. These labels should be intuitive and provide insight into customer behavior. Here's an example for each dimension:\n",
    "\n",
    "   - **Recency (R):**\n",
    "     - Label 5: \"Very Recent\"\n",
    "     - Label 4: \"Recent\"\n",
    "     - Label 3: \"Moderate\"\n",
    "     - Label 2: \"Infrequent\"\n",
    "     - Label 1: \"Very Infrequent\"\n",
    "\n",
    "   - **Frequency (F):**\n",
    "     - Label 5: \"Very Frequent\"\n",
    "     - Label 4: \"Frequent\"\n",
    "     - Label 3: \"Moderate\"\n",
    "     - Label 2: \"Infrequent\"\n",
    "     - Label 1: \"Very Infrequent\"\n",
    "\n",
    "   - **Monetary (M):**\n",
    "     - Label 5: \"High Spending\"\n",
    "     - Label 4: \"Above Average Spending\"\n",
    "     - Label 3: \"Average Spending\"\n",
    "     - Label 2: \"Below Average Spending\"\n",
    "     - Label 1: \"Low Spending\"\n",
    "\n",
    "### Combined RFM Labels\n",
    "\n",
    "Once we have assigned labels to the categories for each RFM dimension, you can create a **combined RFM label** for each customer by **concatenating the individual dimension labels** or by **adding individual dimension scores**. For example:\n",
    "   \n",
    "   - If a customer has **R=4, F=5, and M=3**, their combined RFM label would be **\"Recent-Very Frequent-Average Spending.\"**\n",
    "\n",
    "\n",
    "- We will rate **Recency** customer who have been active more recently better than the less recent customer,because each company wants its customers to be recent\n",
    "\n",
    "- We will rate **Frequency** and **Monetary Value** higher label because we want Customer to spend more money and visit more often (that is different order than recency)."
   ]
  },
  {
   "cell_type": "markdown",
   "metadata": {},
   "source": [
    "### Creating Individual RFM Dimension label"
   ]
  },
  {
   "cell_type": "code",
   "execution_count": 39,
   "metadata": {
    "execution": {
     "iopub.execute_input": "2023-11-07T11:23:55.577966Z",
     "iopub.status.busy": "2023-11-07T11:23:55.577175Z",
     "iopub.status.idle": "2023-11-07T11:23:55.593451Z",
     "shell.execute_reply": "2023-11-07T11:23:55.592252Z",
     "shell.execute_reply.started": "2023-11-07T11:23:55.577930Z"
    },
    "trusted": true
   },
   "outputs": [],
   "source": [
    "#Date from customer's last purchase.The nearest date gets 5 and the furthest date gets 1.\n",
    "rfm_scores['Recency_Score'] = pd.qcut(rfm_scores['Recency'],5,labels=[5,4,3,2,1])\n",
    "# Total number of purchases.The least frequency gets 1 and the maximum frequency gets 5.\n",
    "rfm_scores['Frequency_Score'] = pd.qcut(rfm_scores['Frequency'].rank(method='first'),5,labels=[1,2,3,4,5])\n",
    "#Total spend by the customer.The least money gets 1, the most money gets 5.\n",
    "rfm_scores['Monetary_Score'] = pd.qcut(rfm_scores['Monetary'],5,labels=[1,2,3,4,5])"
   ]
  },
  {
   "cell_type": "code",
   "execution_count": 40,
   "metadata": {
    "execution": {
     "iopub.execute_input": "2023-11-07T11:23:55.595233Z",
     "iopub.status.busy": "2023-11-07T11:23:55.594687Z",
     "iopub.status.idle": "2023-11-07T11:23:55.610074Z",
     "shell.execute_reply": "2023-11-07T11:23:55.608660Z",
     "shell.execute_reply.started": "2023-11-07T11:23:55.595200Z"
    },
    "trusted": true
   },
   "outputs": [
    {
     "data": {
      "text/html": [
       "<div>\n",
       "<style scoped>\n",
       "    .dataframe tbody tr th:only-of-type {\n",
       "        vertical-align: middle;\n",
       "    }\n",
       "\n",
       "    .dataframe tbody tr th {\n",
       "        vertical-align: top;\n",
       "    }\n",
       "\n",
       "    .dataframe thead th {\n",
       "        text-align: right;\n",
       "    }\n",
       "</style>\n",
       "<table border=\"1\" class=\"dataframe\">\n",
       "  <thead>\n",
       "    <tr style=\"text-align: right;\">\n",
       "      <th></th>\n",
       "      <th>Customer ID</th>\n",
       "      <th>Monetary</th>\n",
       "      <th>Frequency</th>\n",
       "      <th>Recency</th>\n",
       "      <th>Recency_Score</th>\n",
       "      <th>Frequency_Score</th>\n",
       "      <th>Monetary_Score</th>\n",
       "    </tr>\n",
       "  </thead>\n",
       "  <tbody>\n",
       "    <tr>\n",
       "      <th>0</th>\n",
       "      <td>12346.0</td>\n",
       "      <td>77556.46</td>\n",
       "      <td>34</td>\n",
       "      <td>325</td>\n",
       "      <td>2</td>\n",
       "      <td>2</td>\n",
       "      <td>5</td>\n",
       "    </tr>\n",
       "    <tr>\n",
       "      <th>1</th>\n",
       "      <td>12347.0</td>\n",
       "      <td>5633.32</td>\n",
       "      <td>253</td>\n",
       "      <td>1</td>\n",
       "      <td>5</td>\n",
       "      <td>5</td>\n",
       "      <td>5</td>\n",
       "    </tr>\n",
       "    <tr>\n",
       "      <th>2</th>\n",
       "      <td>12348.0</td>\n",
       "      <td>2019.40</td>\n",
       "      <td>51</td>\n",
       "      <td>74</td>\n",
       "      <td>3</td>\n",
       "      <td>3</td>\n",
       "      <td>4</td>\n",
       "    </tr>\n",
       "    <tr>\n",
       "      <th>3</th>\n",
       "      <td>12349.0</td>\n",
       "      <td>4428.69</td>\n",
       "      <td>175</td>\n",
       "      <td>18</td>\n",
       "      <td>5</td>\n",
       "      <td>4</td>\n",
       "      <td>5</td>\n",
       "    </tr>\n",
       "    <tr>\n",
       "      <th>4</th>\n",
       "      <td>12350.0</td>\n",
       "      <td>334.40</td>\n",
       "      <td>17</td>\n",
       "      <td>309</td>\n",
       "      <td>2</td>\n",
       "      <td>2</td>\n",
       "      <td>2</td>\n",
       "    </tr>\n",
       "  </tbody>\n",
       "</table>\n",
       "</div>"
      ],
      "text/plain": [
       "  Customer ID  Monetary  Frequency  Recency Recency_Score Frequency_Score  \\\n",
       "0     12346.0  77556.46         34      325             2               2   \n",
       "1     12347.0   5633.32        253        1             5               5   \n",
       "2     12348.0   2019.40         51       74             3               3   \n",
       "3     12349.0   4428.69        175       18             5               4   \n",
       "4     12350.0    334.40         17      309             2               2   \n",
       "\n",
       "  Monetary_Score  \n",
       "0              5  \n",
       "1              5  \n",
       "2              4  \n",
       "3              5  \n",
       "4              2  "
      ]
     },
     "execution_count": 40,
     "metadata": {},
     "output_type": "execute_result"
    }
   ],
   "source": [
    "rfm_scores.head()"
   ]
  },
  {
   "cell_type": "markdown",
   "metadata": {},
   "source": [
    "- **`Best Recency score = 5:` most recently purchase.** \n",
    "- **`Best Frequency score = 5:` most number of purchase.**\n",
    "- **`Best Monetary score = 5:` spent the most.**"
   ]
  },
  {
   "cell_type": "markdown",
   "metadata": {},
   "source": [
    "### Creating Combined RFM Label"
   ]
  },
  {
   "cell_type": "markdown",
   "metadata": {},
   "source": [
    "#### Method-1:  By concatenating the individual dimension labels"
   ]
  },
  {
   "cell_type": "code",
   "execution_count": 41,
   "metadata": {
    "execution": {
     "iopub.execute_input": "2023-11-07T11:23:57.852079Z",
     "iopub.status.busy": "2023-11-07T11:23:57.851635Z",
     "iopub.status.idle": "2023-11-07T11:23:57.865329Z",
     "shell.execute_reply": "2023-11-07T11:23:57.864162Z",
     "shell.execute_reply.started": "2023-11-07T11:23:57.852047Z"
    },
    "trusted": true
   },
   "outputs": [],
   "source": [
    "rfm_scores['RFM_Score_Segment'] = (rfm_scores['Recency_Score'].astype(str)+rfm_scores['Frequency_Score'].astype(str)+rfm_scores['Monetary_Score'].astype(str))"
   ]
  },
  {
   "cell_type": "code",
   "execution_count": 42,
   "metadata": {
    "execution": {
     "iopub.execute_input": "2023-11-07T11:23:58.188920Z",
     "iopub.status.busy": "2023-11-07T11:23:58.188525Z",
     "iopub.status.idle": "2023-11-07T11:23:58.204907Z",
     "shell.execute_reply": "2023-11-07T11:23:58.203776Z",
     "shell.execute_reply.started": "2023-11-07T11:23:58.188890Z"
    },
    "trusted": true
   },
   "outputs": [
    {
     "data": {
      "text/html": [
       "<div>\n",
       "<style scoped>\n",
       "    .dataframe tbody tr th:only-of-type {\n",
       "        vertical-align: middle;\n",
       "    }\n",
       "\n",
       "    .dataframe tbody tr th {\n",
       "        vertical-align: top;\n",
       "    }\n",
       "\n",
       "    .dataframe thead th {\n",
       "        text-align: right;\n",
       "    }\n",
       "</style>\n",
       "<table border=\"1\" class=\"dataframe\">\n",
       "  <thead>\n",
       "    <tr style=\"text-align: right;\">\n",
       "      <th></th>\n",
       "      <th>Customer ID</th>\n",
       "      <th>Monetary</th>\n",
       "      <th>Frequency</th>\n",
       "      <th>Recency</th>\n",
       "      <th>Recency_Score</th>\n",
       "      <th>Frequency_Score</th>\n",
       "      <th>Monetary_Score</th>\n",
       "      <th>RFM_Score_Segment</th>\n",
       "    </tr>\n",
       "  </thead>\n",
       "  <tbody>\n",
       "    <tr>\n",
       "      <th>0</th>\n",
       "      <td>12346.0</td>\n",
       "      <td>77556.46</td>\n",
       "      <td>34</td>\n",
       "      <td>325</td>\n",
       "      <td>2</td>\n",
       "      <td>2</td>\n",
       "      <td>5</td>\n",
       "      <td>225</td>\n",
       "    </tr>\n",
       "    <tr>\n",
       "      <th>1</th>\n",
       "      <td>12347.0</td>\n",
       "      <td>5633.32</td>\n",
       "      <td>253</td>\n",
       "      <td>1</td>\n",
       "      <td>5</td>\n",
       "      <td>5</td>\n",
       "      <td>5</td>\n",
       "      <td>555</td>\n",
       "    </tr>\n",
       "    <tr>\n",
       "      <th>2</th>\n",
       "      <td>12348.0</td>\n",
       "      <td>2019.40</td>\n",
       "      <td>51</td>\n",
       "      <td>74</td>\n",
       "      <td>3</td>\n",
       "      <td>3</td>\n",
       "      <td>4</td>\n",
       "      <td>334</td>\n",
       "    </tr>\n",
       "    <tr>\n",
       "      <th>3</th>\n",
       "      <td>12349.0</td>\n",
       "      <td>4428.69</td>\n",
       "      <td>175</td>\n",
       "      <td>18</td>\n",
       "      <td>5</td>\n",
       "      <td>4</td>\n",
       "      <td>5</td>\n",
       "      <td>545</td>\n",
       "    </tr>\n",
       "    <tr>\n",
       "      <th>4</th>\n",
       "      <td>12350.0</td>\n",
       "      <td>334.40</td>\n",
       "      <td>17</td>\n",
       "      <td>309</td>\n",
       "      <td>2</td>\n",
       "      <td>2</td>\n",
       "      <td>2</td>\n",
       "      <td>222</td>\n",
       "    </tr>\n",
       "  </tbody>\n",
       "</table>\n",
       "</div>"
      ],
      "text/plain": [
       "  Customer ID  Monetary  Frequency  Recency Recency_Score Frequency_Score  \\\n",
       "0     12346.0  77556.46         34      325             2               2   \n",
       "1     12347.0   5633.32        253        1             5               5   \n",
       "2     12348.0   2019.40         51       74             3               3   \n",
       "3     12349.0   4428.69        175       18             5               4   \n",
       "4     12350.0    334.40         17      309             2               2   \n",
       "\n",
       "  Monetary_Score RFM_Score_Segment  \n",
       "0              5               225  \n",
       "1              5               555  \n",
       "2              4               334  \n",
       "3              5               545  \n",
       "4              2               222  "
      ]
     },
     "execution_count": 42,
     "metadata": {},
     "output_type": "execute_result"
    }
   ],
   "source": [
    "rfm_scores.head()"
   ]
  },
  {
   "cell_type": "markdown",
   "metadata": {},
   "source": [
    "#### Method-2:  By adding individual dimension label scores"
   ]
  },
  {
   "cell_type": "code",
   "execution_count": 43,
   "metadata": {
    "execution": {
     "iopub.execute_input": "2023-11-07T11:23:58.791204Z",
     "iopub.status.busy": "2023-11-07T11:23:58.790605Z",
     "iopub.status.idle": "2023-11-07T11:23:58.800111Z",
     "shell.execute_reply": "2023-11-07T11:23:58.798906Z",
     "shell.execute_reply.started": "2023-11-07T11:23:58.791173Z"
    },
    "trusted": true
   },
   "outputs": [],
   "source": [
    "rfm_scores['RFM_Score_Sum'] = rfm_scores[['Recency_Score','Frequency_Score','Monetary_Score']].sum(axis=1)"
   ]
  },
  {
   "cell_type": "code",
   "execution_count": 44,
   "metadata": {
    "execution": {
     "iopub.execute_input": "2023-11-07T11:23:59.070060Z",
     "iopub.status.busy": "2023-11-07T11:23:59.069666Z",
     "iopub.status.idle": "2023-11-07T11:23:59.085020Z",
     "shell.execute_reply": "2023-11-07T11:23:59.084139Z",
     "shell.execute_reply.started": "2023-11-07T11:23:59.070031Z"
    },
    "trusted": true
   },
   "outputs": [
    {
     "data": {
      "text/html": [
       "<div>\n",
       "<style scoped>\n",
       "    .dataframe tbody tr th:only-of-type {\n",
       "        vertical-align: middle;\n",
       "    }\n",
       "\n",
       "    .dataframe tbody tr th {\n",
       "        vertical-align: top;\n",
       "    }\n",
       "\n",
       "    .dataframe thead th {\n",
       "        text-align: right;\n",
       "    }\n",
       "</style>\n",
       "<table border=\"1\" class=\"dataframe\">\n",
       "  <thead>\n",
       "    <tr style=\"text-align: right;\">\n",
       "      <th></th>\n",
       "      <th>Customer ID</th>\n",
       "      <th>Monetary</th>\n",
       "      <th>Frequency</th>\n",
       "      <th>Recency</th>\n",
       "      <th>Recency_Score</th>\n",
       "      <th>Frequency_Score</th>\n",
       "      <th>Monetary_Score</th>\n",
       "      <th>RFM_Score_Segment</th>\n",
       "      <th>RFM_Score_Sum</th>\n",
       "    </tr>\n",
       "  </thead>\n",
       "  <tbody>\n",
       "    <tr>\n",
       "      <th>0</th>\n",
       "      <td>12346.0</td>\n",
       "      <td>77556.46</td>\n",
       "      <td>34</td>\n",
       "      <td>325</td>\n",
       "      <td>2</td>\n",
       "      <td>2</td>\n",
       "      <td>5</td>\n",
       "      <td>225</td>\n",
       "      <td>9</td>\n",
       "    </tr>\n",
       "    <tr>\n",
       "      <th>1</th>\n",
       "      <td>12347.0</td>\n",
       "      <td>5633.32</td>\n",
       "      <td>253</td>\n",
       "      <td>1</td>\n",
       "      <td>5</td>\n",
       "      <td>5</td>\n",
       "      <td>5</td>\n",
       "      <td>555</td>\n",
       "      <td>15</td>\n",
       "    </tr>\n",
       "    <tr>\n",
       "      <th>2</th>\n",
       "      <td>12348.0</td>\n",
       "      <td>2019.40</td>\n",
       "      <td>51</td>\n",
       "      <td>74</td>\n",
       "      <td>3</td>\n",
       "      <td>3</td>\n",
       "      <td>4</td>\n",
       "      <td>334</td>\n",
       "      <td>10</td>\n",
       "    </tr>\n",
       "    <tr>\n",
       "      <th>3</th>\n",
       "      <td>12349.0</td>\n",
       "      <td>4428.69</td>\n",
       "      <td>175</td>\n",
       "      <td>18</td>\n",
       "      <td>5</td>\n",
       "      <td>4</td>\n",
       "      <td>5</td>\n",
       "      <td>545</td>\n",
       "      <td>14</td>\n",
       "    </tr>\n",
       "    <tr>\n",
       "      <th>4</th>\n",
       "      <td>12350.0</td>\n",
       "      <td>334.40</td>\n",
       "      <td>17</td>\n",
       "      <td>309</td>\n",
       "      <td>2</td>\n",
       "      <td>2</td>\n",
       "      <td>2</td>\n",
       "      <td>222</td>\n",
       "      <td>6</td>\n",
       "    </tr>\n",
       "  </tbody>\n",
       "</table>\n",
       "</div>"
      ],
      "text/plain": [
       "  Customer ID  Monetary  Frequency  Recency Recency_Score Frequency_Score  \\\n",
       "0     12346.0  77556.46         34      325             2               2   \n",
       "1     12347.0   5633.32        253        1             5               5   \n",
       "2     12348.0   2019.40         51       74             3               3   \n",
       "3     12349.0   4428.69        175       18             5               4   \n",
       "4     12350.0    334.40         17      309             2               2   \n",
       "\n",
       "  Monetary_Score RFM_Score_Segment  RFM_Score_Sum  \n",
       "0              5               225              9  \n",
       "1              5               555             15  \n",
       "2              4               334             10  \n",
       "3              5               545             14  \n",
       "4              2               222              6  "
      ]
     },
     "execution_count": 44,
     "metadata": {},
     "output_type": "execute_result"
    }
   ],
   "source": [
    "rfm_scores.head()"
   ]
  },
  {
   "cell_type": "markdown",
   "metadata": {},
   "source": [
    "### `Note:`\n",
    "- Adding individual dimension score( eg. 5+1+1) will create a score  between 3 and 15. Here each of the scores got same importance whether its **413 & 431**. However both **413 & 431** represent different segment."
   ]
  },
  {
   "cell_type": "markdown",
   "metadata": {},
   "source": [
    "## 7) Segmenting Customers based on RFM Scores \n",
    "#### (Manual Approach - Without Model Building)\n",
    "---"
   ]
  },
  {
   "cell_type": "markdown",
   "metadata": {},
   "source": [
    "### Method-1: Interpeting Customer Segmentation using RFM_Score_Sum"
   ]
  },
  {
   "cell_type": "code",
   "execution_count": 45,
   "metadata": {
    "execution": {
     "iopub.execute_input": "2023-11-07T11:24:00.250646Z",
     "iopub.status.busy": "2023-11-07T11:24:00.250228Z",
     "iopub.status.idle": "2023-11-07T11:24:00.272591Z",
     "shell.execute_reply": "2023-11-07T11:24:00.271272Z",
     "shell.execute_reply.started": "2023-11-07T11:24:00.250610Z"
    },
    "trusted": true
   },
   "outputs": [
    {
     "data": {
      "text/html": [
       "<div>\n",
       "<style scoped>\n",
       "    .dataframe tbody tr th:only-of-type {\n",
       "        vertical-align: middle;\n",
       "    }\n",
       "\n",
       "    .dataframe tbody tr th {\n",
       "        vertical-align: top;\n",
       "    }\n",
       "\n",
       "    .dataframe thead tr th {\n",
       "        text-align: left;\n",
       "    }\n",
       "\n",
       "    .dataframe thead tr:last-of-type th {\n",
       "        text-align: right;\n",
       "    }\n",
       "</style>\n",
       "<table border=\"1\" class=\"dataframe\">\n",
       "  <thead>\n",
       "    <tr>\n",
       "      <th></th>\n",
       "      <th>Recency</th>\n",
       "      <th>Frequency</th>\n",
       "      <th colspan=\"2\" halign=\"left\">Monetary</th>\n",
       "    </tr>\n",
       "    <tr>\n",
       "      <th></th>\n",
       "      <th>mean</th>\n",
       "      <th>mean</th>\n",
       "      <th>mean</th>\n",
       "      <th>count</th>\n",
       "    </tr>\n",
       "    <tr>\n",
       "      <th>RFM_Score_Sum</th>\n",
       "      <th></th>\n",
       "      <th></th>\n",
       "      <th></th>\n",
       "      <th></th>\n",
       "    </tr>\n",
       "  </thead>\n",
       "  <tbody>\n",
       "    <tr>\n",
       "      <th>3</th>\n",
       "      <td>569.1</td>\n",
       "      <td>7.6</td>\n",
       "      <td>141.7</td>\n",
       "      <td>353</td>\n",
       "    </tr>\n",
       "    <tr>\n",
       "      <th>4</th>\n",
       "      <td>444.9</td>\n",
       "      <td>13.2</td>\n",
       "      <td>204.4</td>\n",
       "      <td>402</td>\n",
       "    </tr>\n",
       "    <tr>\n",
       "      <th>5</th>\n",
       "      <td>372.3</td>\n",
       "      <td>19.8</td>\n",
       "      <td>323.7</td>\n",
       "      <td>494</td>\n",
       "    </tr>\n",
       "    <tr>\n",
       "      <th>6</th>\n",
       "      <td>282.7</td>\n",
       "      <td>24.8</td>\n",
       "      <td>421.3</td>\n",
       "      <td>500</td>\n",
       "    </tr>\n",
       "    <tr>\n",
       "      <th>7</th>\n",
       "      <td>248.4</td>\n",
       "      <td>33.7</td>\n",
       "      <td>717.4</td>\n",
       "      <td>493</td>\n",
       "    </tr>\n",
       "    <tr>\n",
       "      <th>8</th>\n",
       "      <td>210.9</td>\n",
       "      <td>48.4</td>\n",
       "      <td>946.7</td>\n",
       "      <td>481</td>\n",
       "    </tr>\n",
       "    <tr>\n",
       "      <th>9</th>\n",
       "      <td>163.4</td>\n",
       "      <td>61.9</td>\n",
       "      <td>1427.8</td>\n",
       "      <td>514</td>\n",
       "    </tr>\n",
       "    <tr>\n",
       "      <th>10</th>\n",
       "      <td>136.2</td>\n",
       "      <td>82.3</td>\n",
       "      <td>1413.2</td>\n",
       "      <td>436</td>\n",
       "    </tr>\n",
       "    <tr>\n",
       "      <th>11</th>\n",
       "      <td>91.0</td>\n",
       "      <td>109.3</td>\n",
       "      <td>2507.6</td>\n",
       "      <td>486</td>\n",
       "    </tr>\n",
       "    <tr>\n",
       "      <th>12</th>\n",
       "      <td>69.6</td>\n",
       "      <td>170.3</td>\n",
       "      <td>2982.0</td>\n",
       "      <td>452</td>\n",
       "    </tr>\n",
       "    <tr>\n",
       "      <th>13</th>\n",
       "      <td>39.7</td>\n",
       "      <td>221.7</td>\n",
       "      <td>3927.4</td>\n",
       "      <td>427</td>\n",
       "    </tr>\n",
       "    <tr>\n",
       "      <th>14</th>\n",
       "      <td>23.8</td>\n",
       "      <td>351.6</td>\n",
       "      <td>7261.4</td>\n",
       "      <td>411</td>\n",
       "    </tr>\n",
       "    <tr>\n",
       "      <th>15</th>\n",
       "      <td>6.7</td>\n",
       "      <td>695.7</td>\n",
       "      <td>18306.8</td>\n",
       "      <td>429</td>\n",
       "    </tr>\n",
       "  </tbody>\n",
       "</table>\n",
       "</div>"
      ],
      "text/plain": [
       "              Recency Frequency Monetary      \n",
       "                 mean      mean     mean count\n",
       "RFM_Score_Sum                                 \n",
       "3               569.1       7.6    141.7   353\n",
       "4               444.9      13.2    204.4   402\n",
       "5               372.3      19.8    323.7   494\n",
       "6               282.7      24.8    421.3   500\n",
       "7               248.4      33.7    717.4   493\n",
       "8               210.9      48.4    946.7   481\n",
       "9               163.4      61.9   1427.8   514\n",
       "10              136.2      82.3   1413.2   436\n",
       "11               91.0     109.3   2507.6   486\n",
       "12               69.6     170.3   2982.0   452\n",
       "13               39.7     221.7   3927.4   427\n",
       "14               23.8     351.6   7261.4   411\n",
       "15                6.7     695.7  18306.8   429"
      ]
     },
     "execution_count": 45,
     "metadata": {},
     "output_type": "execute_result"
    }
   ],
   "source": [
    "rfm_scores.groupby(['RFM_Score_Sum']).agg({'Recency': 'mean',\n",
    "                                           'Frequency': 'mean',\n",
    "                                           'Monetary': ['mean', 'count']}).round(1)"
   ]
  },
  {
   "cell_type": "markdown",
   "metadata": {},
   "source": [
    "#### Use RFM_Score_Sum to group customers into Gold, Silver and Bronze segments"
   ]
  },
  {
   "cell_type": "code",
   "execution_count": 46,
   "metadata": {
    "execution": {
     "iopub.execute_input": "2023-11-07T11:24:00.800192Z",
     "iopub.status.busy": "2023-11-07T11:24:00.799064Z",
     "iopub.status.idle": "2023-11-07T11:24:00.805684Z",
     "shell.execute_reply": "2023-11-07T11:24:00.804501Z",
     "shell.execute_reply.started": "2023-11-07T11:24:00.800152Z"
    },
    "trusted": true
   },
   "outputs": [],
   "source": [
    "def segments(df):\n",
    "    if df['RFM_Score_Sum'] > 9 :\n",
    "        return 'Gold'\n",
    "    elif (df['RFM_Score_Sum'] > 5) and (df['RFM_Score_Sum'] <= 9 ):\n",
    "        return 'Sliver'\n",
    "    else:  \n",
    "        return 'Bronze'"
   ]
  },
  {
   "cell_type": "code",
   "execution_count": 47,
   "metadata": {
    "execution": {
     "iopub.execute_input": "2023-11-07T11:24:01.071434Z",
     "iopub.status.busy": "2023-11-07T11:24:01.070766Z",
     "iopub.status.idle": "2023-11-07T11:24:01.136552Z",
     "shell.execute_reply": "2023-11-07T11:24:01.135302Z",
     "shell.execute_reply.started": "2023-11-07T11:24:01.071390Z"
    },
    "trusted": true
   },
   "outputs": [],
   "source": [
    "rfm_scores['Segment Name'] = rfm_scores.apply(segments,axis=1)"
   ]
  },
  {
   "cell_type": "code",
   "execution_count": 48,
   "metadata": {
    "execution": {
     "iopub.execute_input": "2023-11-07T11:24:01.357140Z",
     "iopub.status.busy": "2023-11-07T11:24:01.356710Z",
     "iopub.status.idle": "2023-11-07T11:24:01.374592Z",
     "shell.execute_reply": "2023-11-07T11:24:01.373462Z",
     "shell.execute_reply.started": "2023-11-07T11:24:01.357105Z"
    },
    "trusted": true
   },
   "outputs": [
    {
     "data": {
      "text/html": [
       "<div>\n",
       "<style scoped>\n",
       "    .dataframe tbody tr th:only-of-type {\n",
       "        vertical-align: middle;\n",
       "    }\n",
       "\n",
       "    .dataframe tbody tr th {\n",
       "        vertical-align: top;\n",
       "    }\n",
       "\n",
       "    .dataframe thead th {\n",
       "        text-align: right;\n",
       "    }\n",
       "</style>\n",
       "<table border=\"1\" class=\"dataframe\">\n",
       "  <thead>\n",
       "    <tr style=\"text-align: right;\">\n",
       "      <th></th>\n",
       "      <th>Customer ID</th>\n",
       "      <th>Monetary</th>\n",
       "      <th>Frequency</th>\n",
       "      <th>Recency</th>\n",
       "      <th>Recency_Score</th>\n",
       "      <th>Frequency_Score</th>\n",
       "      <th>Monetary_Score</th>\n",
       "      <th>RFM_Score_Segment</th>\n",
       "      <th>RFM_Score_Sum</th>\n",
       "      <th>Segment Name</th>\n",
       "    </tr>\n",
       "  </thead>\n",
       "  <tbody>\n",
       "    <tr>\n",
       "      <th>0</th>\n",
       "      <td>12346.0</td>\n",
       "      <td>77556.46</td>\n",
       "      <td>34</td>\n",
       "      <td>325</td>\n",
       "      <td>2</td>\n",
       "      <td>2</td>\n",
       "      <td>5</td>\n",
       "      <td>225</td>\n",
       "      <td>9</td>\n",
       "      <td>Sliver</td>\n",
       "    </tr>\n",
       "    <tr>\n",
       "      <th>1</th>\n",
       "      <td>12347.0</td>\n",
       "      <td>5633.32</td>\n",
       "      <td>253</td>\n",
       "      <td>1</td>\n",
       "      <td>5</td>\n",
       "      <td>5</td>\n",
       "      <td>5</td>\n",
       "      <td>555</td>\n",
       "      <td>15</td>\n",
       "      <td>Gold</td>\n",
       "    </tr>\n",
       "    <tr>\n",
       "      <th>2</th>\n",
       "      <td>12348.0</td>\n",
       "      <td>2019.40</td>\n",
       "      <td>51</td>\n",
       "      <td>74</td>\n",
       "      <td>3</td>\n",
       "      <td>3</td>\n",
       "      <td>4</td>\n",
       "      <td>334</td>\n",
       "      <td>10</td>\n",
       "      <td>Gold</td>\n",
       "    </tr>\n",
       "    <tr>\n",
       "      <th>3</th>\n",
       "      <td>12349.0</td>\n",
       "      <td>4428.69</td>\n",
       "      <td>175</td>\n",
       "      <td>18</td>\n",
       "      <td>5</td>\n",
       "      <td>4</td>\n",
       "      <td>5</td>\n",
       "      <td>545</td>\n",
       "      <td>14</td>\n",
       "      <td>Gold</td>\n",
       "    </tr>\n",
       "    <tr>\n",
       "      <th>4</th>\n",
       "      <td>12350.0</td>\n",
       "      <td>334.40</td>\n",
       "      <td>17</td>\n",
       "      <td>309</td>\n",
       "      <td>2</td>\n",
       "      <td>2</td>\n",
       "      <td>2</td>\n",
       "      <td>222</td>\n",
       "      <td>6</td>\n",
       "      <td>Sliver</td>\n",
       "    </tr>\n",
       "  </tbody>\n",
       "</table>\n",
       "</div>"
      ],
      "text/plain": [
       "  Customer ID  Monetary  Frequency  Recency Recency_Score Frequency_Score  \\\n",
       "0     12346.0  77556.46         34      325             2               2   \n",
       "1     12347.0   5633.32        253        1             5               5   \n",
       "2     12348.0   2019.40         51       74             3               3   \n",
       "3     12349.0   4428.69        175       18             5               4   \n",
       "4     12350.0    334.40         17      309             2               2   \n",
       "\n",
       "  Monetary_Score RFM_Score_Segment  RFM_Score_Sum Segment Name  \n",
       "0              5               225              9       Sliver  \n",
       "1              5               555             15         Gold  \n",
       "2              4               334             10         Gold  \n",
       "3              5               545             14         Gold  \n",
       "4              2               222              6       Sliver  "
      ]
     },
     "execution_count": 48,
     "metadata": {},
     "output_type": "execute_result"
    }
   ],
   "source": [
    "rfm_scores.head()"
   ]
  },
  {
   "cell_type": "code",
   "execution_count": 49,
   "metadata": {
    "execution": {
     "iopub.execute_input": "2023-11-07T11:24:01.624571Z",
     "iopub.status.busy": "2023-11-07T11:24:01.624165Z",
     "iopub.status.idle": "2023-11-07T11:24:01.645442Z",
     "shell.execute_reply": "2023-11-07T11:24:01.644226Z",
     "shell.execute_reply.started": "2023-11-07T11:24:01.624536Z"
    },
    "trusted": true
   },
   "outputs": [
    {
     "data": {
      "text/html": [
       "<div>\n",
       "<style scoped>\n",
       "    .dataframe tbody tr th:only-of-type {\n",
       "        vertical-align: middle;\n",
       "    }\n",
       "\n",
       "    .dataframe tbody tr th {\n",
       "        vertical-align: top;\n",
       "    }\n",
       "\n",
       "    .dataframe thead tr th {\n",
       "        text-align: left;\n",
       "    }\n",
       "\n",
       "    .dataframe thead tr:last-of-type th {\n",
       "        text-align: right;\n",
       "    }\n",
       "</style>\n",
       "<table border=\"1\" class=\"dataframe\">\n",
       "  <thead>\n",
       "    <tr>\n",
       "      <th></th>\n",
       "      <th>Recency</th>\n",
       "      <th>Frequency</th>\n",
       "      <th colspan=\"2\" halign=\"left\">Monetary</th>\n",
       "    </tr>\n",
       "    <tr>\n",
       "      <th></th>\n",
       "      <th>mean</th>\n",
       "      <th>mean</th>\n",
       "      <th>mean</th>\n",
       "      <th>count</th>\n",
       "    </tr>\n",
       "    <tr>\n",
       "      <th>Segment Name</th>\n",
       "      <th></th>\n",
       "      <th></th>\n",
       "      <th></th>\n",
       "      <th></th>\n",
       "    </tr>\n",
       "  </thead>\n",
       "  <tbody>\n",
       "    <tr>\n",
       "      <th>Gold</th>\n",
       "      <td>62.3</td>\n",
       "      <td>266.4</td>\n",
       "      <td>5943.9</td>\n",
       "      <td>2641</td>\n",
       "    </tr>\n",
       "    <tr>\n",
       "      <th>Sliver</th>\n",
       "      <td>226.0</td>\n",
       "      <td>42.3</td>\n",
       "      <td>882.1</td>\n",
       "      <td>1988</td>\n",
       "    </tr>\n",
       "    <tr>\n",
       "      <th>Bronze</th>\n",
       "      <td>451.3</td>\n",
       "      <td>14.2</td>\n",
       "      <td>233.8</td>\n",
       "      <td>1249</td>\n",
       "    </tr>\n",
       "  </tbody>\n",
       "</table>\n",
       "</div>"
      ],
      "text/plain": [
       "             Recency Frequency Monetary      \n",
       "                mean      mean     mean count\n",
       "Segment Name                                 \n",
       "Gold            62.3     266.4   5943.9  2641\n",
       "Sliver         226.0      42.3    882.1  1988\n",
       "Bronze         451.3      14.2    233.8  1249"
      ]
     },
     "execution_count": 49,
     "metadata": {},
     "output_type": "execute_result"
    }
   ],
   "source": [
    "rfm_scores.groupby(['Segment Name']).agg({'Recency':'mean',\n",
    "                                         'Frequency':'mean',\n",
    "                                         'Monetary':['mean','count']}).round(1).sort_values(by=('Monetary','count'), \n",
    "                                                                                            ascending=False)"
   ]
  },
  {
   "cell_type": "markdown",
   "metadata": {},
   "source": [
    "#### Inference\n",
    "\n",
    "- **Gold Customers:** 2643\n",
    "- **Silver Customers:** 1992\n",
    "- **Bronze Customers:** 1246"
   ]
  },
  {
   "cell_type": "markdown",
   "metadata": {},
   "source": [
    "### Method-2: Interpeting Customer Segmentation using RFM_Score_Segment"
   ]
  },
  {
   "cell_type": "markdown",
   "metadata": {},
   "source": [
    "### Based on Recency & Frequency Score\n",
    "- **can't loose them →** A class of customers who used to shop very frequently but have not shopped for a long time and should not be lost.\n",
    "- **at risk →** A class of customers who shop relatively frequently but have not shopped for a long time. \n",
    "- **hibernating →** Customers who are literally asleep, both shopped infrequently and have not shopped for a long time.\n",
    "- **about to sleep →** A class of customers who do not shop frequently and have not shopped for some time; they are heading towards sleep.\n",
    "- **need attention →** This is the class of customers in the middle of the RF graph (33%), moving towards the risky group if not addressed.\n",
    "- **new customers →** A class of customers who have not shopped frequently (maybe once) and have been shopping for a short period of time, they are considered as new customers.\n",
    "- **promising →** New customers are the aged version of new customers :) they are customers who have not shopped frequently and have shopped for a short period of time.\n",
    "- **potential loyalists →** Customers who shop moderately often and it has not been long since their last purchase.\n",
    "- **loyal customers →** Customers who shop very often and it has been a short time since their last purchase.\n",
    "- **champions →** They are our champions, our crown jewels! Customers who shop very often and have made their last purchase within a very short period of time.\n",
    "\n",
    "![image.png](https://raw.githubusercontent.com/manishkr1754/Online_Retail_Customer_Segmentation_RFM_Analysis/main/rfm_label.png)"
   ]
  },
  {
   "cell_type": "code",
   "execution_count": 50,
   "metadata": {
    "execution": {
     "iopub.execute_input": "2023-11-07T11:24:02.760110Z",
     "iopub.status.busy": "2023-11-07T11:24:02.759702Z",
     "iopub.status.idle": "2023-11-07T11:24:02.772184Z",
     "shell.execute_reply": "2023-11-07T11:24:02.770815Z",
     "shell.execute_reply.started": "2023-11-07T11:24:02.760079Z"
    },
    "trusted": true
   },
   "outputs": [
    {
     "data": {
      "text/plain": [
       "RFM_Score_Segment\n",
       "555    429\n",
       "111    353\n",
       "455    248\n",
       "211    198\n",
       "122    177\n",
       "222    163\n",
       "344    160\n",
       "444    150\n",
       "333    144\n",
       "233    141\n",
       "dtype: int64"
      ]
     },
     "execution_count": 50,
     "metadata": {},
     "output_type": "execute_result"
    }
   ],
   "source": [
    "# Display the top 10 segments with the most customers\n",
    "rfm_scores.groupby(['RFM_Score_Segment']).size().sort_values(ascending=False)[:10]"
   ]
  },
  {
   "cell_type": "markdown",
   "metadata": {},
   "source": [
    "#### Mapping Segment as per Recency and Frequency Score (Keeping Monetary Unchanged)"
   ]
  },
  {
   "cell_type": "code",
   "execution_count": 51,
   "metadata": {
    "execution": {
     "iopub.execute_input": "2023-11-07T11:24:03.324992Z",
     "iopub.status.busy": "2023-11-07T11:24:03.324596Z",
     "iopub.status.idle": "2023-11-07T11:24:03.331286Z",
     "shell.execute_reply": "2023-11-07T11:24:03.329775Z",
     "shell.execute_reply.started": "2023-11-07T11:24:03.324954Z"
    },
    "trusted": true
   },
   "outputs": [],
   "source": [
    "segment_mapping = {r'[1-2][1-2][1-5]': 'Hibernating',\n",
    "                   r'[1-2][3-4][1-5]': 'At Risk',\n",
    "                   r'[1-2][5][1-5]': 'Can\\'t Loose',\n",
    "                   r'[3][1-2][1-5]': 'About to Sleep',\n",
    "                   r'[3][3][1-5]': 'Need Attention',\n",
    "                   r'[3-4][4-5][1-5]': 'Loyal Customers',\n",
    "                   r'[4][1][1-5]': 'Promising',\n",
    "                   r'[5][1][1-5]': 'New Customers',\n",
    "                   r'[4-5][2-3][1-5]': 'Potential Loyalists',\n",
    "                   r'[5][4-5][1-5]': 'Champions'\n",
    "                  }"
   ]
  },
  {
   "cell_type": "code",
   "execution_count": 52,
   "metadata": {
    "execution": {
     "iopub.execute_input": "2023-11-07T11:24:03.592011Z",
     "iopub.status.busy": "2023-11-07T11:24:03.591607Z",
     "iopub.status.idle": "2023-11-07T11:24:03.699927Z",
     "shell.execute_reply": "2023-11-07T11:24:03.698813Z",
     "shell.execute_reply.started": "2023-11-07T11:24:03.591981Z"
    },
    "trusted": true
   },
   "outputs": [
    {
     "data": {
      "text/html": [
       "<div>\n",
       "<style scoped>\n",
       "    .dataframe tbody tr th:only-of-type {\n",
       "        vertical-align: middle;\n",
       "    }\n",
       "\n",
       "    .dataframe tbody tr th {\n",
       "        vertical-align: top;\n",
       "    }\n",
       "\n",
       "    .dataframe thead th {\n",
       "        text-align: right;\n",
       "    }\n",
       "</style>\n",
       "<table border=\"1\" class=\"dataframe\">\n",
       "  <thead>\n",
       "    <tr style=\"text-align: right;\">\n",
       "      <th></th>\n",
       "      <th>Customer ID</th>\n",
       "      <th>Monetary</th>\n",
       "      <th>Frequency</th>\n",
       "      <th>Recency</th>\n",
       "      <th>Recency_Score</th>\n",
       "      <th>Frequency_Score</th>\n",
       "      <th>Monetary_Score</th>\n",
       "      <th>RFM_Score_Segment</th>\n",
       "      <th>RFM_Score_Sum</th>\n",
       "      <th>Segment Name</th>\n",
       "      <th>Segment</th>\n",
       "    </tr>\n",
       "  </thead>\n",
       "  <tbody>\n",
       "    <tr>\n",
       "      <th>0</th>\n",
       "      <td>12346.0</td>\n",
       "      <td>77556.46</td>\n",
       "      <td>34</td>\n",
       "      <td>325</td>\n",
       "      <td>2</td>\n",
       "      <td>2</td>\n",
       "      <td>5</td>\n",
       "      <td>225</td>\n",
       "      <td>9</td>\n",
       "      <td>Sliver</td>\n",
       "      <td>Hibernating</td>\n",
       "    </tr>\n",
       "    <tr>\n",
       "      <th>1</th>\n",
       "      <td>12347.0</td>\n",
       "      <td>5633.32</td>\n",
       "      <td>253</td>\n",
       "      <td>1</td>\n",
       "      <td>5</td>\n",
       "      <td>5</td>\n",
       "      <td>5</td>\n",
       "      <td>555</td>\n",
       "      <td>15</td>\n",
       "      <td>Gold</td>\n",
       "      <td>Champions</td>\n",
       "    </tr>\n",
       "    <tr>\n",
       "      <th>2</th>\n",
       "      <td>12348.0</td>\n",
       "      <td>2019.40</td>\n",
       "      <td>51</td>\n",
       "      <td>74</td>\n",
       "      <td>3</td>\n",
       "      <td>3</td>\n",
       "      <td>4</td>\n",
       "      <td>334</td>\n",
       "      <td>10</td>\n",
       "      <td>Gold</td>\n",
       "      <td>Need Attention</td>\n",
       "    </tr>\n",
       "    <tr>\n",
       "      <th>3</th>\n",
       "      <td>12349.0</td>\n",
       "      <td>4428.69</td>\n",
       "      <td>175</td>\n",
       "      <td>18</td>\n",
       "      <td>5</td>\n",
       "      <td>4</td>\n",
       "      <td>5</td>\n",
       "      <td>545</td>\n",
       "      <td>14</td>\n",
       "      <td>Gold</td>\n",
       "      <td>Champions</td>\n",
       "    </tr>\n",
       "    <tr>\n",
       "      <th>4</th>\n",
       "      <td>12350.0</td>\n",
       "      <td>334.40</td>\n",
       "      <td>17</td>\n",
       "      <td>309</td>\n",
       "      <td>2</td>\n",
       "      <td>2</td>\n",
       "      <td>2</td>\n",
       "      <td>222</td>\n",
       "      <td>6</td>\n",
       "      <td>Sliver</td>\n",
       "      <td>Hibernating</td>\n",
       "    </tr>\n",
       "  </tbody>\n",
       "</table>\n",
       "</div>"
      ],
      "text/plain": [
       "  Customer ID  Monetary  Frequency  Recency Recency_Score Frequency_Score  \\\n",
       "0     12346.0  77556.46         34      325             2               2   \n",
       "1     12347.0   5633.32        253        1             5               5   \n",
       "2     12348.0   2019.40         51       74             3               3   \n",
       "3     12349.0   4428.69        175       18             5               4   \n",
       "4     12350.0    334.40         17      309             2               2   \n",
       "\n",
       "  Monetary_Score RFM_Score_Segment  RFM_Score_Sum Segment Name         Segment  \n",
       "0              5               225              9       Sliver     Hibernating  \n",
       "1              5               555             15         Gold       Champions  \n",
       "2              4               334             10         Gold  Need Attention  \n",
       "3              5               545             14         Gold       Champions  \n",
       "4              2               222              6       Sliver     Hibernating  "
      ]
     },
     "execution_count": 52,
     "metadata": {},
     "output_type": "execute_result"
    }
   ],
   "source": [
    "rfm_scores['Segment'] = rfm_scores['RFM_Score_Segment'].replace(segment_mapping,regex=True)\n",
    "#rfm_scores.reset_index(inplace=True)\n",
    "rfm_scores.head()"
   ]
  },
  {
   "cell_type": "code",
   "execution_count": 53,
   "metadata": {
    "execution": {
     "iopub.execute_input": "2023-11-07T11:24:03.851221Z",
     "iopub.status.busy": "2023-11-07T11:24:03.850817Z",
     "iopub.status.idle": "2023-11-07T11:24:03.866416Z",
     "shell.execute_reply": "2023-11-07T11:24:03.865062Z",
     "shell.execute_reply.started": "2023-11-07T11:24:03.851190Z"
    },
    "trusted": true
   },
   "outputs": [
    {
     "data": {
      "text/html": [
       "<div>\n",
       "<style scoped>\n",
       "    .dataframe tbody tr th:only-of-type {\n",
       "        vertical-align: middle;\n",
       "    }\n",
       "\n",
       "    .dataframe tbody tr th {\n",
       "        vertical-align: top;\n",
       "    }\n",
       "\n",
       "    .dataframe thead th {\n",
       "        text-align: right;\n",
       "    }\n",
       "</style>\n",
       "<table border=\"1\" class=\"dataframe\">\n",
       "  <thead>\n",
       "    <tr style=\"text-align: right;\">\n",
       "      <th></th>\n",
       "      <th>Customer ID</th>\n",
       "    </tr>\n",
       "    <tr>\n",
       "      <th>Segment</th>\n",
       "      <th></th>\n",
       "    </tr>\n",
       "  </thead>\n",
       "  <tbody>\n",
       "    <tr>\n",
       "      <th>Hibernating</th>\n",
       "      <td>1437</td>\n",
       "    </tr>\n",
       "    <tr>\n",
       "      <th>Loyal Customers</th>\n",
       "      <td>1135</td>\n",
       "    </tr>\n",
       "    <tr>\n",
       "      <th>Champions</th>\n",
       "      <td>821</td>\n",
       "    </tr>\n",
       "    <tr>\n",
       "      <th>At Risk</th>\n",
       "      <td>802</td>\n",
       "    </tr>\n",
       "    <tr>\n",
       "      <th>Potential Loyalists</th>\n",
       "      <td>676</td>\n",
       "    </tr>\n",
       "    <tr>\n",
       "      <th>About to Sleep</th>\n",
       "      <td>428</td>\n",
       "    </tr>\n",
       "    <tr>\n",
       "      <th>Need Attention</th>\n",
       "      <td>270</td>\n",
       "    </tr>\n",
       "    <tr>\n",
       "      <th>Promising</th>\n",
       "      <td>125</td>\n",
       "    </tr>\n",
       "    <tr>\n",
       "      <th>Can't Loose</th>\n",
       "      <td>108</td>\n",
       "    </tr>\n",
       "    <tr>\n",
       "      <th>New Customers</th>\n",
       "      <td>76</td>\n",
       "    </tr>\n",
       "  </tbody>\n",
       "</table>\n",
       "</div>"
      ],
      "text/plain": [
       "                     Customer ID\n",
       "Segment                         \n",
       "Hibernating                 1437\n",
       "Loyal Customers             1135\n",
       "Champions                    821\n",
       "At Risk                      802\n",
       "Potential Loyalists          676\n",
       "About to Sleep               428\n",
       "Need Attention               270\n",
       "Promising                    125\n",
       "Can't Loose                  108\n",
       "New Customers                 76"
      ]
     },
     "execution_count": 53,
     "metadata": {},
     "output_type": "execute_result"
    }
   ],
   "source": [
    "rfm_scores.groupby(['Segment']).agg({\"Customer ID\":\"count\"}).sort_values(\"Customer ID\",ascending=False)"
   ]
  },
  {
   "cell_type": "code",
   "execution_count": 54,
   "metadata": {
    "execution": {
     "iopub.execute_input": "2023-11-07T11:24:04.152485Z",
     "iopub.status.busy": "2023-11-07T11:24:04.151237Z",
     "iopub.status.idle": "2023-11-07T11:24:04.185974Z",
     "shell.execute_reply": "2023-11-07T11:24:04.184788Z",
     "shell.execute_reply.started": "2023-11-07T11:24:04.152433Z"
    },
    "trusted": true
   },
   "outputs": [
    {
     "data": {
      "text/html": [
       "<div>\n",
       "<style scoped>\n",
       "    .dataframe tbody tr th:only-of-type {\n",
       "        vertical-align: middle;\n",
       "    }\n",
       "\n",
       "    .dataframe tbody tr th {\n",
       "        vertical-align: top;\n",
       "    }\n",
       "\n",
       "    .dataframe thead tr th {\n",
       "        text-align: left;\n",
       "    }\n",
       "\n",
       "    .dataframe thead tr:last-of-type th {\n",
       "        text-align: right;\n",
       "    }\n",
       "</style>\n",
       "<table border=\"1\" class=\"dataframe\">\n",
       "  <thead>\n",
       "    <tr>\n",
       "      <th></th>\n",
       "      <th colspan=\"3\" halign=\"left\">Recency</th>\n",
       "      <th colspan=\"3\" halign=\"left\">Frequency</th>\n",
       "      <th colspan=\"3\" halign=\"left\">Monetary</th>\n",
       "    </tr>\n",
       "    <tr>\n",
       "      <th></th>\n",
       "      <th>mean</th>\n",
       "      <th>count</th>\n",
       "      <th>max</th>\n",
       "      <th>mean</th>\n",
       "      <th>count</th>\n",
       "      <th>max</th>\n",
       "      <th>mean</th>\n",
       "      <th>count</th>\n",
       "      <th>max</th>\n",
       "    </tr>\n",
       "    <tr>\n",
       "      <th>Segment</th>\n",
       "      <th></th>\n",
       "      <th></th>\n",
       "      <th></th>\n",
       "      <th></th>\n",
       "      <th></th>\n",
       "      <th></th>\n",
       "      <th></th>\n",
       "      <th></th>\n",
       "      <th></th>\n",
       "    </tr>\n",
       "  </thead>\n",
       "  <tbody>\n",
       "    <tr>\n",
       "      <th>About to Sleep</th>\n",
       "      <td>109.0</td>\n",
       "      <td>428</td>\n",
       "      <td>188</td>\n",
       "      <td>18.0</td>\n",
       "      <td>428</td>\n",
       "      <td>37</td>\n",
       "      <td>670.0</td>\n",
       "      <td>428</td>\n",
       "      <td>39916.0</td>\n",
       "    </tr>\n",
       "    <tr>\n",
       "      <th>At Risk</th>\n",
       "      <td>394.0</td>\n",
       "      <td>802</td>\n",
       "      <td>737</td>\n",
       "      <td>74.0</td>\n",
       "      <td>802</td>\n",
       "      <td>178</td>\n",
       "      <td>1315.0</td>\n",
       "      <td>802</td>\n",
       "      <td>67502.0</td>\n",
       "    </tr>\n",
       "    <tr>\n",
       "      <th>Can't Loose</th>\n",
       "      <td>346.0</td>\n",
       "      <td>108</td>\n",
       "      <td>623</td>\n",
       "      <td>325.0</td>\n",
       "      <td>108</td>\n",
       "      <td>2796</td>\n",
       "      <td>4651.0</td>\n",
       "      <td>108</td>\n",
       "      <td>56600.0</td>\n",
       "    </tr>\n",
       "    <tr>\n",
       "      <th>Champions</th>\n",
       "      <td>8.0</td>\n",
       "      <td>821</td>\n",
       "      <td>18</td>\n",
       "      <td>449.0</td>\n",
       "      <td>821</td>\n",
       "      <td>12890</td>\n",
       "      <td>10934.0</td>\n",
       "      <td>821</td>\n",
       "      <td>608822.0</td>\n",
       "    </tr>\n",
       "    <tr>\n",
       "      <th>Hibernating</th>\n",
       "      <td>451.0</td>\n",
       "      <td>1437</td>\n",
       "      <td>738</td>\n",
       "      <td>16.0</td>\n",
       "      <td>1437</td>\n",
       "      <td>37</td>\n",
       "      <td>518.0</td>\n",
       "      <td>1437</td>\n",
       "      <td>77556.0</td>\n",
       "    </tr>\n",
       "    <tr>\n",
       "      <th>Loyal Customers</th>\n",
       "      <td>64.0</td>\n",
       "      <td>1135</td>\n",
       "      <td>188</td>\n",
       "      <td>234.0</td>\n",
       "      <td>1135</td>\n",
       "      <td>1874</td>\n",
       "      <td>4165.0</td>\n",
       "      <td>1135</td>\n",
       "      <td>144458.0</td>\n",
       "    </tr>\n",
       "    <tr>\n",
       "      <th>Need Attention</th>\n",
       "      <td>107.0</td>\n",
       "      <td>270</td>\n",
       "      <td>187</td>\n",
       "      <td>55.0</td>\n",
       "      <td>270</td>\n",
       "      <td>76</td>\n",
       "      <td>1403.0</td>\n",
       "      <td>270</td>\n",
       "      <td>16246.0</td>\n",
       "    </tr>\n",
       "    <tr>\n",
       "      <th>New Customers</th>\n",
       "      <td>9.0</td>\n",
       "      <td>76</td>\n",
       "      <td>18</td>\n",
       "      <td>9.0</td>\n",
       "      <td>76</td>\n",
       "      <td>16</td>\n",
       "      <td>2927.0</td>\n",
       "      <td>76</td>\n",
       "      <td>168472.0</td>\n",
       "    </tr>\n",
       "    <tr>\n",
       "      <th>Potential Loyalists</th>\n",
       "      <td>25.0</td>\n",
       "      <td>676</td>\n",
       "      <td>58</td>\n",
       "      <td>44.0</td>\n",
       "      <td>676</td>\n",
       "      <td>76</td>\n",
       "      <td>1184.0</td>\n",
       "      <td>676</td>\n",
       "      <td>30393.0</td>\n",
       "    </tr>\n",
       "    <tr>\n",
       "      <th>Promising</th>\n",
       "      <td>37.0</td>\n",
       "      <td>125</td>\n",
       "      <td>58</td>\n",
       "      <td>9.0</td>\n",
       "      <td>125</td>\n",
       "      <td>16</td>\n",
       "      <td>395.0</td>\n",
       "      <td>125</td>\n",
       "      <td>5120.0</td>\n",
       "    </tr>\n",
       "  </tbody>\n",
       "</table>\n",
       "</div>"
      ],
      "text/plain": [
       "                    Recency            Frequency              Monetary        \\\n",
       "                       mean count  max      mean count    max     mean count   \n",
       "Segment                                                                        \n",
       "About to Sleep        109.0   428  188      18.0   428     37    670.0   428   \n",
       "At Risk               394.0   802  737      74.0   802    178   1315.0   802   \n",
       "Can't Loose           346.0   108  623     325.0   108   2796   4651.0   108   \n",
       "Champions               8.0   821   18     449.0   821  12890  10934.0   821   \n",
       "Hibernating           451.0  1437  738      16.0  1437     37    518.0  1437   \n",
       "Loyal Customers        64.0  1135  188     234.0  1135   1874   4165.0  1135   \n",
       "Need Attention        107.0   270  187      55.0   270     76   1403.0   270   \n",
       "New Customers           9.0    76   18       9.0    76     16   2927.0    76   \n",
       "Potential Loyalists    25.0   676   58      44.0   676     76   1184.0   676   \n",
       "Promising              37.0   125   58       9.0   125     16    395.0   125   \n",
       "\n",
       "                               \n",
       "                          max  \n",
       "Segment                        \n",
       "About to Sleep        39916.0  \n",
       "At Risk               67502.0  \n",
       "Can't Loose           56600.0  \n",
       "Champions            608822.0  \n",
       "Hibernating           77556.0  \n",
       "Loyal Customers      144458.0  \n",
       "Need Attention        16246.0  \n",
       "New Customers        168472.0  \n",
       "Potential Loyalists   30393.0  \n",
       "Promising              5120.0  "
      ]
     },
     "execution_count": 54,
     "metadata": {},
     "output_type": "execute_result"
    }
   ],
   "source": [
    "rfm_scores[[\"Segment\", \"Recency\",\"Frequency\",\"Monetary\"]].groupby(\"Segment\").agg([\"mean\",\"count\",\"max\"]).round()"
   ]
  },
  {
   "cell_type": "markdown",
   "metadata": {},
   "source": [
    "#### Inference\n",
    "\n",
    "- **About to Sleep:** 428\n",
    "- **At Risk:** 802\n",
    "- **Can't Loose:** 108\n",
    "- **Champions:** 821\n",
    "- **Hibernating:** 1439\n",
    "- **Loyal Customers:** 1135\n",
    "- **Need Attention:** 270\n",
    "- **New Customers:** 77\n",
    "- **Potential Loyalists:** 677\n",
    "- **Promising:** 124"
   ]
  },
  {
   "cell_type": "markdown",
   "metadata": {},
   "source": [
    "### Method-3: Interpeting Customer Segmentation using RFM_Score_Segment"
   ]
  },
  {
   "cell_type": "markdown",
   "metadata": {},
   "source": [
    "### Based on all three RFM dimension (Recency, Frequency & Monetary)\n",
    "\n",
    "**Below image shows the inverse scoring. We need to 1 against 5 and 5 against 1**\n",
    "![image.jpg](https://raw.githubusercontent.com/manishkr1754/Online_Retail_Customer_Segmentation_RFM_Analysis/main/rfm_label_2.JPG)"
   ]
  },
  {
   "cell_type": "markdown",
   "metadata": {},
   "source": [
    "#### Mapping Segment as per all three RFM dimension"
   ]
  },
  {
   "cell_type": "code",
   "execution_count": 55,
   "metadata": {
    "execution": {
     "iopub.execute_input": "2023-11-07T11:24:05.642800Z",
     "iopub.status.busy": "2023-11-07T11:24:05.642343Z",
     "iopub.status.idle": "2023-11-07T11:24:05.648056Z",
     "shell.execute_reply": "2023-11-07T11:24:05.647014Z",
     "shell.execute_reply.started": "2023-11-07T11:24:05.642763Z"
    },
    "trusted": true
   },
   "outputs": [],
   "source": [
    "segment_mapping = {r'[4-5][4-5][4-5]': 'Best Customers',\n",
    "                   r'[1-5][4-5][1-5]': 'Loyal Customers',\n",
    "                   r'[1-5][1-5][4-5]': 'Big Spenders',\n",
    "                   r'[2-3][1-5][1-5]': 'Almost Lost',\n",
    "                   r'[1][1-5][1-5]': 'Lost Customers',\n",
    "                   r'[4-5][1-3][1-3]': 'Recent Active Low Spender',\n",
    "                  }"
   ]
  },
  {
   "cell_type": "code",
   "execution_count": 56,
   "metadata": {
    "execution": {
     "iopub.execute_input": "2023-11-07T11:24:05.908836Z",
     "iopub.status.busy": "2023-11-07T11:24:05.907762Z",
     "iopub.status.idle": "2023-11-07T11:24:05.991949Z",
     "shell.execute_reply": "2023-11-07T11:24:05.990637Z",
     "shell.execute_reply.started": "2023-11-07T11:24:05.908798Z"
    },
    "trusted": true
   },
   "outputs": [
    {
     "data": {
      "text/html": [
       "<div>\n",
       "<style scoped>\n",
       "    .dataframe tbody tr th:only-of-type {\n",
       "        vertical-align: middle;\n",
       "    }\n",
       "\n",
       "    .dataframe tbody tr th {\n",
       "        vertical-align: top;\n",
       "    }\n",
       "\n",
       "    .dataframe thead th {\n",
       "        text-align: right;\n",
       "    }\n",
       "</style>\n",
       "<table border=\"1\" class=\"dataframe\">\n",
       "  <thead>\n",
       "    <tr style=\"text-align: right;\">\n",
       "      <th></th>\n",
       "      <th>Customer ID</th>\n",
       "      <th>Monetary</th>\n",
       "      <th>Frequency</th>\n",
       "      <th>Recency</th>\n",
       "      <th>Recency_Score</th>\n",
       "      <th>Frequency_Score</th>\n",
       "      <th>Monetary_Score</th>\n",
       "      <th>RFM_Score_Segment</th>\n",
       "      <th>RFM_Score_Sum</th>\n",
       "      <th>Segment Name</th>\n",
       "      <th>Segment</th>\n",
       "      <th>Segment_New</th>\n",
       "    </tr>\n",
       "  </thead>\n",
       "  <tbody>\n",
       "    <tr>\n",
       "      <th>0</th>\n",
       "      <td>12346.0</td>\n",
       "      <td>77556.46</td>\n",
       "      <td>34</td>\n",
       "      <td>325</td>\n",
       "      <td>2</td>\n",
       "      <td>2</td>\n",
       "      <td>5</td>\n",
       "      <td>225</td>\n",
       "      <td>9</td>\n",
       "      <td>Sliver</td>\n",
       "      <td>Hibernating</td>\n",
       "      <td>Big Spenders</td>\n",
       "    </tr>\n",
       "    <tr>\n",
       "      <th>1</th>\n",
       "      <td>12347.0</td>\n",
       "      <td>5633.32</td>\n",
       "      <td>253</td>\n",
       "      <td>1</td>\n",
       "      <td>5</td>\n",
       "      <td>5</td>\n",
       "      <td>5</td>\n",
       "      <td>555</td>\n",
       "      <td>15</td>\n",
       "      <td>Gold</td>\n",
       "      <td>Champions</td>\n",
       "      <td>Best Customers</td>\n",
       "    </tr>\n",
       "    <tr>\n",
       "      <th>2</th>\n",
       "      <td>12348.0</td>\n",
       "      <td>2019.40</td>\n",
       "      <td>51</td>\n",
       "      <td>74</td>\n",
       "      <td>3</td>\n",
       "      <td>3</td>\n",
       "      <td>4</td>\n",
       "      <td>334</td>\n",
       "      <td>10</td>\n",
       "      <td>Gold</td>\n",
       "      <td>Need Attention</td>\n",
       "      <td>Big Spenders</td>\n",
       "    </tr>\n",
       "    <tr>\n",
       "      <th>3</th>\n",
       "      <td>12349.0</td>\n",
       "      <td>4428.69</td>\n",
       "      <td>175</td>\n",
       "      <td>18</td>\n",
       "      <td>5</td>\n",
       "      <td>4</td>\n",
       "      <td>5</td>\n",
       "      <td>545</td>\n",
       "      <td>14</td>\n",
       "      <td>Gold</td>\n",
       "      <td>Champions</td>\n",
       "      <td>Best Customers</td>\n",
       "    </tr>\n",
       "    <tr>\n",
       "      <th>4</th>\n",
       "      <td>12350.0</td>\n",
       "      <td>334.40</td>\n",
       "      <td>17</td>\n",
       "      <td>309</td>\n",
       "      <td>2</td>\n",
       "      <td>2</td>\n",
       "      <td>2</td>\n",
       "      <td>222</td>\n",
       "      <td>6</td>\n",
       "      <td>Sliver</td>\n",
       "      <td>Hibernating</td>\n",
       "      <td>Almost Lost</td>\n",
       "    </tr>\n",
       "  </tbody>\n",
       "</table>\n",
       "</div>"
      ],
      "text/plain": [
       "  Customer ID  Monetary  Frequency  Recency Recency_Score Frequency_Score  \\\n",
       "0     12346.0  77556.46         34      325             2               2   \n",
       "1     12347.0   5633.32        253        1             5               5   \n",
       "2     12348.0   2019.40         51       74             3               3   \n",
       "3     12349.0   4428.69        175       18             5               4   \n",
       "4     12350.0    334.40         17      309             2               2   \n",
       "\n",
       "  Monetary_Score RFM_Score_Segment  RFM_Score_Sum Segment Name  \\\n",
       "0              5               225              9       Sliver   \n",
       "1              5               555             15         Gold   \n",
       "2              4               334             10         Gold   \n",
       "3              5               545             14         Gold   \n",
       "4              2               222              6       Sliver   \n",
       "\n",
       "          Segment     Segment_New  \n",
       "0     Hibernating    Big Spenders  \n",
       "1       Champions  Best Customers  \n",
       "2  Need Attention    Big Spenders  \n",
       "3       Champions  Best Customers  \n",
       "4     Hibernating     Almost Lost  "
      ]
     },
     "execution_count": 56,
     "metadata": {},
     "output_type": "execute_result"
    }
   ],
   "source": [
    "rfm_scores['Segment_New'] = rfm_scores['RFM_Score_Segment'].replace(segment_mapping,regex=True)\n",
    "#rfm_scores.reset_index(inplace=True)\n",
    "rfm_scores.head()"
   ]
  },
  {
   "cell_type": "code",
   "execution_count": 57,
   "metadata": {
    "execution": {
     "iopub.execute_input": "2023-11-07T11:24:06.197291Z",
     "iopub.status.busy": "2023-11-07T11:24:06.196855Z",
     "iopub.status.idle": "2023-11-07T11:24:06.212881Z",
     "shell.execute_reply": "2023-11-07T11:24:06.211559Z",
     "shell.execute_reply.started": "2023-11-07T11:24:06.197260Z"
    },
    "trusted": true
   },
   "outputs": [
    {
     "data": {
      "text/html": [
       "<div>\n",
       "<style scoped>\n",
       "    .dataframe tbody tr th:only-of-type {\n",
       "        vertical-align: middle;\n",
       "    }\n",
       "\n",
       "    .dataframe tbody tr th {\n",
       "        vertical-align: top;\n",
       "    }\n",
       "\n",
       "    .dataframe thead th {\n",
       "        text-align: right;\n",
       "    }\n",
       "</style>\n",
       "<table border=\"1\" class=\"dataframe\">\n",
       "  <thead>\n",
       "    <tr style=\"text-align: right;\">\n",
       "      <th></th>\n",
       "      <th>Customer ID</th>\n",
       "    </tr>\n",
       "    <tr>\n",
       "      <th>Segment_New</th>\n",
       "      <th></th>\n",
       "    </tr>\n",
       "  </thead>\n",
       "  <tbody>\n",
       "    <tr>\n",
       "      <th>Almost Lost</th>\n",
       "      <td>1384</td>\n",
       "    </tr>\n",
       "    <tr>\n",
       "      <th>Best Customers</th>\n",
       "      <td>1273</td>\n",
       "    </tr>\n",
       "    <tr>\n",
       "      <th>Loyal Customers</th>\n",
       "      <td>1078</td>\n",
       "    </tr>\n",
       "    <tr>\n",
       "      <th>Lost Customers</th>\n",
       "      <td>990</td>\n",
       "    </tr>\n",
       "    <tr>\n",
       "      <th>Recent Active Low Spender</th>\n",
       "      <td>713</td>\n",
       "    </tr>\n",
       "    <tr>\n",
       "      <th>Big Spenders</th>\n",
       "      <td>440</td>\n",
       "    </tr>\n",
       "  </tbody>\n",
       "</table>\n",
       "</div>"
      ],
      "text/plain": [
       "                           Customer ID\n",
       "Segment_New                           \n",
       "Almost Lost                       1384\n",
       "Best Customers                    1273\n",
       "Loyal Customers                   1078\n",
       "Lost Customers                     990\n",
       "Recent Active Low Spender          713\n",
       "Big Spenders                       440"
      ]
     },
     "execution_count": 57,
     "metadata": {},
     "output_type": "execute_result"
    }
   ],
   "source": [
    "rfm_scores.groupby(['Segment_New']).agg({\"Customer ID\":\"count\"}).sort_values(\"Customer ID\",ascending=False)"
   ]
  },
  {
   "cell_type": "markdown",
   "metadata": {},
   "source": [
    "#### Inference\n",
    "\t\n",
    "- **Almost Lost:**\t1397\n",
    "- **Best Customers:**\t1273\n",
    "- **Loyal Customers:**\t1079\n",
    "- **Lost Customers:**\t977\n",
    "- **Recent Active Low Spender:**\t714\n",
    "- **Big Spenders:**\t441"
   ]
  },
  {
   "cell_type": "markdown",
   "metadata": {},
   "source": [
    "## K-Means Clustering\n",
    "---\n",
    "K-Means clustering is a popular **unsupervised machine learning algorithm** used for clustering data points into groups or clusters. In order to apply K-Means, we must check if the key assumptions of K-Means Clustering are followed.\n",
    "\n",
    "### Key Assumptions of K-Means\n",
    "\n",
    "1. **Symmetric Distribution of Variables (Not Skewed):** K-Means assumes that the variables have a **roughly symmetric distribution and are not heavily skewed**. This is because K-Means uses the mean (centroid) of data points within a cluster to define the cluster center. If the data is highly skewed with a long tail on one side, the mean may not be a representative measure of central tendency and K-Means may not perform well. In such cases, you may need to consider data transformation techniques to make the data more symmetric.\n",
    "\n",
    "2. **Variables with Same Average Values:** K-Means assumes that the variables have **similar means**. If the variables have significantly different average values, it can lead to unequal contributions of variables to the distance calculation between data points which can impact the clustering results. **Standardizing or scaling** the variables (e.g. using z-score normalization) can help address this issue by giving all variables equal importance.\n",
    "\n",
    "3. **Variables with Same Variance:** K-Means also assumes that the variables have **roughly equal variances**. Variables with different variances can disproportionately affect the distance calculations because K-Means uses the Euclidean distance metric which is sensitive to the scale of the variables. Again, standardizing or scaling the variables can help mitigate this problem.\n",
    "\n",
    "### What if Assumptions are not followed\n",
    "In practice, data rarely perfectly satisfies these assumptions and K-Means can still be applied with some caution. However, when these assumptions are strongly violated, itx is advisable to consider **alternative clustering algorithms** or **preprocessing techniques** such as:\n",
    "\n",
    "- Using data transformation methods like **log-transform** for skewed data.\n",
    "- **Normalizing or standardizing** the data to make variables have the same scale.\n",
    "- Using **different distance metrics** that can handle differences in variance.\n",
    "- Exploring other clustering algorithms like **DBSCAN or hierarchical clustering** that are less sensitive to these assumptions.\n"
   ]
  },
  {
   "cell_type": "code",
   "execution_count": 58,
   "metadata": {
    "execution": {
     "iopub.execute_input": "2023-11-07T11:24:07.098813Z",
     "iopub.status.busy": "2023-11-07T11:24:07.097999Z",
     "iopub.status.idle": "2023-11-07T11:24:07.112299Z",
     "shell.execute_reply": "2023-11-07T11:24:07.111016Z",
     "shell.execute_reply.started": "2023-11-07T11:24:07.098761Z"
    },
    "trusted": true
   },
   "outputs": [
    {
     "data": {
      "text/html": [
       "<div>\n",
       "<style scoped>\n",
       "    .dataframe tbody tr th:only-of-type {\n",
       "        vertical-align: middle;\n",
       "    }\n",
       "\n",
       "    .dataframe tbody tr th {\n",
       "        vertical-align: top;\n",
       "    }\n",
       "\n",
       "    .dataframe thead th {\n",
       "        text-align: right;\n",
       "    }\n",
       "</style>\n",
       "<table border=\"1\" class=\"dataframe\">\n",
       "  <thead>\n",
       "    <tr style=\"text-align: right;\">\n",
       "      <th></th>\n",
       "      <th>Customer ID</th>\n",
       "      <th>Monetary</th>\n",
       "      <th>Frequency</th>\n",
       "      <th>Recency</th>\n",
       "    </tr>\n",
       "  </thead>\n",
       "  <tbody>\n",
       "    <tr>\n",
       "      <th>0</th>\n",
       "      <td>12346.0</td>\n",
       "      <td>77556.46</td>\n",
       "      <td>34</td>\n",
       "      <td>325</td>\n",
       "    </tr>\n",
       "    <tr>\n",
       "      <th>1</th>\n",
       "      <td>12347.0</td>\n",
       "      <td>5633.32</td>\n",
       "      <td>253</td>\n",
       "      <td>1</td>\n",
       "    </tr>\n",
       "    <tr>\n",
       "      <th>2</th>\n",
       "      <td>12348.0</td>\n",
       "      <td>2019.40</td>\n",
       "      <td>51</td>\n",
       "      <td>74</td>\n",
       "    </tr>\n",
       "    <tr>\n",
       "      <th>3</th>\n",
       "      <td>12349.0</td>\n",
       "      <td>4428.69</td>\n",
       "      <td>175</td>\n",
       "      <td>18</td>\n",
       "    </tr>\n",
       "    <tr>\n",
       "      <th>4</th>\n",
       "      <td>12350.0</td>\n",
       "      <td>334.40</td>\n",
       "      <td>17</td>\n",
       "      <td>309</td>\n",
       "    </tr>\n",
       "  </tbody>\n",
       "</table>\n",
       "</div>"
      ],
      "text/plain": [
       "  Customer ID  Monetary  Frequency  Recency\n",
       "0     12346.0  77556.46         34      325\n",
       "1     12347.0   5633.32        253        1\n",
       "2     12348.0   2019.40         51       74\n",
       "3     12349.0   4428.69        175       18\n",
       "4     12350.0    334.40         17      309"
      ]
     },
     "execution_count": 58,
     "metadata": {},
     "output_type": "execute_result"
    }
   ],
   "source": [
    "rfm.head()"
   ]
  },
  {
   "cell_type": "markdown",
   "metadata": {},
   "source": [
    "### Checking for Mean and Variance Assumption"
   ]
  },
  {
   "cell_type": "code",
   "execution_count": 59,
   "metadata": {
    "execution": {
     "iopub.execute_input": "2023-11-07T11:24:07.676406Z",
     "iopub.status.busy": "2023-11-07T11:24:07.676022Z",
     "iopub.status.idle": "2023-11-07T11:24:07.698613Z",
     "shell.execute_reply": "2023-11-07T11:24:07.697242Z",
     "shell.execute_reply.started": "2023-11-07T11:24:07.676376Z"
    },
    "trusted": true
   },
   "outputs": [
    {
     "data": {
      "text/html": [
       "<div>\n",
       "<style scoped>\n",
       "    .dataframe tbody tr th:only-of-type {\n",
       "        vertical-align: middle;\n",
       "    }\n",
       "\n",
       "    .dataframe tbody tr th {\n",
       "        vertical-align: top;\n",
       "    }\n",
       "\n",
       "    .dataframe thead th {\n",
       "        text-align: right;\n",
       "    }\n",
       "</style>\n",
       "<table border=\"1\" class=\"dataframe\">\n",
       "  <thead>\n",
       "    <tr style=\"text-align: right;\">\n",
       "      <th></th>\n",
       "      <th>Monetary</th>\n",
       "      <th>Frequency</th>\n",
       "      <th>Recency</th>\n",
       "    </tr>\n",
       "  </thead>\n",
       "  <tbody>\n",
       "    <tr>\n",
       "      <th>count</th>\n",
       "      <td>5878.000000</td>\n",
       "      <td>5878.000000</td>\n",
       "      <td>5878.000000</td>\n",
       "    </tr>\n",
       "    <tr>\n",
       "      <th>mean</th>\n",
       "      <td>3018.616737</td>\n",
       "      <td>137.044743</td>\n",
       "      <td>200.331916</td>\n",
       "    </tr>\n",
       "    <tr>\n",
       "      <th>std</th>\n",
       "      <td>14737.731040</td>\n",
       "      <td>353.818629</td>\n",
       "      <td>209.338707</td>\n",
       "    </tr>\n",
       "    <tr>\n",
       "      <th>min</th>\n",
       "      <td>2.950000</td>\n",
       "      <td>1.000000</td>\n",
       "      <td>0.000000</td>\n",
       "    </tr>\n",
       "    <tr>\n",
       "      <th>25%</th>\n",
       "      <td>348.762500</td>\n",
       "      <td>21.000000</td>\n",
       "      <td>25.000000</td>\n",
       "    </tr>\n",
       "    <tr>\n",
       "      <th>50%</th>\n",
       "      <td>898.915000</td>\n",
       "      <td>53.000000</td>\n",
       "      <td>95.000000</td>\n",
       "    </tr>\n",
       "    <tr>\n",
       "      <th>75%</th>\n",
       "      <td>2307.090000</td>\n",
       "      <td>142.000000</td>\n",
       "      <td>379.000000</td>\n",
       "    </tr>\n",
       "    <tr>\n",
       "      <th>max</th>\n",
       "      <td>608821.650000</td>\n",
       "      <td>12890.000000</td>\n",
       "      <td>738.000000</td>\n",
       "    </tr>\n",
       "  </tbody>\n",
       "</table>\n",
       "</div>"
      ],
      "text/plain": [
       "            Monetary     Frequency      Recency\n",
       "count    5878.000000   5878.000000  5878.000000\n",
       "mean     3018.616737    137.044743   200.331916\n",
       "std     14737.731040    353.818629   209.338707\n",
       "min         2.950000      1.000000     0.000000\n",
       "25%       348.762500     21.000000    25.000000\n",
       "50%       898.915000     53.000000    95.000000\n",
       "75%      2307.090000    142.000000   379.000000\n",
       "max    608821.650000  12890.000000   738.000000"
      ]
     },
     "execution_count": 59,
     "metadata": {},
     "output_type": "execute_result"
    }
   ],
   "source": [
    "rfm.describe()"
   ]
  },
  {
   "cell_type": "markdown",
   "metadata": {},
   "source": [
    "#### Inference\n",
    "From this table, we found:\n",
    "- **Problem:** Mean and Variance(Here std deviation) are not Equal\n",
    "- **Solution:** Scaling variables by using a scaler from scikit-learn library"
   ]
  },
  {
   "cell_type": "markdown",
   "metadata": {},
   "source": [
    "### Checking for Skewness Assumption"
   ]
  },
  {
   "cell_type": "code",
   "execution_count": 60,
   "metadata": {
    "execution": {
     "iopub.execute_input": "2023-11-07T11:24:08.540765Z",
     "iopub.status.busy": "2023-11-07T11:24:08.540056Z",
     "iopub.status.idle": "2023-11-07T11:24:08.546014Z",
     "shell.execute_reply": "2023-11-07T11:24:08.544538Z",
     "shell.execute_reply.started": "2023-11-07T11:24:08.540716Z"
    },
    "scrolled": true,
    "trusted": true
   },
   "outputs": [],
   "source": [
    "from scipy.stats import skew"
   ]
  },
  {
   "cell_type": "code",
   "execution_count": 61,
   "metadata": {
    "execution": {
     "iopub.execute_input": "2023-11-07T11:24:08.826205Z",
     "iopub.status.busy": "2023-11-07T11:24:08.825759Z",
     "iopub.status.idle": "2023-11-07T11:24:08.845820Z",
     "shell.execute_reply": "2023-11-07T11:24:08.844880Z",
     "shell.execute_reply.started": "2023-11-07T11:24:08.826168Z"
    },
    "trusted": true
   },
   "outputs": [
    {
     "name": "stdout",
     "output_type": "stream",
     "text": [
      "  Feature Name   Skewness\n",
      "0      Recency   0.886972\n",
      "1    Frequency  18.051480\n",
      "2     Monetary  25.307775\n"
     ]
    }
   ],
   "source": [
    "skew_df = pd.DataFrame(columns=['Feature Name', 'Skewness'])\n",
    "\n",
    "rfm_metrics = ['Recency','Frequency','Monetary']\n",
    "\n",
    "for feature in rfm_metrics:\n",
    "    skewness = skew(rfm[feature])\n",
    "    skew_df = skew_df._append({'Feature Name': feature, 'Skewness': skewness}, ignore_index=True)\n",
    "\n",
    "print(skew_df)"
   ]
  },
  {
   "cell_type": "markdown",
   "metadata": {},
   "source": [
    "**`Note:`** **append** method in pandas is now modified to **_append**"
   ]
  },
  {
   "cell_type": "markdown",
   "metadata": {},
   "source": [
    "#### Inference\n",
    "- **Recency** has a **mild positive skew** suggesting a slight right-leaning distribution. It is acceptable.\n",
    "- **Frequency** exhibits very **high positive skewness** indicating an imbalanced distribution with a **few high-frequency outliers**.\n",
    "- **Monetary** has **extremely high positive skewness** signifying a heavy right-skewed distribution with a **concentration of low values** and a **few exceptionally high monetary values**.\n",
    "\n",
    "<br>\n",
    "From above observation, we found: \n",
    "\n",
    "- **Problem:** UnSymmetric distribution of variables (data skewed)\n",
    "- **Solution:** Logarithmic transformation (positive values only) will manage skewness"
   ]
  },
  {
   "cell_type": "markdown",
   "metadata": {},
   "source": [
    "### Preprocessing Steps for Model Building\n",
    "\n",
    "1. **Unskew the Data - Log Transformation:** Log transformation is typically used to reduce the impact of skewness in the data, especially when the data is positively skewed (skewed to the right). Taking the log of data can make it more symmetric and easier to work with. However, log transformation **can only be applied to positive data** because the logarithm of zero or a negative number is undefined. Therefore, this step should come first to address skewness.\n",
    "\n",
    "\n",
    "2. **Standardize to the Same Average Values:** Standardization (or mean centering) involves subtracting the mean (average) of the data from each data point. This step helps make different variables have the same average (zero) and can make the data more suitable for certain clustering algorithms like K-Means, which are sensitive to variable scales. If you standardize before unskewing (log transformation), you could introduce bias into your data, making the log transformation less effective.\n",
    "\n",
    "3. **Scale to the Same Standard Deviation:** Scaling involves dividing each data point by the standard deviation of the variable. This step ensures that variables have the same scale and equal importance in distance-based algorithms like K-Means. If you scale before unskewing or standardizing, it can lead to unwanted effects because you are dividing by a different standard deviation.\n",
    "\n",
    "4. **Store as a Separate Array for Clustering:** This step is more about data organization and does not affect the data values themselves. It's important to keep a separate copy of your preprocessed data for clustering so that you can compare it with the original data or use it for various clustering algorithms.\n",
    "\n",
    "**`Note:`** Sequence of preprocessing steps is crucial because each step builds upon the previous one and aims to address specific issues in the data. Applying them in the wrong order can lead to unintended consequences and inaccurate results. For example, Log transformation only works with positive data and Normalization forces data to have negative values and log will not work"
   ]
  },
  {
   "cell_type": "markdown",
   "metadata": {},
   "source": [
    "### Unskew Data with Log Transformation"
   ]
  },
  {
   "cell_type": "code",
   "execution_count": 62,
   "metadata": {
    "execution": {
     "iopub.execute_input": "2023-11-07T11:24:10.209646Z",
     "iopub.status.busy": "2023-11-07T11:24:10.208994Z",
     "iopub.status.idle": "2023-11-07T11:24:10.217564Z",
     "shell.execute_reply": "2023-11-07T11:24:10.216388Z",
     "shell.execute_reply.started": "2023-11-07T11:24:10.209605Z"
    },
    "trusted": true
   },
   "outputs": [],
   "source": [
    "rfm_log_transform = rfm[['Frequency', 'Monetary']].apply(np.log, axis = 1).round(3)"
   ]
  },
  {
   "cell_type": "code",
   "execution_count": 63,
   "metadata": {
    "execution": {
     "iopub.execute_input": "2023-11-07T11:24:10.505328Z",
     "iopub.status.busy": "2023-11-07T11:24:10.504908Z",
     "iopub.status.idle": "2023-11-07T11:24:10.522398Z",
     "shell.execute_reply": "2023-11-07T11:24:10.521041Z",
     "shell.execute_reply.started": "2023-11-07T11:24:10.505295Z"
    },
    "trusted": true
   },
   "outputs": [
    {
     "name": "stdout",
     "output_type": "stream",
     "text": [
      "  Feature Name  Skewness\n",
      "0    Frequency -0.223792\n",
      "1     Monetary  0.251000\n"
     ]
    }
   ],
   "source": [
    "skew_log_transform_df = pd.DataFrame(columns=['Feature Name', 'Skewness'])\n",
    "\n",
    "rfm_lof_transform_features = ['Frequency','Monetary']\n",
    "\n",
    "for feature in rfm_lof_transform_features:\n",
    "    skewness = skew(rfm_log_transform[feature])\n",
    "    skew_log_transform_df = skew_log_transform_df._append({'Feature Name': feature, 'Skewness': skewness}, ignore_index=True)\n",
    "\n",
    "print(skew_log_transform_df)"
   ]
  },
  {
   "cell_type": "markdown",
   "metadata": {},
   "source": [
    "**Now the skewness of all three RFM dimensions lies between -1 to 1 which is acceptable for further processing.**"
   ]
  },
  {
   "cell_type": "code",
   "execution_count": 64,
   "metadata": {
    "execution": {
     "iopub.execute_input": "2023-11-07T11:24:11.095761Z",
     "iopub.status.busy": "2023-11-07T11:24:11.095032Z",
     "iopub.status.idle": "2023-11-07T11:24:11.106473Z",
     "shell.execute_reply": "2023-11-07T11:24:11.105243Z",
     "shell.execute_reply.started": "2023-11-07T11:24:11.095699Z"
    },
    "trusted": true
   },
   "outputs": [
    {
     "data": {
      "text/html": [
       "<div>\n",
       "<style scoped>\n",
       "    .dataframe tbody tr th:only-of-type {\n",
       "        vertical-align: middle;\n",
       "    }\n",
       "\n",
       "    .dataframe tbody tr th {\n",
       "        vertical-align: top;\n",
       "    }\n",
       "\n",
       "    .dataframe thead th {\n",
       "        text-align: right;\n",
       "    }\n",
       "</style>\n",
       "<table border=\"1\" class=\"dataframe\">\n",
       "  <thead>\n",
       "    <tr style=\"text-align: right;\">\n",
       "      <th></th>\n",
       "      <th>Frequency</th>\n",
       "      <th>Monetary</th>\n",
       "    </tr>\n",
       "  </thead>\n",
       "  <tbody>\n",
       "    <tr>\n",
       "      <th>0</th>\n",
       "      <td>3.526</td>\n",
       "      <td>11.259</td>\n",
       "    </tr>\n",
       "    <tr>\n",
       "      <th>1</th>\n",
       "      <td>5.533</td>\n",
       "      <td>8.636</td>\n",
       "    </tr>\n",
       "    <tr>\n",
       "      <th>2</th>\n",
       "      <td>3.932</td>\n",
       "      <td>7.611</td>\n",
       "    </tr>\n",
       "    <tr>\n",
       "      <th>3</th>\n",
       "      <td>5.165</td>\n",
       "      <td>8.396</td>\n",
       "    </tr>\n",
       "    <tr>\n",
       "      <th>4</th>\n",
       "      <td>2.833</td>\n",
       "      <td>5.812</td>\n",
       "    </tr>\n",
       "  </tbody>\n",
       "</table>\n",
       "</div>"
      ],
      "text/plain": [
       "   Frequency  Monetary\n",
       "0      3.526    11.259\n",
       "1      5.533     8.636\n",
       "2      3.932     7.611\n",
       "3      5.165     8.396\n",
       "4      2.833     5.812"
      ]
     },
     "execution_count": 64,
     "metadata": {},
     "output_type": "execute_result"
    }
   ],
   "source": [
    "rfm_log_transform.head()"
   ]
  },
  {
   "cell_type": "code",
   "execution_count": 65,
   "metadata": {
    "execution": {
     "iopub.execute_input": "2023-11-07T11:24:11.371356Z",
     "iopub.status.busy": "2023-11-07T11:24:11.370977Z",
     "iopub.status.idle": "2023-11-07T11:24:11.382883Z",
     "shell.execute_reply": "2023-11-07T11:24:11.381628Z",
     "shell.execute_reply.started": "2023-11-07T11:24:11.371328Z"
    },
    "trusted": true
   },
   "outputs": [
    {
     "data": {
      "text/html": [
       "<div>\n",
       "<style scoped>\n",
       "    .dataframe tbody tr th:only-of-type {\n",
       "        vertical-align: middle;\n",
       "    }\n",
       "\n",
       "    .dataframe tbody tr th {\n",
       "        vertical-align: top;\n",
       "    }\n",
       "\n",
       "    .dataframe thead th {\n",
       "        text-align: right;\n",
       "    }\n",
       "</style>\n",
       "<table border=\"1\" class=\"dataframe\">\n",
       "  <thead>\n",
       "    <tr style=\"text-align: right;\">\n",
       "      <th></th>\n",
       "      <th>Customer ID</th>\n",
       "      <th>Monetary</th>\n",
       "      <th>Frequency</th>\n",
       "      <th>Recency</th>\n",
       "    </tr>\n",
       "  </thead>\n",
       "  <tbody>\n",
       "    <tr>\n",
       "      <th>0</th>\n",
       "      <td>12346.0</td>\n",
       "      <td>77556.46</td>\n",
       "      <td>34</td>\n",
       "      <td>325</td>\n",
       "    </tr>\n",
       "    <tr>\n",
       "      <th>1</th>\n",
       "      <td>12347.0</td>\n",
       "      <td>5633.32</td>\n",
       "      <td>253</td>\n",
       "      <td>1</td>\n",
       "    </tr>\n",
       "    <tr>\n",
       "      <th>2</th>\n",
       "      <td>12348.0</td>\n",
       "      <td>2019.40</td>\n",
       "      <td>51</td>\n",
       "      <td>74</td>\n",
       "    </tr>\n",
       "    <tr>\n",
       "      <th>3</th>\n",
       "      <td>12349.0</td>\n",
       "      <td>4428.69</td>\n",
       "      <td>175</td>\n",
       "      <td>18</td>\n",
       "    </tr>\n",
       "    <tr>\n",
       "      <th>4</th>\n",
       "      <td>12350.0</td>\n",
       "      <td>334.40</td>\n",
       "      <td>17</td>\n",
       "      <td>309</td>\n",
       "    </tr>\n",
       "  </tbody>\n",
       "</table>\n",
       "</div>"
      ],
      "text/plain": [
       "  Customer ID  Monetary  Frequency  Recency\n",
       "0     12346.0  77556.46         34      325\n",
       "1     12347.0   5633.32        253        1\n",
       "2     12348.0   2019.40         51       74\n",
       "3     12349.0   4428.69        175       18\n",
       "4     12350.0    334.40         17      309"
      ]
     },
     "execution_count": 65,
     "metadata": {},
     "output_type": "execute_result"
    }
   ],
   "source": [
    "rfm.head()"
   ]
  },
  {
   "cell_type": "code",
   "execution_count": 66,
   "metadata": {
    "execution": {
     "iopub.execute_input": "2023-11-07T11:24:11.634429Z",
     "iopub.status.busy": "2023-11-07T11:24:11.634053Z",
     "iopub.status.idle": "2023-11-07T11:24:11.641371Z",
     "shell.execute_reply": "2023-11-07T11:24:11.640057Z",
     "shell.execute_reply.started": "2023-11-07T11:24:11.634401Z"
    },
    "trusted": true
   },
   "outputs": [],
   "source": [
    "rfm_log_transform['Customer ID'] = rfm['Customer ID']"
   ]
  },
  {
   "cell_type": "code",
   "execution_count": 67,
   "metadata": {
    "execution": {
     "iopub.execute_input": "2023-11-07T11:24:11.908348Z",
     "iopub.status.busy": "2023-11-07T11:24:11.907930Z",
     "iopub.status.idle": "2023-11-07T11:24:11.914968Z",
     "shell.execute_reply": "2023-11-07T11:24:11.913647Z",
     "shell.execute_reply.started": "2023-11-07T11:24:11.908315Z"
    },
    "trusted": true
   },
   "outputs": [],
   "source": [
    "rfm_log_transform['Recency'] = rfm['Recency']"
   ]
  },
  {
   "cell_type": "code",
   "execution_count": 68,
   "metadata": {
    "execution": {
     "iopub.execute_input": "2023-11-07T11:24:12.164137Z",
     "iopub.status.busy": "2023-11-07T11:24:12.163696Z",
     "iopub.status.idle": "2023-11-07T11:24:12.180171Z",
     "shell.execute_reply": "2023-11-07T11:24:12.179265Z",
     "shell.execute_reply.started": "2023-11-07T11:24:12.164103Z"
    },
    "trusted": true
   },
   "outputs": [
    {
     "data": {
      "text/html": [
       "<div>\n",
       "<style scoped>\n",
       "    .dataframe tbody tr th:only-of-type {\n",
       "        vertical-align: middle;\n",
       "    }\n",
       "\n",
       "    .dataframe tbody tr th {\n",
       "        vertical-align: top;\n",
       "    }\n",
       "\n",
       "    .dataframe thead th {\n",
       "        text-align: right;\n",
       "    }\n",
       "</style>\n",
       "<table border=\"1\" class=\"dataframe\">\n",
       "  <thead>\n",
       "    <tr style=\"text-align: right;\">\n",
       "      <th></th>\n",
       "      <th>Frequency</th>\n",
       "      <th>Monetary</th>\n",
       "      <th>Customer ID</th>\n",
       "      <th>Recency</th>\n",
       "    </tr>\n",
       "  </thead>\n",
       "  <tbody>\n",
       "    <tr>\n",
       "      <th>0</th>\n",
       "      <td>3.526</td>\n",
       "      <td>11.259</td>\n",
       "      <td>12346.0</td>\n",
       "      <td>325</td>\n",
       "    </tr>\n",
       "    <tr>\n",
       "      <th>1</th>\n",
       "      <td>5.533</td>\n",
       "      <td>8.636</td>\n",
       "      <td>12347.0</td>\n",
       "      <td>1</td>\n",
       "    </tr>\n",
       "    <tr>\n",
       "      <th>2</th>\n",
       "      <td>3.932</td>\n",
       "      <td>7.611</td>\n",
       "      <td>12348.0</td>\n",
       "      <td>74</td>\n",
       "    </tr>\n",
       "    <tr>\n",
       "      <th>3</th>\n",
       "      <td>5.165</td>\n",
       "      <td>8.396</td>\n",
       "      <td>12349.0</td>\n",
       "      <td>18</td>\n",
       "    </tr>\n",
       "    <tr>\n",
       "      <th>4</th>\n",
       "      <td>2.833</td>\n",
       "      <td>5.812</td>\n",
       "      <td>12350.0</td>\n",
       "      <td>309</td>\n",
       "    </tr>\n",
       "    <tr>\n",
       "      <th>...</th>\n",
       "      <td>...</td>\n",
       "      <td>...</td>\n",
       "      <td>...</td>\n",
       "      <td>...</td>\n",
       "    </tr>\n",
       "    <tr>\n",
       "      <th>5873</th>\n",
       "      <td>6.894</td>\n",
       "      <td>7.914</td>\n",
       "      <td>18283.0</td>\n",
       "      <td>3</td>\n",
       "    </tr>\n",
       "    <tr>\n",
       "      <th>5874</th>\n",
       "      <td>3.332</td>\n",
       "      <td>6.135</td>\n",
       "      <td>18284.0</td>\n",
       "      <td>431</td>\n",
       "    </tr>\n",
       "    <tr>\n",
       "      <th>5875</th>\n",
       "      <td>2.485</td>\n",
       "      <td>6.057</td>\n",
       "      <td>18285.0</td>\n",
       "      <td>660</td>\n",
       "    </tr>\n",
       "    <tr>\n",
       "      <th>5876</th>\n",
       "      <td>4.205</td>\n",
       "      <td>7.167</td>\n",
       "      <td>18286.0</td>\n",
       "      <td>476</td>\n",
       "    </tr>\n",
       "    <tr>\n",
       "      <th>5877</th>\n",
       "      <td>5.043</td>\n",
       "      <td>8.339</td>\n",
       "      <td>18287.0</td>\n",
       "      <td>42</td>\n",
       "    </tr>\n",
       "  </tbody>\n",
       "</table>\n",
       "<p>5878 rows × 4 columns</p>\n",
       "</div>"
      ],
      "text/plain": [
       "      Frequency  Monetary Customer ID  Recency\n",
       "0         3.526    11.259     12346.0      325\n",
       "1         5.533     8.636     12347.0        1\n",
       "2         3.932     7.611     12348.0       74\n",
       "3         5.165     8.396     12349.0       18\n",
       "4         2.833     5.812     12350.0      309\n",
       "...         ...       ...         ...      ...\n",
       "5873      6.894     7.914     18283.0        3\n",
       "5874      3.332     6.135     18284.0      431\n",
       "5875      2.485     6.057     18285.0      660\n",
       "5876      4.205     7.167     18286.0      476\n",
       "5877      5.043     8.339     18287.0       42\n",
       "\n",
       "[5878 rows x 4 columns]"
      ]
     },
     "execution_count": 68,
     "metadata": {},
     "output_type": "execute_result"
    }
   ],
   "source": [
    "rfm_log_transform"
   ]
  },
  {
   "cell_type": "code",
   "execution_count": 69,
   "metadata": {
    "execution": {
     "iopub.execute_input": "2023-11-07T11:24:12.470474Z",
     "iopub.status.busy": "2023-11-07T11:24:12.469068Z",
     "iopub.status.idle": "2023-11-07T11:24:12.477212Z",
     "shell.execute_reply": "2023-11-07T11:24:12.475994Z",
     "shell.execute_reply.started": "2023-11-07T11:24:12.470430Z"
    },
    "trusted": true
   },
   "outputs": [],
   "source": [
    "rfm_log_transform = rfm_log_transform[['Customer ID','Recency','Frequency','Monetary']]"
   ]
  },
  {
   "cell_type": "code",
   "execution_count": 70,
   "metadata": {
    "execution": {
     "iopub.execute_input": "2023-11-07T11:24:12.762243Z",
     "iopub.status.busy": "2023-11-07T11:24:12.761848Z",
     "iopub.status.idle": "2023-11-07T11:24:12.779510Z",
     "shell.execute_reply": "2023-11-07T11:24:12.778184Z",
     "shell.execute_reply.started": "2023-11-07T11:24:12.762214Z"
    },
    "trusted": true
   },
   "outputs": [
    {
     "data": {
      "text/html": [
       "<div>\n",
       "<style scoped>\n",
       "    .dataframe tbody tr th:only-of-type {\n",
       "        vertical-align: middle;\n",
       "    }\n",
       "\n",
       "    .dataframe tbody tr th {\n",
       "        vertical-align: top;\n",
       "    }\n",
       "\n",
       "    .dataframe thead th {\n",
       "        text-align: right;\n",
       "    }\n",
       "</style>\n",
       "<table border=\"1\" class=\"dataframe\">\n",
       "  <thead>\n",
       "    <tr style=\"text-align: right;\">\n",
       "      <th></th>\n",
       "      <th>Customer ID</th>\n",
       "      <th>Recency</th>\n",
       "      <th>Frequency</th>\n",
       "      <th>Monetary</th>\n",
       "    </tr>\n",
       "  </thead>\n",
       "  <tbody>\n",
       "    <tr>\n",
       "      <th>0</th>\n",
       "      <td>12346.0</td>\n",
       "      <td>325</td>\n",
       "      <td>3.526</td>\n",
       "      <td>11.259</td>\n",
       "    </tr>\n",
       "    <tr>\n",
       "      <th>1</th>\n",
       "      <td>12347.0</td>\n",
       "      <td>1</td>\n",
       "      <td>5.533</td>\n",
       "      <td>8.636</td>\n",
       "    </tr>\n",
       "    <tr>\n",
       "      <th>2</th>\n",
       "      <td>12348.0</td>\n",
       "      <td>74</td>\n",
       "      <td>3.932</td>\n",
       "      <td>7.611</td>\n",
       "    </tr>\n",
       "    <tr>\n",
       "      <th>3</th>\n",
       "      <td>12349.0</td>\n",
       "      <td>18</td>\n",
       "      <td>5.165</td>\n",
       "      <td>8.396</td>\n",
       "    </tr>\n",
       "    <tr>\n",
       "      <th>4</th>\n",
       "      <td>12350.0</td>\n",
       "      <td>309</td>\n",
       "      <td>2.833</td>\n",
       "      <td>5.812</td>\n",
       "    </tr>\n",
       "    <tr>\n",
       "      <th>...</th>\n",
       "      <td>...</td>\n",
       "      <td>...</td>\n",
       "      <td>...</td>\n",
       "      <td>...</td>\n",
       "    </tr>\n",
       "    <tr>\n",
       "      <th>5873</th>\n",
       "      <td>18283.0</td>\n",
       "      <td>3</td>\n",
       "      <td>6.894</td>\n",
       "      <td>7.914</td>\n",
       "    </tr>\n",
       "    <tr>\n",
       "      <th>5874</th>\n",
       "      <td>18284.0</td>\n",
       "      <td>431</td>\n",
       "      <td>3.332</td>\n",
       "      <td>6.135</td>\n",
       "    </tr>\n",
       "    <tr>\n",
       "      <th>5875</th>\n",
       "      <td>18285.0</td>\n",
       "      <td>660</td>\n",
       "      <td>2.485</td>\n",
       "      <td>6.057</td>\n",
       "    </tr>\n",
       "    <tr>\n",
       "      <th>5876</th>\n",
       "      <td>18286.0</td>\n",
       "      <td>476</td>\n",
       "      <td>4.205</td>\n",
       "      <td>7.167</td>\n",
       "    </tr>\n",
       "    <tr>\n",
       "      <th>5877</th>\n",
       "      <td>18287.0</td>\n",
       "      <td>42</td>\n",
       "      <td>5.043</td>\n",
       "      <td>8.339</td>\n",
       "    </tr>\n",
       "  </tbody>\n",
       "</table>\n",
       "<p>5878 rows × 4 columns</p>\n",
       "</div>"
      ],
      "text/plain": [
       "     Customer ID  Recency  Frequency  Monetary\n",
       "0        12346.0      325      3.526    11.259\n",
       "1        12347.0        1      5.533     8.636\n",
       "2        12348.0       74      3.932     7.611\n",
       "3        12349.0       18      5.165     8.396\n",
       "4        12350.0      309      2.833     5.812\n",
       "...          ...      ...        ...       ...\n",
       "5873     18283.0        3      6.894     7.914\n",
       "5874     18284.0      431      3.332     6.135\n",
       "5875     18285.0      660      2.485     6.057\n",
       "5876     18286.0      476      4.205     7.167\n",
       "5877     18287.0       42      5.043     8.339\n",
       "\n",
       "[5878 rows x 4 columns]"
      ]
     },
     "execution_count": 70,
     "metadata": {},
     "output_type": "execute_result"
    }
   ],
   "source": [
    "rfm_log_transform"
   ]
  },
  {
   "cell_type": "code",
   "execution_count": 71,
   "metadata": {
    "execution": {
     "iopub.execute_input": "2023-11-07T11:24:13.292040Z",
     "iopub.status.busy": "2023-11-07T11:24:13.291626Z",
     "iopub.status.idle": "2023-11-07T11:24:13.315195Z",
     "shell.execute_reply": "2023-11-07T11:24:13.314040Z",
     "shell.execute_reply.started": "2023-11-07T11:24:13.292008Z"
    },
    "trusted": true
   },
   "outputs": [
    {
     "data": {
      "text/html": [
       "<div>\n",
       "<style scoped>\n",
       "    .dataframe tbody tr th:only-of-type {\n",
       "        vertical-align: middle;\n",
       "    }\n",
       "\n",
       "    .dataframe tbody tr th {\n",
       "        vertical-align: top;\n",
       "    }\n",
       "\n",
       "    .dataframe thead th {\n",
       "        text-align: right;\n",
       "    }\n",
       "</style>\n",
       "<table border=\"1\" class=\"dataframe\">\n",
       "  <thead>\n",
       "    <tr style=\"text-align: right;\">\n",
       "      <th></th>\n",
       "      <th>Recency</th>\n",
       "      <th>Frequency</th>\n",
       "      <th>Monetary</th>\n",
       "    </tr>\n",
       "  </thead>\n",
       "  <tbody>\n",
       "    <tr>\n",
       "      <th>count</th>\n",
       "      <td>5878.000000</td>\n",
       "      <td>5878.000000</td>\n",
       "      <td>5878.000000</td>\n",
       "    </tr>\n",
       "    <tr>\n",
       "      <th>mean</th>\n",
       "      <td>200.331916</td>\n",
       "      <td>3.948703</td>\n",
       "      <td>6.833839</td>\n",
       "    </tr>\n",
       "    <tr>\n",
       "      <th>std</th>\n",
       "      <td>209.338707</td>\n",
       "      <td>1.443745</td>\n",
       "      <td>1.391568</td>\n",
       "    </tr>\n",
       "    <tr>\n",
       "      <th>min</th>\n",
       "      <td>0.000000</td>\n",
       "      <td>0.000000</td>\n",
       "      <td>1.082000</td>\n",
       "    </tr>\n",
       "    <tr>\n",
       "      <th>25%</th>\n",
       "      <td>25.000000</td>\n",
       "      <td>3.045000</td>\n",
       "      <td>5.854000</td>\n",
       "    </tr>\n",
       "    <tr>\n",
       "      <th>50%</th>\n",
       "      <td>95.000000</td>\n",
       "      <td>3.970000</td>\n",
       "      <td>6.801000</td>\n",
       "    </tr>\n",
       "    <tr>\n",
       "      <th>75%</th>\n",
       "      <td>379.000000</td>\n",
       "      <td>4.956000</td>\n",
       "      <td>7.743500</td>\n",
       "    </tr>\n",
       "    <tr>\n",
       "      <th>max</th>\n",
       "      <td>738.000000</td>\n",
       "      <td>9.464000</td>\n",
       "      <td>13.319000</td>\n",
       "    </tr>\n",
       "  </tbody>\n",
       "</table>\n",
       "</div>"
      ],
      "text/plain": [
       "           Recency    Frequency     Monetary\n",
       "count  5878.000000  5878.000000  5878.000000\n",
       "mean    200.331916     3.948703     6.833839\n",
       "std     209.338707     1.443745     1.391568\n",
       "min       0.000000     0.000000     1.082000\n",
       "25%      25.000000     3.045000     5.854000\n",
       "50%      95.000000     3.970000     6.801000\n",
       "75%     379.000000     4.956000     7.743500\n",
       "max     738.000000     9.464000    13.319000"
      ]
     },
     "execution_count": 71,
     "metadata": {},
     "output_type": "execute_result"
    }
   ],
   "source": [
    "rfm_log_transform.describe()"
   ]
  },
  {
   "cell_type": "markdown",
   "metadata": {},
   "source": [
    "### Normalization using Standard Scaler"
   ]
  },
  {
   "cell_type": "code",
   "execution_count": 72,
   "metadata": {
    "execution": {
     "iopub.execute_input": "2023-11-07T11:24:13.620260Z",
     "iopub.status.busy": "2023-11-07T11:24:13.619866Z",
     "iopub.status.idle": "2023-11-07T11:24:13.627290Z",
     "shell.execute_reply": "2023-11-07T11:24:13.625999Z",
     "shell.execute_reply.started": "2023-11-07T11:24:13.620233Z"
    },
    "trusted": true
   },
   "outputs": [],
   "source": [
    "rfm_normalization = rfm_log_transform[['Recency','Frequency','Monetary']]"
   ]
  },
  {
   "cell_type": "code",
   "execution_count": 73,
   "metadata": {
    "execution": {
     "iopub.execute_input": "2023-11-07T11:24:14.119230Z",
     "iopub.status.busy": "2023-11-07T11:24:14.117955Z",
     "iopub.status.idle": "2023-11-07T11:24:14.136298Z",
     "shell.execute_reply": "2023-11-07T11:24:14.135100Z",
     "shell.execute_reply.started": "2023-11-07T11:24:14.119174Z"
    },
    "trusted": true
   },
   "outputs": [
    {
     "data": {
      "text/html": [
       "<div>\n",
       "<style scoped>\n",
       "    .dataframe tbody tr th:only-of-type {\n",
       "        vertical-align: middle;\n",
       "    }\n",
       "\n",
       "    .dataframe tbody tr th {\n",
       "        vertical-align: top;\n",
       "    }\n",
       "\n",
       "    .dataframe thead th {\n",
       "        text-align: right;\n",
       "    }\n",
       "</style>\n",
       "<table border=\"1\" class=\"dataframe\">\n",
       "  <thead>\n",
       "    <tr style=\"text-align: right;\">\n",
       "      <th></th>\n",
       "      <th>Recency</th>\n",
       "      <th>Frequency</th>\n",
       "      <th>Monetary</th>\n",
       "    </tr>\n",
       "  </thead>\n",
       "  <tbody>\n",
       "    <tr>\n",
       "      <th>0</th>\n",
       "      <td>325</td>\n",
       "      <td>3.526</td>\n",
       "      <td>11.259</td>\n",
       "    </tr>\n",
       "    <tr>\n",
       "      <th>1</th>\n",
       "      <td>1</td>\n",
       "      <td>5.533</td>\n",
       "      <td>8.636</td>\n",
       "    </tr>\n",
       "    <tr>\n",
       "      <th>2</th>\n",
       "      <td>74</td>\n",
       "      <td>3.932</td>\n",
       "      <td>7.611</td>\n",
       "    </tr>\n",
       "    <tr>\n",
       "      <th>3</th>\n",
       "      <td>18</td>\n",
       "      <td>5.165</td>\n",
       "      <td>8.396</td>\n",
       "    </tr>\n",
       "    <tr>\n",
       "      <th>4</th>\n",
       "      <td>309</td>\n",
       "      <td>2.833</td>\n",
       "      <td>5.812</td>\n",
       "    </tr>\n",
       "    <tr>\n",
       "      <th>...</th>\n",
       "      <td>...</td>\n",
       "      <td>...</td>\n",
       "      <td>...</td>\n",
       "    </tr>\n",
       "    <tr>\n",
       "      <th>5873</th>\n",
       "      <td>3</td>\n",
       "      <td>6.894</td>\n",
       "      <td>7.914</td>\n",
       "    </tr>\n",
       "    <tr>\n",
       "      <th>5874</th>\n",
       "      <td>431</td>\n",
       "      <td>3.332</td>\n",
       "      <td>6.135</td>\n",
       "    </tr>\n",
       "    <tr>\n",
       "      <th>5875</th>\n",
       "      <td>660</td>\n",
       "      <td>2.485</td>\n",
       "      <td>6.057</td>\n",
       "    </tr>\n",
       "    <tr>\n",
       "      <th>5876</th>\n",
       "      <td>476</td>\n",
       "      <td>4.205</td>\n",
       "      <td>7.167</td>\n",
       "    </tr>\n",
       "    <tr>\n",
       "      <th>5877</th>\n",
       "      <td>42</td>\n",
       "      <td>5.043</td>\n",
       "      <td>8.339</td>\n",
       "    </tr>\n",
       "  </tbody>\n",
       "</table>\n",
       "<p>5878 rows × 3 columns</p>\n",
       "</div>"
      ],
      "text/plain": [
       "      Recency  Frequency  Monetary\n",
       "0         325      3.526    11.259\n",
       "1           1      5.533     8.636\n",
       "2          74      3.932     7.611\n",
       "3          18      5.165     8.396\n",
       "4         309      2.833     5.812\n",
       "...       ...        ...       ...\n",
       "5873        3      6.894     7.914\n",
       "5874      431      3.332     6.135\n",
       "5875      660      2.485     6.057\n",
       "5876      476      4.205     7.167\n",
       "5877       42      5.043     8.339\n",
       "\n",
       "[5878 rows x 3 columns]"
      ]
     },
     "execution_count": 73,
     "metadata": {},
     "output_type": "execute_result"
    }
   ],
   "source": [
    "rfm_normalization"
   ]
  },
  {
   "cell_type": "code",
   "execution_count": 74,
   "metadata": {
    "execution": {
     "iopub.execute_input": "2023-11-07T11:24:14.860708Z",
     "iopub.status.busy": "2023-11-07T11:24:14.860303Z",
     "iopub.status.idle": "2023-11-07T11:24:14.872156Z",
     "shell.execute_reply": "2023-11-07T11:24:14.871047Z",
     "shell.execute_reply.started": "2023-11-07T11:24:14.860676Z"
    },
    "trusted": true
   },
   "outputs": [],
   "source": [
    "from sklearn.preprocessing import StandardScaler\n",
    "scaler = StandardScaler()\n",
    "scaler.fit(rfm_normalization)\n",
    "#Store it separately for clustering\n",
    "rfm_normalized = scaler.transform(rfm_normalization)"
   ]
  },
  {
   "cell_type": "code",
   "execution_count": 75,
   "metadata": {
    "execution": {
     "iopub.execute_input": "2023-11-07T11:24:15.189917Z",
     "iopub.status.busy": "2023-11-07T11:24:15.189189Z",
     "iopub.status.idle": "2023-11-07T11:24:15.198377Z",
     "shell.execute_reply": "2023-11-07T11:24:15.197175Z",
     "shell.execute_reply.started": "2023-11-07T11:24:15.189873Z"
    },
    "trusted": true
   },
   "outputs": [
    {
     "data": {
      "text/plain": [
       "array([[ 0.59558355, -0.29280739,  3.18025313],\n",
       "       [-0.95227909,  1.09744536,  1.29516833],\n",
       "       [-0.60353226, -0.01157041,  0.55852634],\n",
       "       ...,\n",
       "       [ 2.19599709, -1.01391008, -0.55829477],\n",
       "       [ 1.31696398,  0.17753721,  0.2394346 ],\n",
       "       [-0.75640758,  0.75802142,  1.08172182]])"
      ]
     },
     "execution_count": 75,
     "metadata": {},
     "output_type": "execute_result"
    }
   ],
   "source": [
    "rfm_normalized"
   ]
  },
  {
   "cell_type": "markdown",
   "metadata": {},
   "source": [
    "**Now Normalization of all three RFM dimensions done and saved in separate array, we are now ready for Clustering.**"
   ]
  },
  {
   "cell_type": "markdown",
   "metadata": {},
   "source": [
    "### Chosing Number of Clusters\n",
    "\n",
    "#### Methods to define the number of Clusters\n",
    "- 1. Visual Method: Elbow Criteria\n",
    "- 2. Mathematical Method: Silhouette Coefficient\n",
    "- 3. Experimentation and Interpretation"
   ]
  },
  {
   "cell_type": "markdown",
   "metadata": {},
   "source": [
    "### Steps Involved in Elbow Criteria Method\n",
    "\n",
    "1. **Within-Cluster Sum-of-Squared-Errors (SSE):** The SSE is a measure of the variability within each cluster. It is calculated as the sum of the squared distances between each data point and the center of its assigned cluster. In K-Means clustering, the goal is to **minimize the SSE** because it indicates that data points within each cluster are close to each other.\n",
    "\n",
    "2. **Plotting the Number of Clusters vs. SSE:** To determine the optimal number of clusters, we can perform K-Means clustering with different values of k (the number of clusters) and calculate the SSE for each value of k. We then plot the number of clusters (k) on the x-axis and the corresponding SSE on the y-axis.\n",
    "\n",
    "3. **Identifying the Elbow Point:** When we plot the SSE against the number of clusters, we often observe a pattern where the SSE decreases as the number of clusters increases. However, at some point, adding more clusters starts to have diminishing returns in terms of reducing SSE. The point where the **rate of decrease sharply changes**, forming an **elbow** in the plot is often considered the optimal number of clusters.\n",
    "\n",
    "   - Before the elbow point, adding more clusters significantly reduces SSE, indicating that the clusters are too large, and data points are far from their cluster centers.\n",
    "   - After the elbow point, adding more clusters has less impact on reducing SSE, suggesting that the clusters are becoming too granular, and overfitting may occur.\n",
    "   \n",
    "   \n",
    "### What If Elbow Point is clearly Identifiable\n",
    "\n",
    "- The optimal number of clusters is typically determined visually by looking at the plot. However, it is not always straightforward and there may not be a clear and distinct elbow. In such cases, you might need to use additional methods such as **silhouette coefficient** or make an **informed decision based on domain knowledge** and the specific goals of your analysis. \n",
    "\n",
    "- It is important to note that the choice of the optimal number of clusters is not always definitive and it may require **experimentation and interpretation**. Sometimes, we might choose a number of clusters that aligns with our problem's requirements or provides meaningful insights even if it's not the exact \"elbow\" point.\n",
    "\n",
    "\n",
    "**`Note:`** The elbow criterion method is a valuable tool for guiding the selection of the number of clusters in K-Means clustering but it is essential to consider it alongside other factors and domain knowledge to make the final decision."
   ]
  },
  {
   "cell_type": "markdown",
   "metadata": {},
   "source": [
    "#### Method-1: Using `.score()` method"
   ]
  },
  {
   "cell_type": "code",
   "execution_count": 76,
   "metadata": {
    "execution": {
     "iopub.execute_input": "2023-11-07T11:24:16.609369Z",
     "iopub.status.busy": "2023-11-07T11:24:16.608921Z",
     "iopub.status.idle": "2023-11-07T11:24:41.786588Z",
     "shell.execute_reply": "2023-11-07T11:24:41.785679Z",
     "shell.execute_reply.started": "2023-11-07T11:24:16.609327Z"
    },
    "trusted": true
   },
   "outputs": [],
   "source": [
    "from sklearn.cluster import KMeans\n",
    "\n",
    "cluster_iteration = range(1,10)\n",
    "scores = []\n",
    "\n",
    "for cluster_number in cluster_iteration:\n",
    "    K_Means = KMeans(n_clusters=cluster_number, random_state=45)\n",
    "    K_Means.fit(rfm_normalized)\n",
    "    scores.append(K_Means.fit(rfm_normalized).score(rfm_normalized))"
   ]
  },
  {
   "cell_type": "markdown",
   "metadata": {},
   "source": [
    "#### Elbow Curve (Number of Clusters Vs Score)"
   ]
  },
  {
   "cell_type": "code",
   "execution_count": 77,
   "metadata": {
    "execution": {
     "iopub.execute_input": "2023-11-07T11:24:41.788758Z",
     "iopub.status.busy": "2023-11-07T11:24:41.788195Z",
     "iopub.status.idle": "2023-11-07T11:24:42.066113Z",
     "shell.execute_reply": "2023-11-07T11:24:42.064824Z",
     "shell.execute_reply.started": "2023-11-07T11:24:41.788709Z"
    },
    "trusted": true
   },
   "outputs": [
    {
     "data": {
      "image/png": "[encoded data removed]",
      "text/plain": [
       "<Figure size 640x480 with 1 Axes>"
      ]
     },
     "metadata": {},
     "output_type": "display_data"
    }
   ],
   "source": [
    "plt.plot(cluster_iteration,scores)\n",
    "plt.xlabel('Number of Clusters')\n",
    "plt.ylabel('Score')\n",
    "plt.title('Elbow Curve')\n",
    "plt.xticks(cluster_iteration)\n",
    "plt.style.use('ggplot')\n",
    "plt.show()"
   ]
  },
  {
   "cell_type": "markdown",
   "metadata": {},
   "source": [
    "#### Inference\n",
    "- From the Elbow Curve, we found that optimal **number of clusters (n_clusters) is 5**"
   ]
  },
  {
   "cell_type": "markdown",
   "metadata": {},
   "source": [
    "#### Method-2: Using `.inertia_` method (Within-Cluster Sum of Sqaures)"
   ]
  },
  {
   "cell_type": "code",
   "execution_count": 78,
   "metadata": {
    "execution": {
     "iopub.execute_input": "2023-11-07T11:24:42.067916Z",
     "iopub.status.busy": "2023-11-07T11:24:42.067544Z",
     "iopub.status.idle": "2023-11-07T11:24:53.306499Z",
     "shell.execute_reply": "2023-11-07T11:24:53.305586Z",
     "shell.execute_reply.started": "2023-11-07T11:24:42.067886Z"
    },
    "scrolled": true,
    "trusted": true
   },
   "outputs": [],
   "source": [
    "from sklearn.cluster import KMeans\n",
    "\n",
    "cluster_iteration = range(1,10)\n",
    "inertias = []\n",
    "\n",
    "for cluster_number in cluster_iteration:\n",
    "    K_Means = KMeans(n_clusters=cluster_number, random_state=45)\n",
    "    K_Means.fit(rfm_normalized)\n",
    "    inertias.append(K_Means.inertia_)"
   ]
  },
  {
   "cell_type": "markdown",
   "metadata": {},
   "source": [
    "#### Elbow Curve (Number of Clusters Vs Inertia)"
   ]
  },
  {
   "cell_type": "code",
   "execution_count": 79,
   "metadata": {
    "execution": {
     "iopub.execute_input": "2023-11-07T11:24:53.310142Z",
     "iopub.status.busy": "2023-11-07T11:24:53.309306Z",
     "iopub.status.idle": "2023-11-07T11:24:53.596837Z",
     "shell.execute_reply": "2023-11-07T11:24:53.595757Z",
     "shell.execute_reply.started": "2023-11-07T11:24:53.310097Z"
    },
    "trusted": true
   },
   "outputs": [
    {
     "data": {
      "image/png": "[encoded data removed]",
      "text/plain": [
       "<Figure size 640x480 with 1 Axes>"
      ]
     },
     "metadata": {},
     "output_type": "display_data"
    }
   ],
   "source": [
    "plt.plot(cluster_iteration,inertias)\n",
    "plt.xlabel('Number of Clusters')\n",
    "plt.ylabel('Inertia(Within-Cluster Sum of Squares)')\n",
    "plt.title('Elbow Curve')\n",
    "plt.xticks(cluster_iteration)\n",
    "plt.style.use('ggplot')\n",
    "plt.show()"
   ]
  },
  {
   "cell_type": "markdown",
   "metadata": {},
   "source": [
    "#### Inference\n",
    "- From the Elbow Curve, we found that optimal **number of clusters (n_clusters) is 5**"
   ]
  },
  {
   "cell_type": "markdown",
   "metadata": {},
   "source": [
    "### Silhouette Score Method\n",
    "\n",
    "$$\\text{Silhouette Score} = \\frac{p - q}{\\max(p, q)}$$\n",
    "\n",
    "- **`p`** is the average distance from the data point to other data points in the same cluster (intra-cluster distance)\n",
    "\n",
    "- **`q`** is is the smallest average distance from the data point to data points in a different cluster, minimized over clusters (inter-cluster distance).\n",
    "\n",
    "The value of the silhouette score range lies between **-1 to 1**. \n",
    "\n",
    "    - A high silhouette score indicates that the object is well matched to its own cluster and poorly matched to neighboring clusters.\n",
    "    - A score near 0 indicates that the object is on or very close to the decision boundary between two neighboring clusters.\n",
    "    - A low score indicates that the object may have been assigned to the wrong cluster."
   ]
  },
  {
   "cell_type": "code",
   "execution_count": 80,
   "metadata": {
    "execution": {
     "iopub.execute_input": "2023-11-07T11:24:53.599131Z",
     "iopub.status.busy": "2023-11-07T11:24:53.598472Z",
     "iopub.status.idle": "2023-11-07T11:25:08.058786Z",
     "shell.execute_reply": "2023-11-07T11:25:08.057706Z",
     "shell.execute_reply.started": "2023-11-07T11:24:53.599089Z"
    },
    "trusted": true
   },
   "outputs": [
    {
     "name": "stdout",
     "output_type": "stream",
     "text": [
      "For n_clusters=2, the Silhouette score is 0.4123261308720177\n",
      "For n_clusters=3, the Silhouette score is 0.365780580504164\n",
      "For n_clusters=4, the Silhouette score is 0.36338727455806596\n",
      "For n_clusters=5, the Silhouette score is 0.34481314227766485\n",
      "For n_clusters=6, the Silhouette score is 0.3125165446014721\n",
      "For n_clusters=7, the Silhouette score is 0.310116847330462\n",
      "For n_clusters=8, the Silhouette score is 0.31155065749796657\n",
      "For n_clusters=9, the Silhouette score is 0.290639337470191\n"
     ]
    }
   ],
   "source": [
    "from sklearn.cluster import KMeans\n",
    "\n",
    "cluster_iteration = range(2,10)  # Start from at least 2 clusters (Silhouette Score Requirement)\n",
    "inertias = []\n",
    "\n",
    "for cluster_number in cluster_iteration:\n",
    "    K_Means = KMeans(n_clusters=cluster_number, random_state=45)\n",
    "    K_Means.fit(rfm_normalized)\n",
    "    clustered_labels = K_Means.labels_\n",
    "    \n",
    "    silhouette_avg = silhouette_score(rfm_normalized,clustered_labels)\n",
    "    print(f'For n_clusters={cluster_number}, the Silhouette score is {silhouette_avg}')"
   ]
  },
  {
   "cell_type": "markdown",
   "metadata": {},
   "source": [
    "#### Inference\n",
    "\n",
    "- From Silhouette Score Analysis for different clusters, we found that optimal **number of cluster(n_clusters) is 5**."
   ]
  },
  {
   "cell_type": "markdown",
   "metadata": {},
   "source": [
    "**`Note:`** The choice of number of clusters should be based on combination of quantitative metrics like Elbow method, silhouette score and domain specific knnowledge to ensure that the clusters make sense for your specific use case."
   ]
  },
  {
   "cell_type": "markdown",
   "metadata": {},
   "source": [
    "### Final Model with number of clusters(n_cluster) = 5"
   ]
  },
  {
   "cell_type": "code",
   "execution_count": 81,
   "metadata": {
    "execution": {
     "iopub.execute_input": "2023-11-07T11:25:08.060606Z",
     "iopub.status.busy": "2023-11-07T11:25:08.060211Z",
     "iopub.status.idle": "2023-11-07T11:25:09.307064Z",
     "shell.execute_reply": "2023-11-07T11:25:09.306204Z",
     "shell.execute_reply.started": "2023-11-07T11:25:08.060578Z"
    },
    "trusted": true
   },
   "outputs": [
    {
     "data": {
      "text/html": [
       "<style>#sk-container-id-1 {color: black;background-color: white;}#sk-container-id-1 pre{padding: 0;}#sk-container-id-1 div.sk-toggleable {background-color: white;}#sk-container-id-1 label.sk-toggleable__label {cursor: pointer;display: block;width: 100%;margin-bottom: 0;padding: 0.3em;box-sizing: border-box;text-align: center;}#sk-container-id-1 label.sk-toggleable__label-arrow:before {content: \"▸\";float: left;margin-right: 0.25em;color: #696969;}#sk-container-id-1 label.sk-toggleable__label-arrow:hover:before {color: black;}#sk-container-id-1 div.sk-estimator:hover label.sk-toggleable__label-arrow:before {color: black;}#sk-container-id-1 div.sk-toggleable__content {max-height: 0;max-width: 0;overflow: hidden;text-align: left;background-color: #f0f8ff;}#sk-container-id-1 div.sk-toggleable__content pre {margin: 0.2em;color: black;border-radius: 0.25em;background-color: #f0f8ff;}#sk-container-id-1 input.sk-toggleable__control:checked~div.sk-toggleable__content {max-height: 200px;max-width: 100%;overflow: auto;}#sk-container-id-1 input.sk-toggleable__control:checked~label.sk-toggleable__label-arrow:before {content: \"▾\";}#sk-container-id-1 div.sk-estimator input.sk-toggleable__control:checked~label.sk-toggleable__label {background-color: #d4ebff;}#sk-container-id-1 div.sk-label input.sk-toggleable__control:checked~label.sk-toggleable__label {background-color: #d4ebff;}#sk-container-id-1 input.sk-hidden--visually {border: 0;clip: rect(1px 1px 1px 1px);clip: rect(1px, 1px, 1px, 1px);height: 1px;margin: -1px;overflow: hidden;padding: 0;position: absolute;width: 1px;}#sk-container-id-1 div.sk-estimator {font-family: monospace;background-color: #f0f8ff;border: 1px dotted black;border-radius: 0.25em;box-sizing: border-box;margin-bottom: 0.5em;}#sk-container-id-1 div.sk-estimator:hover {background-color: #d4ebff;}#sk-container-id-1 div.sk-parallel-item::after {content: \"\";width: 100%;border-bottom: 1px solid gray;flex-grow: 1;}#sk-container-id-1 div.sk-label:hover label.sk-toggleable__label {background-color: #d4ebff;}#sk-container-id-1 div.sk-serial::before {content: \"\";position: absolute;border-left: 1px solid gray;box-sizing: border-box;top: 0;bottom: 0;left: 50%;z-index: 0;}#sk-container-id-1 div.sk-serial {display: flex;flex-direction: column;align-items: center;background-color: white;padding-right: 0.2em;padding-left: 0.2em;position: relative;}#sk-container-id-1 div.sk-item {position: relative;z-index: 1;}#sk-container-id-1 div.sk-parallel {display: flex;align-items: stretch;justify-content: center;background-color: white;position: relative;}#sk-container-id-1 div.sk-item::before, #sk-container-id-1 div.sk-parallel-item::before {content: \"\";position: absolute;border-left: 1px solid gray;box-sizing: border-box;top: 0;bottom: 0;left: 50%;z-index: -1;}#sk-container-id-1 div.sk-parallel-item {display: flex;flex-direction: column;z-index: 1;position: relative;background-color: white;}#sk-container-id-1 div.sk-parallel-item:first-child::after {align-self: flex-end;width: 50%;}#sk-container-id-1 div.sk-parallel-item:last-child::after {align-self: flex-start;width: 50%;}#sk-container-id-1 div.sk-parallel-item:only-child::after {width: 0;}#sk-container-id-1 div.sk-dashed-wrapped {border: 1px dashed gray;margin: 0 0.4em 0.5em 0.4em;box-sizing: border-box;padding-bottom: 0.4em;background-color: white;}#sk-container-id-1 div.sk-label label {font-family: monospace;font-weight: bold;display: inline-block;line-height: 1.2em;}#sk-container-id-1 div.sk-label-container {text-align: center;}#sk-container-id-1 div.sk-container {/* jupyter's `normalize.less` sets `[hidden] { display: none; }` but bootstrap.min.css set `[hidden] { display: none !important; }` so we also need the `!important` here to be able to override the default hidden behavior on the sphinx rendered scikit-learn.org. See: https://github.com/scikit-learn/scikit-learn/issues/21755 */display: inline-block !important;position: relative;}#sk-container-id-1 div.sk-text-repr-fallback {display: none;}</style><div id=\"sk-container-id-1\" class=\"sk-top-container\"><div class=\"sk-text-repr-fallback\"><pre>KMeans(n_clusters=5, random_state=45)</pre><b>In a Jupyter environment, please rerun this cell to show the HTML representation or trust the notebook. <br />On GitHub, the HTML representation is unable to render, please try loading this page with nbviewer.org.</b></div><div class=\"sk-container\" hidden><div class=\"sk-item\"><div class=\"sk-estimator sk-toggleable\"><input class=\"sk-toggleable__control sk-hidden--visually\" id=\"sk-estimator-id-1\" type=\"checkbox\" checked><label for=\"sk-estimator-id-1\" class=\"sk-toggleable__label sk-toggleable__label-arrow\">KMeans</label><div class=\"sk-toggleable__content\"><pre>KMeans(n_clusters=5, random_state=45)</pre></div></div></div></div></div>"
      ],
      "text/plain": [
       "KMeans(n_clusters=5, random_state=45)"
      ]
     },
     "execution_count": 81,
     "metadata": {},
     "output_type": "execute_result"
    }
   ],
   "source": [
    "# Clustering for final model\n",
    "K_Means_final_model = KMeans(n_clusters= 5, random_state=45)\n",
    "K_Means_final_model.fit(rfm_normalized)"
   ]
  },
  {
   "cell_type": "code",
   "execution_count": 82,
   "metadata": {
    "execution": {
     "iopub.execute_input": "2023-11-07T11:25:09.309102Z",
     "iopub.status.busy": "2023-11-07T11:25:09.308446Z",
     "iopub.status.idle": "2023-11-07T11:25:09.312841Z",
     "shell.execute_reply": "2023-11-07T11:25:09.312091Z",
     "shell.execute_reply.started": "2023-11-07T11:25:09.309065Z"
    },
    "trusted": true
   },
   "outputs": [],
   "source": [
    "#Create a cluster label column in the original DataFrame\n",
    "cluster_labels = K_Means_final_model.labels_"
   ]
  },
  {
   "cell_type": "code",
   "execution_count": 83,
   "metadata": {
    "execution": {
     "iopub.execute_input": "2023-11-07T11:25:09.314695Z",
     "iopub.status.busy": "2023-11-07T11:25:09.314130Z",
     "iopub.status.idle": "2023-11-07T11:25:09.326498Z",
     "shell.execute_reply": "2023-11-07T11:25:09.325681Z",
     "shell.execute_reply.started": "2023-11-07T11:25:09.314664Z"
    },
    "trusted": true
   },
   "outputs": [
    {
     "data": {
      "text/plain": [
       "array([4, 4, 0, ..., 1, 3, 4], dtype=int32)"
      ]
     },
     "execution_count": 83,
     "metadata": {},
     "output_type": "execute_result"
    }
   ],
   "source": [
    "cluster_labels"
   ]
  },
  {
   "cell_type": "code",
   "execution_count": 84,
   "metadata": {
    "execution": {
     "iopub.execute_input": "2023-11-07T11:25:09.328052Z",
     "iopub.status.busy": "2023-11-07T11:25:09.327689Z",
     "iopub.status.idle": "2023-11-07T11:25:09.337824Z",
     "shell.execute_reply": "2023-11-07T11:25:09.337000Z",
     "shell.execute_reply.started": "2023-11-07T11:25:09.328021Z"
    },
    "trusted": true
   },
   "outputs": [],
   "source": [
    "rfm['Cluster'] = cluster_labels"
   ]
  },
  {
   "cell_type": "code",
   "execution_count": 85,
   "metadata": {
    "execution": {
     "iopub.execute_input": "2023-11-07T11:25:09.341978Z",
     "iopub.status.busy": "2023-11-07T11:25:09.341307Z",
     "iopub.status.idle": "2023-11-07T11:25:09.354779Z",
     "shell.execute_reply": "2023-11-07T11:25:09.353997Z",
     "shell.execute_reply.started": "2023-11-07T11:25:09.341942Z"
    },
    "trusted": true
   },
   "outputs": [
    {
     "data": {
      "text/html": [
       "<div>\n",
       "<style scoped>\n",
       "    .dataframe tbody tr th:only-of-type {\n",
       "        vertical-align: middle;\n",
       "    }\n",
       "\n",
       "    .dataframe tbody tr th {\n",
       "        vertical-align: top;\n",
       "    }\n",
       "\n",
       "    .dataframe thead th {\n",
       "        text-align: right;\n",
       "    }\n",
       "</style>\n",
       "<table border=\"1\" class=\"dataframe\">\n",
       "  <thead>\n",
       "    <tr style=\"text-align: right;\">\n",
       "      <th></th>\n",
       "      <th>Customer ID</th>\n",
       "      <th>Monetary</th>\n",
       "      <th>Frequency</th>\n",
       "      <th>Recency</th>\n",
       "      <th>Cluster</th>\n",
       "    </tr>\n",
       "  </thead>\n",
       "  <tbody>\n",
       "    <tr>\n",
       "      <th>0</th>\n",
       "      <td>12346.0</td>\n",
       "      <td>77556.46</td>\n",
       "      <td>34</td>\n",
       "      <td>325</td>\n",
       "      <td>4</td>\n",
       "    </tr>\n",
       "    <tr>\n",
       "      <th>1</th>\n",
       "      <td>12347.0</td>\n",
       "      <td>5633.32</td>\n",
       "      <td>253</td>\n",
       "      <td>1</td>\n",
       "      <td>4</td>\n",
       "    </tr>\n",
       "    <tr>\n",
       "      <th>2</th>\n",
       "      <td>12348.0</td>\n",
       "      <td>2019.40</td>\n",
       "      <td>51</td>\n",
       "      <td>74</td>\n",
       "      <td>0</td>\n",
       "    </tr>\n",
       "    <tr>\n",
       "      <th>3</th>\n",
       "      <td>12349.0</td>\n",
       "      <td>4428.69</td>\n",
       "      <td>175</td>\n",
       "      <td>18</td>\n",
       "      <td>4</td>\n",
       "    </tr>\n",
       "    <tr>\n",
       "      <th>4</th>\n",
       "      <td>12350.0</td>\n",
       "      <td>334.40</td>\n",
       "      <td>17</td>\n",
       "      <td>309</td>\n",
       "      <td>2</td>\n",
       "    </tr>\n",
       "  </tbody>\n",
       "</table>\n",
       "</div>"
      ],
      "text/plain": [
       "  Customer ID  Monetary  Frequency  Recency  Cluster\n",
       "0     12346.0  77556.46         34      325        4\n",
       "1     12347.0   5633.32        253        1        4\n",
       "2     12348.0   2019.40         51       74        0\n",
       "3     12349.0   4428.69        175       18        4\n",
       "4     12350.0    334.40         17      309        2"
      ]
     },
     "execution_count": 85,
     "metadata": {},
     "output_type": "execute_result"
    }
   ],
   "source": [
    "rfm.head()"
   ]
  },
  {
   "cell_type": "code",
   "execution_count": 86,
   "metadata": {
    "execution": {
     "iopub.execute_input": "2023-11-07T11:25:09.356667Z",
     "iopub.status.busy": "2023-11-07T11:25:09.356091Z",
     "iopub.status.idle": "2023-11-07T11:25:09.377757Z",
     "shell.execute_reply": "2023-11-07T11:25:09.376213Z",
     "shell.execute_reply.started": "2023-11-07T11:25:09.356636Z"
    },
    "trusted": true
   },
   "outputs": [
    {
     "data": {
      "text/html": [
       "<div>\n",
       "<style scoped>\n",
       "    .dataframe tbody tr th:only-of-type {\n",
       "        vertical-align: middle;\n",
       "    }\n",
       "\n",
       "    .dataframe tbody tr th {\n",
       "        vertical-align: top;\n",
       "    }\n",
       "\n",
       "    .dataframe thead tr th {\n",
       "        text-align: left;\n",
       "    }\n",
       "\n",
       "    .dataframe thead tr:last-of-type th {\n",
       "        text-align: right;\n",
       "    }\n",
       "</style>\n",
       "<table border=\"1\" class=\"dataframe\">\n",
       "  <thead>\n",
       "    <tr>\n",
       "      <th></th>\n",
       "      <th>Recency</th>\n",
       "      <th>Frequency</th>\n",
       "      <th colspan=\"2\" halign=\"left\">Monetary</th>\n",
       "    </tr>\n",
       "    <tr>\n",
       "      <th></th>\n",
       "      <th>mean</th>\n",
       "      <th>mean</th>\n",
       "      <th>mean</th>\n",
       "      <th>count</th>\n",
       "    </tr>\n",
       "    <tr>\n",
       "      <th>Cluster</th>\n",
       "      <th></th>\n",
       "      <th></th>\n",
       "      <th></th>\n",
       "      <th></th>\n",
       "    </tr>\n",
       "  </thead>\n",
       "  <tbody>\n",
       "    <tr>\n",
       "      <th>0</th>\n",
       "      <td>66.0</td>\n",
       "      <td>87.0</td>\n",
       "      <td>1427.0</td>\n",
       "      <td>1754</td>\n",
       "    </tr>\n",
       "    <tr>\n",
       "      <th>1</th>\n",
       "      <td>537.0</td>\n",
       "      <td>13.0</td>\n",
       "      <td>252.0</td>\n",
       "      <td>873</td>\n",
       "    </tr>\n",
       "    <tr>\n",
       "      <th>2</th>\n",
       "      <td>115.0</td>\n",
       "      <td>17.0</td>\n",
       "      <td>333.0</td>\n",
       "      <td>965</td>\n",
       "    </tr>\n",
       "    <tr>\n",
       "      <th>3</th>\n",
       "      <td>412.0</td>\n",
       "      <td>66.0</td>\n",
       "      <td>1141.0</td>\n",
       "      <td>1028</td>\n",
       "    </tr>\n",
       "    <tr>\n",
       "      <th>4</th>\n",
       "      <td>46.0</td>\n",
       "      <td>444.0</td>\n",
       "      <td>10752.0</td>\n",
       "      <td>1258</td>\n",
       "    </tr>\n",
       "  </tbody>\n",
       "</table>\n",
       "</div>"
      ],
      "text/plain": [
       "        Recency Frequency Monetary      \n",
       "           mean      mean     mean count\n",
       "Cluster                                 \n",
       "0          66.0      87.0   1427.0  1754\n",
       "1         537.0      13.0    252.0   873\n",
       "2         115.0      17.0    333.0   965\n",
       "3         412.0      66.0   1141.0  1028\n",
       "4          46.0     444.0  10752.0  1258"
      ]
     },
     "execution_count": 86,
     "metadata": {},
     "output_type": "execute_result"
    }
   ],
   "source": [
    "rfm.groupby('Cluster').agg({'Recency': 'mean',\n",
    "                            'Frequency': 'mean',\n",
    "                            'Monetary': ['mean', 'count'],}).round(0)"
   ]
  },
  {
   "cell_type": "markdown",
   "metadata": {},
   "source": [
    "#### Inference\n",
    "\t\n",
    "- **Cluster_0:**\t1259\n",
    "- **Cluster_1:**\t873\n",
    "- **Cluster_2:**\t1752\n",
    "- **Cluster_3:**\t1029\n",
    "- **Cluster_4:**\t965"
   ]
  },
  {
   "cell_type": "code",
   "execution_count": 87,
   "metadata": {
    "execution": {
     "iopub.execute_input": "2023-11-07T11:25:09.379546Z",
     "iopub.status.busy": "2023-11-07T11:25:09.379182Z",
     "iopub.status.idle": "2023-11-07T11:25:09.385450Z",
     "shell.execute_reply": "2023-11-07T11:25:09.384199Z",
     "shell.execute_reply.started": "2023-11-07T11:25:09.379505Z"
    },
    "trusted": true
   },
   "outputs": [],
   "source": [
    "rfm_scores['Cluster'] = cluster_labels"
   ]
  },
  {
   "cell_type": "code",
   "execution_count": 88,
   "metadata": {
    "execution": {
     "iopub.execute_input": "2023-11-07T11:25:09.387809Z",
     "iopub.status.busy": "2023-11-07T11:25:09.387238Z",
     "iopub.status.idle": "2023-11-07T11:25:09.416349Z",
     "shell.execute_reply": "2023-11-07T11:25:09.415090Z",
     "shell.execute_reply.started": "2023-11-07T11:25:09.387697Z"
    },
    "trusted": true
   },
   "outputs": [
    {
     "data": {
      "text/html": [
       "<div>\n",
       "<style scoped>\n",
       "    .dataframe tbody tr th:only-of-type {\n",
       "        vertical-align: middle;\n",
       "    }\n",
       "\n",
       "    .dataframe tbody tr th {\n",
       "        vertical-align: top;\n",
       "    }\n",
       "\n",
       "    .dataframe thead th {\n",
       "        text-align: right;\n",
       "    }\n",
       "</style>\n",
       "<table border=\"1\" class=\"dataframe\">\n",
       "  <thead>\n",
       "    <tr style=\"text-align: right;\">\n",
       "      <th></th>\n",
       "      <th>Customer ID</th>\n",
       "      <th>Monetary</th>\n",
       "      <th>Frequency</th>\n",
       "      <th>Recency</th>\n",
       "      <th>Recency_Score</th>\n",
       "      <th>Frequency_Score</th>\n",
       "      <th>Monetary_Score</th>\n",
       "      <th>RFM_Score_Segment</th>\n",
       "      <th>RFM_Score_Sum</th>\n",
       "      <th>Segment Name</th>\n",
       "      <th>Segment</th>\n",
       "      <th>Segment_New</th>\n",
       "      <th>Cluster</th>\n",
       "    </tr>\n",
       "  </thead>\n",
       "  <tbody>\n",
       "    <tr>\n",
       "      <th>0</th>\n",
       "      <td>12346.0</td>\n",
       "      <td>77556.46</td>\n",
       "      <td>34</td>\n",
       "      <td>325</td>\n",
       "      <td>2</td>\n",
       "      <td>2</td>\n",
       "      <td>5</td>\n",
       "      <td>225</td>\n",
       "      <td>9</td>\n",
       "      <td>Sliver</td>\n",
       "      <td>Hibernating</td>\n",
       "      <td>Big Spenders</td>\n",
       "      <td>4</td>\n",
       "    </tr>\n",
       "    <tr>\n",
       "      <th>1</th>\n",
       "      <td>12347.0</td>\n",
       "      <td>5633.32</td>\n",
       "      <td>253</td>\n",
       "      <td>1</td>\n",
       "      <td>5</td>\n",
       "      <td>5</td>\n",
       "      <td>5</td>\n",
       "      <td>555</td>\n",
       "      <td>15</td>\n",
       "      <td>Gold</td>\n",
       "      <td>Champions</td>\n",
       "      <td>Best Customers</td>\n",
       "      <td>4</td>\n",
       "    </tr>\n",
       "    <tr>\n",
       "      <th>2</th>\n",
       "      <td>12348.0</td>\n",
       "      <td>2019.40</td>\n",
       "      <td>51</td>\n",
       "      <td>74</td>\n",
       "      <td>3</td>\n",
       "      <td>3</td>\n",
       "      <td>4</td>\n",
       "      <td>334</td>\n",
       "      <td>10</td>\n",
       "      <td>Gold</td>\n",
       "      <td>Need Attention</td>\n",
       "      <td>Big Spenders</td>\n",
       "      <td>0</td>\n",
       "    </tr>\n",
       "    <tr>\n",
       "      <th>3</th>\n",
       "      <td>12349.0</td>\n",
       "      <td>4428.69</td>\n",
       "      <td>175</td>\n",
       "      <td>18</td>\n",
       "      <td>5</td>\n",
       "      <td>4</td>\n",
       "      <td>5</td>\n",
       "      <td>545</td>\n",
       "      <td>14</td>\n",
       "      <td>Gold</td>\n",
       "      <td>Champions</td>\n",
       "      <td>Best Customers</td>\n",
       "      <td>4</td>\n",
       "    </tr>\n",
       "    <tr>\n",
       "      <th>4</th>\n",
       "      <td>12350.0</td>\n",
       "      <td>334.40</td>\n",
       "      <td>17</td>\n",
       "      <td>309</td>\n",
       "      <td>2</td>\n",
       "      <td>2</td>\n",
       "      <td>2</td>\n",
       "      <td>222</td>\n",
       "      <td>6</td>\n",
       "      <td>Sliver</td>\n",
       "      <td>Hibernating</td>\n",
       "      <td>Almost Lost</td>\n",
       "      <td>2</td>\n",
       "    </tr>\n",
       "    <tr>\n",
       "      <th>...</th>\n",
       "      <td>...</td>\n",
       "      <td>...</td>\n",
       "      <td>...</td>\n",
       "      <td>...</td>\n",
       "      <td>...</td>\n",
       "      <td>...</td>\n",
       "      <td>...</td>\n",
       "      <td>...</td>\n",
       "      <td>...</td>\n",
       "      <td>...</td>\n",
       "      <td>...</td>\n",
       "      <td>...</td>\n",
       "      <td>...</td>\n",
       "    </tr>\n",
       "    <tr>\n",
       "      <th>5873</th>\n",
       "      <td>18283.0</td>\n",
       "      <td>2736.65</td>\n",
       "      <td>986</td>\n",
       "      <td>3</td>\n",
       "      <td>5</td>\n",
       "      <td>5</td>\n",
       "      <td>4</td>\n",
       "      <td>554</td>\n",
       "      <td>14</td>\n",
       "      <td>Gold</td>\n",
       "      <td>Champions</td>\n",
       "      <td>Best Customers</td>\n",
       "      <td>4</td>\n",
       "    </tr>\n",
       "    <tr>\n",
       "      <th>5874</th>\n",
       "      <td>18284.0</td>\n",
       "      <td>461.68</td>\n",
       "      <td>28</td>\n",
       "      <td>431</td>\n",
       "      <td>1</td>\n",
       "      <td>2</td>\n",
       "      <td>2</td>\n",
       "      <td>122</td>\n",
       "      <td>5</td>\n",
       "      <td>Bronze</td>\n",
       "      <td>Hibernating</td>\n",
       "      <td>Lost Customers</td>\n",
       "      <td>3</td>\n",
       "    </tr>\n",
       "    <tr>\n",
       "      <th>5875</th>\n",
       "      <td>18285.0</td>\n",
       "      <td>427.00</td>\n",
       "      <td>12</td>\n",
       "      <td>660</td>\n",
       "      <td>1</td>\n",
       "      <td>1</td>\n",
       "      <td>2</td>\n",
       "      <td>112</td>\n",
       "      <td>4</td>\n",
       "      <td>Bronze</td>\n",
       "      <td>Hibernating</td>\n",
       "      <td>Lost Customers</td>\n",
       "      <td>1</td>\n",
       "    </tr>\n",
       "    <tr>\n",
       "      <th>5876</th>\n",
       "      <td>18286.0</td>\n",
       "      <td>1296.43</td>\n",
       "      <td>67</td>\n",
       "      <td>476</td>\n",
       "      <td>1</td>\n",
       "      <td>3</td>\n",
       "      <td>4</td>\n",
       "      <td>134</td>\n",
       "      <td>8</td>\n",
       "      <td>Sliver</td>\n",
       "      <td>At Risk</td>\n",
       "      <td>Big Spenders</td>\n",
       "      <td>3</td>\n",
       "    </tr>\n",
       "    <tr>\n",
       "      <th>5877</th>\n",
       "      <td>18287.0</td>\n",
       "      <td>4182.99</td>\n",
       "      <td>155</td>\n",
       "      <td>42</td>\n",
       "      <td>4</td>\n",
       "      <td>4</td>\n",
       "      <td>5</td>\n",
       "      <td>445</td>\n",
       "      <td>13</td>\n",
       "      <td>Gold</td>\n",
       "      <td>Loyal Customers</td>\n",
       "      <td>Best Customers</td>\n",
       "      <td>4</td>\n",
       "    </tr>\n",
       "  </tbody>\n",
       "</table>\n",
       "<p>5878 rows × 13 columns</p>\n",
       "</div>"
      ],
      "text/plain": [
       "     Customer ID  Monetary  Frequency  Recency Recency_Score Frequency_Score  \\\n",
       "0        12346.0  77556.46         34      325             2               2   \n",
       "1        12347.0   5633.32        253        1             5               5   \n",
       "2        12348.0   2019.40         51       74             3               3   \n",
       "3        12349.0   4428.69        175       18             5               4   \n",
       "4        12350.0    334.40         17      309             2               2   \n",
       "...          ...       ...        ...      ...           ...             ...   \n",
       "5873     18283.0   2736.65        986        3             5               5   \n",
       "5874     18284.0    461.68         28      431             1               2   \n",
       "5875     18285.0    427.00         12      660             1               1   \n",
       "5876     18286.0   1296.43         67      476             1               3   \n",
       "5877     18287.0   4182.99        155       42             4               4   \n",
       "\n",
       "     Monetary_Score RFM_Score_Segment  RFM_Score_Sum Segment Name  \\\n",
       "0                 5               225              9       Sliver   \n",
       "1                 5               555             15         Gold   \n",
       "2                 4               334             10         Gold   \n",
       "3                 5               545             14         Gold   \n",
       "4                 2               222              6       Sliver   \n",
       "...             ...               ...            ...          ...   \n",
       "5873              4               554             14         Gold   \n",
       "5874              2               122              5       Bronze   \n",
       "5875              2               112              4       Bronze   \n",
       "5876              4               134              8       Sliver   \n",
       "5877              5               445             13         Gold   \n",
       "\n",
       "              Segment     Segment_New  Cluster  \n",
       "0         Hibernating    Big Spenders        4  \n",
       "1           Champions  Best Customers        4  \n",
       "2      Need Attention    Big Spenders        0  \n",
       "3           Champions  Best Customers        4  \n",
       "4         Hibernating     Almost Lost        2  \n",
       "...               ...             ...      ...  \n",
       "5873        Champions  Best Customers        4  \n",
       "5874      Hibernating  Lost Customers        3  \n",
       "5875      Hibernating  Lost Customers        1  \n",
       "5876          At Risk    Big Spenders        3  \n",
       "5877  Loyal Customers  Best Customers        4  \n",
       "\n",
       "[5878 rows x 13 columns]"
      ]
     },
     "execution_count": 88,
     "metadata": {},
     "output_type": "execute_result"
    }
   ],
   "source": [
    "rfm_scores"
   ]
  },
  {
   "cell_type": "code",
   "execution_count": 89,
   "metadata": {
    "execution": {
     "iopub.execute_input": "2023-11-07T11:25:09.418331Z",
     "iopub.status.busy": "2023-11-07T11:25:09.417871Z",
     "iopub.status.idle": "2023-11-07T11:25:09.736233Z",
     "shell.execute_reply": "2023-11-07T11:25:09.735234Z",
     "shell.execute_reply.started": "2023-11-07T11:25:09.418297Z"
    },
    "trusted": true
   },
   "outputs": [
    {
     "data": {
      "text/plain": [
       "<Figure size 1000x600 with 0 Axes>"
      ]
     },
     "metadata": {},
     "output_type": "display_data"
    },
    {
     "data": {
      "image/png": "[encoded data removed]",
      "text/plain": [
       "<Figure size 640x480 with 1 Axes>"
      ]
     },
     "metadata": {},
     "output_type": "display_data"
    }
   ],
   "source": [
    "plt.figure(figsize=(10, 6))\n",
    "rfm_scores.boxplot(column='Recency', by='Cluster', patch_artist=True, showfliers=False)\n",
    "plt.xlabel('Cluster')\n",
    "plt.ylabel('Recency')\n",
    "plt.show()"
   ]
  },
  {
   "cell_type": "code",
   "execution_count": 90,
   "metadata": {
    "execution": {
     "iopub.execute_input": "2023-11-07T11:25:09.738128Z",
     "iopub.status.busy": "2023-11-07T11:25:09.737633Z",
     "iopub.status.idle": "2023-11-07T11:25:10.018297Z",
     "shell.execute_reply": "2023-11-07T11:25:10.017297Z",
     "shell.execute_reply.started": "2023-11-07T11:25:09.738051Z"
    },
    "trusted": true
   },
   "outputs": [
    {
     "data": {
      "text/plain": [
       "<Figure size 1000x600 with 0 Axes>"
      ]
     },
     "metadata": {},
     "output_type": "display_data"
    },
    {
     "data": {
      "image/png": "[encoded data removed]",
      "text/plain": [
       "<Figure size 640x480 with 1 Axes>"
      ]
     },
     "metadata": {},
     "output_type": "display_data"
    }
   ],
   "source": [
    "plt.figure(figsize=(10, 6))\n",
    "rfm_scores.boxplot(column='Frequency', by='Cluster', patch_artist=True, showfliers=False)\n",
    "plt.xlabel('Cluster')\n",
    "plt.ylabel('Frequency')\n",
    "plt.show()"
   ]
  },
  {
   "cell_type": "code",
   "execution_count": 91,
   "metadata": {
    "execution": {
     "iopub.execute_input": "2023-11-07T11:25:10.019983Z",
     "iopub.status.busy": "2023-11-07T11:25:10.019490Z",
     "iopub.status.idle": "2023-11-07T11:25:10.320485Z",
     "shell.execute_reply": "2023-11-07T11:25:10.319339Z",
     "shell.execute_reply.started": "2023-11-07T11:25:10.019938Z"
    },
    "trusted": true
   },
   "outputs": [
    {
     "data": {
      "text/plain": [
       "<Figure size 1000x600 with 0 Axes>"
      ]
     },
     "metadata": {},
     "output_type": "display_data"
    },
    {
     "data": {
      "image/png": "[encoded data removed]",
      "text/plain": [
       "<Figure size 640x480 with 1 Axes>"
      ]
     },
     "metadata": {},
     "output_type": "display_data"
    }
   ],
   "source": [
    "plt.figure(figsize=(10, 6))\n",
    "rfm_scores.boxplot(column='Monetary', by='Cluster', patch_artist=True, showfliers=False)\n",
    "plt.xlabel('Cluster')\n",
    "plt.ylabel('Monetary')\n",
    "plt.show()"
   ]
  }
 ],
 "metadata": {
  "kernelspec": {
   "display_name": "Python 3",
   "language": "python",
   "name": "python3"
  },
  "language_info": {
   "codemirror_mode": {
    "name": "ipython",
    "version": 3
   },
   "file_extension": ".py",
   "mimetype": "text/x-python",
   "name": "python",
   "nbconvert_exporter": "python",
   "pygments_lexer": "ipython3",
   "version": "3.10.12"
  }
 },
 "nbformat": 4,
 "nbformat_minor": 5
}
